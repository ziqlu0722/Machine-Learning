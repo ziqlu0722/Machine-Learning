{
  "nbformat": 4,
  "nbformat_minor": 0,
  "metadata": {
    "kernelspec": {
      "display_name": "Python 3",
      "language": "python",
      "name": "python3"
    },
    "language_info": {
      "codemirror_mode": {
        "name": "ipython",
        "version": 3
      },
      "file_extension": ".py",
      "mimetype": "text/x-python",
      "name": "python",
      "nbconvert_exporter": "python",
      "pygments_lexer": "ipython3",
      "version": "3.6.5"
    },
    "colab": {
      "name": "HiHoCherryO-Game-ProbabilityTransitionMatrix.ipynb",
      "version": "0.3.2",
      "provenance": [],
      "include_colab_link": true
    }
  },
  "cells": [
    {
      "cell_type": "markdown",
      "metadata": {
        "id": "view-in-github",
        "colab_type": "text"
      },
      "source": [
        "<a href=\"https://colab.research.google.com/github/ziqlu0722/Machine-Learning/blob/master/HiHoCherryO_Game_ProbabilityTransitionMatrix.ipynb\" target=\"_parent\"><img src=\"https://colab.research.google.com/assets/colab-badge.svg\" alt=\"Open In Colab\"/></a>"
      ]
    },
    {
      "cell_type": "markdown",
      "metadata": {
        "id": "9StJLGwwywM0",
        "colab_type": "text"
      },
      "source": [
        "## Game Hi Ho! Cherry-O"
      ]
    },
    {
      "cell_type": "markdown",
      "metadata": {
        "id": "XbOQhaDGywM1",
        "colab_type": "text"
      },
      "source": [
        "#### Rules:\n",
        "Each player starts the game with an empty basket and 10 cherries on his/her tree. Players take turns spinning the spinner and performing the indicated action. The spinner is divided into seven sections:\n",
        "\n",
        "- Take one cherry from tree\n",
        "- Take two cherries from tree\n",
        "- Take three cherries from tree\n",
        "- Take four cherries from tree\n",
        "- Dog: Replace cherries on tree: two if the player has at least that many in his/her basket, one if he/she has only one (no effect if player's basket is empty)\n",
        "- Bird: Same as dog\n",
        "- Spilled basket: Replace all cherries on tree\n",
        "\n",
        "The first player to collect all the cherries from his/her tree and call \"Hi Ho! Cherry-O\" wins the game."
      ]
    },
    {
      "cell_type": "markdown",
      "metadata": {
        "id": "QAPh13xRywM2",
        "colab_type": "text"
      },
      "source": [
        "### 1. Hi Ho! Cherry-O Probability Density Function"
      ]
    },
    {
      "cell_type": "markdown",
      "metadata": {
        "id": "F9pRrb62ywM3",
        "colab_type": "text"
      },
      "source": [
        "**First:** Simulate the spinner: a list of 7 different moves"
      ]
    },
    {
      "cell_type": "code",
      "metadata": {
        "id": "zoID6yDEywM3",
        "colab_type": "code",
        "colab": {},
        "outputId": "c82864cd-414c-4759-9083-ed05dc194017"
      },
      "source": [
        "spinner = \"\"\"T1 T2 T3 T4 Dog Bird Spilled\"\"\".split()\n",
        "spinner"
      ],
      "execution_count": 0,
      "outputs": [
        {
          "output_type": "execute_result",
          "data": {
            "text/plain": [
              "['T1', 'T2', 'T3', 'T4', 'Dog', 'Bird', 'Spilled']"
            ]
          },
          "metadata": {
            "tags": []
          },
          "execution_count": 2
        }
      ]
    },
    {
      "cell_type": "markdown",
      "metadata": {
        "id": "jCD-7b8-ywM7",
        "colab_type": "text"
      },
      "source": [
        "**Second:** Simulate the whole game"
      ]
    },
    {
      "cell_type": "code",
      "metadata": {
        "id": "rcjOUxipywM9",
        "colab_type": "code",
        "colab": {}
      },
      "source": [
        "import numpy as np\n",
        "import random\n",
        "\n",
        "def HHCO(times):\n",
        "    \n",
        "    # set the fruit in basket as 0 in the beginning\n",
        "    basket = 0\n",
        "    \n",
        "    for _ in range(times):\n",
        "        \n",
        "        # get a random move, which represents the index of the list of moves\n",
        "        move = random.choice(spinner)\n",
        "\n",
        "        # take one cherry from tree\n",
        "        if move == 'T1':\n",
        "            basket += 1  \n",
        "        \n",
        "        # take two cherries from tree\n",
        "        elif move == 'T2':\n",
        "            basket += 2  \n",
        "        \n",
        "        # take three cherries from tree\n",
        "        elif move == 'T3':\n",
        "            basket += 3  \n",
        "            \n",
        "        # take four cherries from tree\n",
        "        elif move == 'T4':\n",
        "            basket += 4  \n",
        "        \n",
        "        # it will be two cases:\n",
        "        # empty basket if there's 0, 1 or 2 cherries in basket\n",
        "        # move two cherries from basket back to tree if there are more than 2 cherries in the basket\n",
        "        elif move == 'Dog' or move == 'Bird':\n",
        "            if(basket <= 2):\n",
        "                basket = 0\n",
        "            else:\n",
        "                basket -=2\n",
        "        \n",
        "        # move all cherries back to tree\n",
        "        elif move == 'Spilled':\n",
        "            basket = 0  \n",
        "        \n",
        "        # if basket is full, then win and reset basket to 0\n",
        "        if basket >= 10:\n",
        "            basket = 0\n",
        "            yield 10\n",
        "        # else yield the basket\n",
        "        else:\n",
        "            yield basket"
      ],
      "execution_count": 0,
      "outputs": []
    },
    {
      "cell_type": "markdown",
      "metadata": {
        "id": "h4uHlhMdywNA",
        "colab_type": "text"
      },
      "source": [
        "**Third:** simulate game for 100,000 times, and plot"
      ]
    },
    {
      "cell_type": "code",
      "metadata": {
        "id": "N8-ccEGOywNB",
        "colab_type": "code",
        "colab": {}
      },
      "source": [
        "result = list(HHCO(100000))"
      ],
      "execution_count": 0,
      "outputs": []
    },
    {
      "cell_type": "code",
      "metadata": {
        "id": "IG8mHL22ywNF",
        "colab_type": "code",
        "colab": {},
        "outputId": "00d320bd-5412-4bb2-8e3e-9a3850984b5d"
      },
      "source": [
        "%matplotlib inline \n",
        "import matplotlib.pyplot as plt\n",
        "\n",
        "avg = len(result)/10\n",
        "plt.plot([0, 10], [avg, avg], 'r--');\n",
        "\n",
        "plt.hist(result, bins=50)\n",
        "plt.xticks(np.arange(11))"
      ],
      "execution_count": 0,
      "outputs": [
        {
          "output_type": "execute_result",
          "data": {
            "text/plain": [
              "([<matplotlib.axis.XTick at 0x11817d128>,\n",
              "  <matplotlib.axis.XTick at 0x118176a20>,\n",
              "  <matplotlib.axis.XTick at 0x118176780>,\n",
              "  <matplotlib.axis.XTick at 0x1184dfa20>,\n",
              "  <matplotlib.axis.XTick at 0x1184dfeb8>,\n",
              "  <matplotlib.axis.XTick at 0x1184e73c8>,\n",
              "  <matplotlib.axis.XTick at 0x1184e7898>,\n",
              "  <matplotlib.axis.XTick at 0x1184e7da0>,\n",
              "  <matplotlib.axis.XTick at 0x1184e7518>,\n",
              "  <matplotlib.axis.XTick at 0x1184dfac8>,\n",
              "  <matplotlib.axis.XTick at 0x1184ed668>],\n",
              " <a list of 11 Text xticklabel objects>)"
            ]
          },
          "metadata": {
            "tags": []
          },
          "execution_count": 6
        },
        {
          "output_type": "display_data",
          "data": {
            "image/png": "[encoded data removed]",
            "text/plain": [
              "<Figure size 432x288 with 1 Axes>"
            ]
          },
          "metadata": {
            "tags": []
          }
        }
      ]
    },
    {
      "cell_type": "markdown",
      "metadata": {
        "id": "Z5n6Vr3NywNI",
        "colab_type": "text"
      },
      "source": [
        "**Forth:** introduce probability counting framework"
      ]
    },
    {
      "cell_type": "code",
      "metadata": {
        "id": "6td7zfh7ywNJ",
        "colab_type": "code",
        "colab": {}
      },
      "source": [
        "from fractions import Fraction\n",
        "\n",
        "class ProbabilityDistribution(dict):\n",
        "    \"A Probability Distribution; an {outcome: probability} mapping where probabilities sum to 1.\"\n",
        "    def __init__(self, mapping=(), **kwargs):\n",
        "        self.update(mapping, **kwargs)\n",
        "        total = sum(self.values())\n",
        "        if isinstance(total, int): \n",
        "            total = Fraction(total, 1)\n",
        "        for key in self: # Make probabilities sum to 1.\n",
        "            self[key] = self[key] / total\n",
        "            \n",
        "    def __and__(self, pred): # Call this method by writing ProbabilityDistribution & predicate\n",
        "        \"New ProbabilityDistribution, for outcomes of this ProbabilityDistribution for which pred is true.\"\n",
        "        return ProbabilityDistribution({e:self[e] for e in self if pred(e)})"
      ],
      "execution_count": 0,
      "outputs": []
    },
    {
      "cell_type": "code",
      "metadata": {
        "id": "o5Kafq_DywNM",
        "colab_type": "code",
        "colab": {},
        "outputId": "834cc29f-5f0b-4681-a024-a3a4d32f0a15"
      },
      "source": [
        "from collections import Counter\n",
        "\n",
        "pd_HHCO = ProbabilityDistribution(Counter(result))\n",
        "pd_HHCO"
      ],
      "execution_count": 0,
      "outputs": [
        {
          "output_type": "execute_result",
          "data": {
            "text/plain": [
              "{2: Fraction(9353, 100000),\n",
              " 4: Fraction(10633, 100000),\n",
              " 5: Fraction(141, 2000),\n",
              " 3: Fraction(9707, 100000),\n",
              " 0: Fraction(1843, 6250),\n",
              " 6: Fraction(6387, 100000),\n",
              " 8: Fraction(831, 20000),\n",
              " 10: Fraction(6237, 100000),\n",
              " 1: Fraction(7947, 100000),\n",
              " 7: Fraction(5699, 100000),\n",
              " 9: Fraction(209, 6250)}"
            ]
          },
          "metadata": {
            "tags": []
          },
          "execution_count": 8
        }
      ]
    },
    {
      "cell_type": "markdown",
      "metadata": {
        "id": "x6Qqj0AnywNP",
        "colab_type": "text"
      },
      "source": [
        "**Fifth:** sort the dictionary by index, then plot"
      ]
    },
    {
      "cell_type": "code",
      "metadata": {
        "id": "IaAjIpTSywNR",
        "colab_type": "code",
        "colab": {},
        "outputId": "f6bd4361-d7db-44a1-8737-4918f0620a9d"
      },
      "source": [
        "pd_HHCO_sorted = sorted(pd_HHCO.items())\n",
        "pd_HHCO_sorted"
      ],
      "execution_count": 0,
      "outputs": [
        {
          "output_type": "execute_result",
          "data": {
            "text/plain": [
              "[(0, Fraction(1843, 6250)),\n",
              " (1, Fraction(7947, 100000)),\n",
              " (2, Fraction(9353, 100000)),\n",
              " (3, Fraction(9707, 100000)),\n",
              " (4, Fraction(10633, 100000)),\n",
              " (5, Fraction(141, 2000)),\n",
              " (6, Fraction(6387, 100000)),\n",
              " (7, Fraction(5699, 100000)),\n",
              " (8, Fraction(831, 20000)),\n",
              " (9, Fraction(209, 6250)),\n",
              " (10, Fraction(6237, 100000))]"
            ]
          },
          "metadata": {
            "tags": []
          },
          "execution_count": 9
        }
      ]
    },
    {
      "cell_type": "code",
      "metadata": {
        "id": "Y9DcdsyfywNV",
        "colab_type": "code",
        "colab": {},
        "outputId": "4f7fa461-586e-4217-86c1-a123ae0266fe"
      },
      "source": [
        "x, y = zip(*pd_HHCO_sorted) # unpack a list of pairs into two tuples\n",
        "\n",
        "avg_p = sum(y)/10\n",
        "plt.plot([0, 10], [avg_p, avg_p], 'r--');\n",
        "print(avg_p)\n",
        "\n",
        "plt.plot(x, y)\n",
        "plt.xticks(range(11))"
      ],
      "execution_count": 0,
      "outputs": [
        {
          "output_type": "stream",
          "text": [
            "1/10\n"
          ],
          "name": "stdout"
        },
        {
          "output_type": "execute_result",
          "data": {
            "text/plain": [
              "([<matplotlib.axis.XTick at 0x11852e160>,\n",
              "  <matplotlib.axis.XTick at 0x11852ca58>,\n",
              "  <matplotlib.axis.XTick at 0x11852c7b8>,\n",
              "  <matplotlib.axis.XTick at 0x11854dda0>,\n",
              "  <matplotlib.axis.XTick at 0x1185562b0>,\n",
              "  <matplotlib.axis.XTick at 0x118556780>,\n",
              "  <matplotlib.axis.XTick at 0x118556c50>,\n",
              "  <matplotlib.axis.XTick at 0x118560198>,\n",
              "  <matplotlib.axis.XTick at 0x1185606a0>,\n",
              "  <matplotlib.axis.XTick at 0x118556ac8>,\n",
              "  <matplotlib.axis.XTick at 0x118560668>],\n",
              " <a list of 11 Text xticklabel objects>)"
            ]
          },
          "metadata": {
            "tags": []
          },
          "execution_count": 10
        },
        {
          "output_type": "display_data",
          "data": {
            "image/png": "[encoded data removed]",
            "text/plain": [
              "<Figure size 432x288 with 1 Axes>"
            ]
          },
          "metadata": {
            "tags": []
          }
        }
      ]
    },
    {
      "cell_type": "markdown",
      "metadata": {
        "id": "MbxBS_TAywNY",
        "colab_type": "text"
      },
      "source": [
        "#### *Conclusion*\n",
        "\n",
        "1. The average probaility of each state is around 10%\n",
        "2. The most common state of the basket is to have 0 cherries. It is reasonable because there three ways might get back to 0: `Dog`, `Bird` and `Spilled`"
      ]
    },
    {
      "cell_type": "markdown",
      "metadata": {
        "id": "Rrlk5PtZywNZ",
        "colab_type": "text"
      },
      "source": [
        "### 2. Hi Ho! Cherry-O Object-Oriented\n",
        "In the simulation part we created two classes, Game and Player. We use game to simulate the spinner results and return the spinner's action. For the player class, we use two properties Tree and Basket to simulate the take actions and replace actions. And create a matrix to take note of each turn and whole process of the simulation."
      ]
    },
    {
      "cell_type": "markdown",
      "metadata": {
        "id": "m62apyAGywNZ",
        "colab_type": "text"
      },
      "source": [
        "We use numpy's random to genrate random number and simulate the spinner"
      ]
    },
    {
      "cell_type": "code",
      "metadata": {
        "id": "1G3_3uSiywNa",
        "colab_type": "code",
        "colab": {}
      },
      "source": [
        "import numpy as np\n",
        "#import numpy.random as random\n",
        "import random"
      ],
      "execution_count": 0,
      "outputs": []
    },
    {
      "cell_type": "markdown",
      "metadata": {
        "id": "v7ts2EapywNd",
        "colab_type": "text"
      },
      "source": [
        "In Game class, we use a Dict effects to return card name to player, and spin function to generate random number from 1-7"
      ]
    },
    {
      "cell_type": "code",
      "metadata": {
        "id": "7YCwXwLzywNd",
        "colab_type": "code",
        "colab": {}
      },
      "source": [
        "class Game:\n",
        "\n",
        "    def __init__(self):\n",
        "        self.effects = {1: 'Cherry One', 2: 'Cherry Two', 3: 'Cherry Three',\n",
        "                        4: 'Cherry Four', 5: 'Dog', 6: 'Cat', 7: 'Spilled Basket'}\n",
        "\n",
        "    def spin(self):\n",
        "        return random.choice(range(1,8))\n",
        "\n",
        "    def effect(self):\n",
        "        return self.effects[self.spin()]"
      ],
      "execution_count": 0,
      "outputs": []
    },
    {
      "cell_type": "markdown",
      "metadata": {
        "id": "OzGcJRoGywNf",
        "colab_type": "text"
      },
      "source": [
        "In Player class, we use tree, basket and moves to indicate status in a single game. And mat to record all the status in the whole simulation. We load a Game instance as a property of player, so we can do all the things within the Player class."
      ]
    },
    {
      "cell_type": "code",
      "metadata": {
        "id": "bHyFVkDlywNg",
        "colab_type": "code",
        "colab": {}
      },
      "source": [
        "class Player:\n",
        "    \n",
        "    def __init__(self):\n",
        "        # We use np.zeros to generate a initialize matrix\n",
        "        self.mat = np.zeros((11, 11), dtype=int)\n",
        "        # We use this dict to easily handle take moves\n",
        "        self.takenum = {'One': 1, 'Two': 2, 'Three': 3, 'Four': 4}\n",
        "        # The game core\n",
        "        self.game = Game()\n",
        "        # The game status\n",
        "        self.tree = 10\n",
        "        self.basket = 0\n",
        "        self.moves = 0\n",
        "\n",
        "    def clear(self):\n",
        "        # Before each game we need to clear the board\n",
        "        self.tree = 10\n",
        "        self.basket = 0\n",
        "        self.moves = 0\n",
        "\n",
        "    def take(self, num):\n",
        "        # Use max min function to control the whole number in sum of 10\n",
        "        self.tree = max(0, self.tree - num)\n",
        "        self.basket = min(10, self.basket + num)\n",
        "        # If someone has 10 cherries in hand, return True to end the game\n",
        "        return self.basket == 10\n",
        "\n",
        "    def replace(self, al=False):\n",
        "        # al parameter indicates that the action is whether spilled or not\n",
        "        # If al is True means that the player spilled the basket\n",
        "        # If al is False means that the player spin the Dog/Bird\n",
        "        if not al:\n",
        "            if self.basket <= 2:\n",
        "                self.basket = 0\n",
        "                self.tree = 10\n",
        "            else:\n",
        "                self.basket -= 2\n",
        "                self.tree += 2\n",
        "        else:\n",
        "            self.basket = 0\n",
        "            self.tree = 10\n",
        "\n",
        "    def print_stat(self, card):\n",
        "        # A print function to visualize each turn in a single game\n",
        "        print('-----------------------')\n",
        "        print('Move:', self.moves)\n",
        "        print('Draw:', card)\n",
        "        print('Tree:', self.tree)\n",
        "        print('Basket:', self.basket)\n",
        "        print('-----------------------')\n",
        "\n",
        "    def taketurn(self):\n",
        "        # Core function to act in each turn\n",
        "        # 1.Draw the card\n",
        "        # 2.Judge which card\n",
        "        # 3.Do the move\n",
        "        # 4.Take note\n",
        "        # 5.Update status\n",
        "        card = self.game.effect()\n",
        "        flag = False\n",
        "        before = self.basket\n",
        "        if card.startswith('Cherry'):\n",
        "            number = card.split(' ')[1]\n",
        "            flag = self.take(self.takenum[number])\n",
        "        elif card == 'Dog' or card == 'Bird':\n",
        "            self.replace()\n",
        "        else:\n",
        "            self.replace(al=True)\n",
        "        after = self.basket\n",
        "        self.mat[before][after] += 1\n",
        "        self.moves += 1\n",
        "        # self.print_stat(card)\n",
        "        return flag\n",
        "\n",
        "    def play(self):\n",
        "        # Simulation of a single game\n",
        "        # If taketurn returns True then break the loop\n",
        "        while (True):\n",
        "            if self.taketurn():\n",
        "                break\n",
        "            # self.mat[10][0] += 1\n",
        "        self.clear()\n"
      ],
      "execution_count": 0,
      "outputs": []
    },
    {
      "cell_type": "markdown",
      "metadata": {
        "id": "-Hzk7uD4ywNi",
        "colab_type": "text"
      },
      "source": [
        "Now we can create a Player instance and simulate for 10000 rounds"
      ]
    },
    {
      "cell_type": "code",
      "metadata": {
        "id": "UGsCky1HywNi",
        "colab_type": "code",
        "colab": {},
        "outputId": "ab069d23-5f8e-48f7-f1c6-c061056663d9"
      },
      "source": [
        "player = Player()\n",
        "from tqdm import tqdm\n",
        "\n",
        "for i in tqdm(range(10000)):\n",
        "    player.play()\n",
        "print(player.mat)"
      ],
      "execution_count": 0,
      "outputs": [
        {
          "output_type": "stream",
          "text": [
            "100%|██████████| 10000/10000 [00:00<00:00, 14746.13it/s]"
          ],
          "name": "stderr"
        },
        {
          "output_type": "stream",
          "text": [
            "[[33975 11247 11416 11418 11479     0     0     0     0     0     0]\n",
            " [ 5935     0  1959  1938  1946  1911     0     0     0     0     0]\n",
            " [ 6888     0     0  2394  2238  2303  2332     0     0     0     0]\n",
            " [ 4958  2442     0     0  2509  2519  2406  2416     0     0     0]\n",
            " [ 5641     0  2780     0     0  2802  2863  2761  2770     0     0]\n",
            " [ 3151     0     0  1500     0     0  1553  1461  1534  1573     0]\n",
            " [ 2947     0     0     0  1445     0     0  1394  1448  1486  1438]\n",
            " [ 2583     0     0     0     0  1237     0     0  1213  1232  2538]\n",
            " [ 1962     0     0     0     0     0  1004     0     0   983  3016]\n",
            " [ 1495     0     0     0     0     0     0   771     0     0  3008]\n",
            " [    0     0     0     0     0     0     0     0     0     0     0]]\n"
          ],
          "name": "stdout"
        },
        {
          "output_type": "stream",
          "text": [
            "\n"
          ],
          "name": "stderr"
        }
      ]
    },
    {
      "cell_type": "markdown",
      "metadata": {
        "id": "-3V4OZLDywNk",
        "colab_type": "text"
      },
      "source": [
        "Let's do some visualization! I found the snippets from [stackoverflow](https://stackoverflow.com/questions/14061061/how-can-i-render-3d-histograms-in-python)."
      ]
    },
    {
      "cell_type": "code",
      "metadata": {
        "id": "vAHMInjSywNl",
        "colab_type": "code",
        "colab": {},
        "outputId": "3cc512a7-cc43-473d-9454-168f3d54748d"
      },
      "source": [
        "from mpl_toolkits.mplot3d import Axes3D\n",
        "import matplotlib.pyplot as plt\n",
        "\n",
        "data_array = player.mat\n",
        "# Create a figure for plotting the data as a 3D histogram.\n",
        "#\n",
        "fig = plt.figure()\n",
        "ax = fig.add_subplot(111, projection='3d')\n",
        "#\n",
        "# Create an X-Y mesh of the same dimension as the 2D data. You can\n",
        "# think of this as the floor of the plot.\n",
        "#\n",
        "x_data, y_data = np.meshgrid( np.arange(data_array.shape[1]),\n",
        "                              np.arange(data_array.shape[0]) )\n",
        "#\n",
        "# Flatten out the arrays so that they may be passed to \"ax.bar3d\".\n",
        "# Basically, ax.bar3d expects three one-dimensional arrays:\n",
        "# x_data, y_data, z_data. The following call boils down to picking\n",
        "# one entry from each array and plotting a bar to from\n",
        "# (x_data[i], y_data[i], 0) to (x_data[i], y_data[i], z_data[i]).\n",
        "#\n",
        "x_data = x_data.flatten()\n",
        "y_data = y_data.flatten()\n",
        "z_data = data_array.flatten()\n",
        "ax.bar3d( x_data,\n",
        "          y_data,\n",
        "          np.zeros(len(z_data)),\n",
        "          1, 1, z_data )\n",
        "#\n",
        "# Finally, display the plot.\n",
        "#\n",
        "plt.show()"
      ],
      "execution_count": 0,
      "outputs": [
        {
          "output_type": "display_data",
          "data": {
            "image/png": "[encoded data removed]",
            "text/plain": [
              "<Figure size 432x288 with 1 Axes>"
            ]
          },
          "metadata": {
            "tags": []
          }
        }
      ]
    },
    {
      "cell_type": "code",
      "metadata": {
        "scrolled": true,
        "id": "Iks8ZFhCywNr",
        "colab_type": "code",
        "colab": {},
        "outputId": "3fd30c79-1a5c-4640-89d2-9b433f334f13"
      },
      "source": [
        "data_2d = np.array([np.sum(x) for x in data_array])\n",
        "print(data_2d.shape)\n",
        "plt.plot(data_2d)\n",
        "# plt.bar(range(11), data_2d, 1, color=\"green\")"
      ],
      "execution_count": 0,
      "outputs": [
        {
          "output_type": "stream",
          "text": [
            "(11,)\n"
          ],
          "name": "stdout"
        },
        {
          "output_type": "execute_result",
          "data": {
            "text/plain": [
              "[<matplotlib.lines.Line2D at 0x118f936a0>]"
            ]
          },
          "metadata": {
            "tags": []
          },
          "execution_count": 16
        },
        {
          "output_type": "display_data",
          "data": {
            "image/png": "[encoded data removed]",
            "text/plain": [
              "<Figure size 432x288 with 1 Axes>"
            ]
          },
          "metadata": {
            "tags": []
          }
        }
      ]
    },
    {
      "cell_type": "markdown",
      "metadata": {
        "id": "MYwgDt_nywNu",
        "colab_type": "text"
      },
      "source": [
        "### 3. Hi Ho! Cherry-O Dominant EigenVector"
      ]
    },
    {
      "cell_type": "code",
      "metadata": {
        "id": "W5aLej83ywNx",
        "colab_type": "code",
        "colab": {},
        "outputId": "968159b6-04e9-4256-e7ba-65528aeaeb2a"
      },
      "source": [
        "# define the state of basket\n",
        "# column entries represents the possible #cherries in the basket (states)\n",
        "# row entries represents the next state of basket\n",
        "# 10 cherries per round\n",
        "\n",
        "import numpy as np\n",
        "Basket = np.zeros((11,11))\n",
        "Basket"
      ],
      "execution_count": 0,
      "outputs": [
        {
          "output_type": "execute_result",
          "data": {
            "text/plain": [
              "array([[0., 0., 0., 0., 0., 0., 0., 0., 0., 0., 0.],\n",
              "       [0., 0., 0., 0., 0., 0., 0., 0., 0., 0., 0.],\n",
              "       [0., 0., 0., 0., 0., 0., 0., 0., 0., 0., 0.],\n",
              "       [0., 0., 0., 0., 0., 0., 0., 0., 0., 0., 0.],\n",
              "       [0., 0., 0., 0., 0., 0., 0., 0., 0., 0., 0.],\n",
              "       [0., 0., 0., 0., 0., 0., 0., 0., 0., 0., 0.],\n",
              "       [0., 0., 0., 0., 0., 0., 0., 0., 0., 0., 0.],\n",
              "       [0., 0., 0., 0., 0., 0., 0., 0., 0., 0., 0.],\n",
              "       [0., 0., 0., 0., 0., 0., 0., 0., 0., 0., 0.],\n",
              "       [0., 0., 0., 0., 0., 0., 0., 0., 0., 0., 0.],\n",
              "       [0., 0., 0., 0., 0., 0., 0., 0., 0., 0., 0.]])"
            ]
          },
          "metadata": {
            "tags": []
          },
          "execution_count": 17
        }
      ]
    },
    {
      "cell_type": "code",
      "metadata": {
        "id": "IDxO8wd_ywN1",
        "colab_type": "code",
        "colab": {}
      },
      "source": [
        "# Card 'Spilled basket':\n",
        "from fractions import Fraction as frac\n",
        "\n",
        "Basket[:,0]=frac(1/7)\n",
        "\n",
        "# Card 'Cherry one-two-three-four'\n",
        "\n",
        "for i in range(7):\n",
        "    Basket[i,i+1]=frac(1,7)\n",
        "    Basket[i,i+2]=frac(1,7)\n",
        "    Basket[i,i+3]=frac(1,7)\n",
        "    Basket[i,i+4]=frac(1,7)\n",
        "    \n",
        "# Basket[6,7]=frac(1/7)\n",
        "# Basket[6,8]=frac(1/7)\n",
        "# Basket[6,9]=frac(1/7)\n",
        "# Basket[6,10]=frac(1/7)\n",
        "\n",
        "Basket[7,8]=frac(1,7)\n",
        "Basket[7,9]=frac(1,7)\n",
        "Basket[7,10]=frac(2,7)\n",
        "\n",
        "Basket[8,9]=frac(1,7)\n",
        "Basket[8,10]=frac(3,7)\n",
        "\n",
        "Basket[9,10]=frac(4,7)\n",
        "\n",
        "Basket[10,0]=1\n",
        "    \n",
        "# Card 'Bird' 'Dog'\n",
        "\n",
        "for i in range(3):\n",
        "    Basket[i,0]=Basket[i,0]+frac(2,7)\n",
        "for i in range(3,10):\n",
        "    Basket[i,i-2]=frac(2,7)"
      ],
      "execution_count": 0,
      "outputs": []
    },
    {
      "cell_type": "code",
      "metadata": {
        "id": "xjPrRTTGywN4",
        "colab_type": "code",
        "colab": {},
        "outputId": "2bbd7516-0a57-4602-eea1-05234fc26f3a"
      },
      "source": [
        "print(Basket)"
      ],
      "execution_count": 0,
      "outputs": [
        {
          "output_type": "stream",
          "text": [
            "[[0.42857143 0.14285714 0.14285714 0.14285714 0.14285714 0.\n",
            "  0.         0.         0.         0.         0.        ]\n",
            " [0.42857143 0.         0.14285714 0.14285714 0.14285714 0.14285714\n",
            "  0.         0.         0.         0.         0.        ]\n",
            " [0.42857143 0.         0.         0.14285714 0.14285714 0.14285714\n",
            "  0.14285714 0.         0.         0.         0.        ]\n",
            " [0.14285714 0.28571429 0.         0.         0.14285714 0.14285714\n",
            "  0.14285714 0.14285714 0.         0.         0.        ]\n",
            " [0.14285714 0.         0.28571429 0.         0.         0.14285714\n",
            "  0.14285714 0.14285714 0.14285714 0.         0.        ]\n",
            " [0.14285714 0.         0.         0.28571429 0.         0.\n",
            "  0.14285714 0.14285714 0.14285714 0.14285714 0.        ]\n",
            " [0.14285714 0.         0.         0.         0.28571429 0.\n",
            "  0.         0.14285714 0.14285714 0.14285714 0.14285714]\n",
            " [0.14285714 0.         0.         0.         0.         0.28571429\n",
            "  0.         0.         0.14285714 0.14285714 0.28571429]\n",
            " [0.14285714 0.         0.         0.         0.         0.\n",
            "  0.28571429 0.         0.         0.14285714 0.42857143]\n",
            " [0.14285714 0.         0.         0.         0.         0.\n",
            "  0.         0.28571429 0.         0.         0.57142857]\n",
            " [1.         0.         0.         0.         0.         0.\n",
            "  0.         0.         0.         0.         0.        ]]\n"
          ],
          "name": "stdout"
        }
      ]
    },
    {
      "cell_type": "code",
      "metadata": {
        "id": "hPOPrIyiywN9",
        "colab_type": "code",
        "colab": {},
        "outputId": "d87e865f-2d2e-4de8-ef99-029bb5ff5c89"
      },
      "source": [
        "# check stochasticity\n",
        "for i in range(10):\n",
        "    if (np.sum(Basket[i]) != 1.):\n",
        "        print(i,np.sum(Basket[i]))"
      ],
      "execution_count": 0,
      "outputs": [
        {
          "output_type": "stream",
          "text": [
            "1 0.9999999999999999\n",
            "5 0.9999999999999998\n",
            "6 0.9999999999999998\n",
            "7 0.9999999999999999\n"
          ],
          "name": "stdout"
        }
      ]
    },
    {
      "cell_type": "code",
      "metadata": {
        "id": "IOr9RH30ywOB",
        "colab_type": "code",
        "colab": {},
        "outputId": "ff7514cf-d0fe-491f-a0c1-7651cf92e73e"
      },
      "source": [
        "# calculate the eigent value\n",
        "from numpy import linalg as la\n",
        "w, v = la.eig(Basket)\n",
        "w"
      ],
      "execution_count": 0,
      "outputs": [
        {
          "output_type": "execute_result",
          "data": {
            "text/plain": [
              "array([ 1.        +0.j        ,  0.34400346+0.37745803j,\n",
              "        0.34400346-0.37745803j,  0.16739104+0.j        ,\n",
              "       -0.17978696+0.27362352j, -0.17978696-0.27362352j,\n",
              "       -0.26187723+0.17435492j, -0.26187723-0.17435492j,\n",
              "       -0.26376431+0.j        , -0.10887497+0.j        ,\n",
              "       -0.17085889+0.j        ])"
            ]
          },
          "metadata": {
            "tags": []
          },
          "execution_count": 21
        }
      ]
    },
    {
      "cell_type": "code",
      "metadata": {
        "id": "R1cmQHPbywOD",
        "colab_type": "code",
        "colab": {},
        "outputId": "52504f38-be8e-4a36-db16-998f3fb5d945"
      },
      "source": [
        "# return the index where w(eigenvalue) equals 1\n",
        "list(w.round(decimals=2)).index(1.00)"
      ],
      "execution_count": 0,
      "outputs": [
        {
          "output_type": "execute_result",
          "data": {
            "text/plain": [
              "0"
            ]
          },
          "metadata": {
            "tags": []
          },
          "execution_count": 22
        }
      ]
    },
    {
      "cell_type": "code",
      "metadata": {
        "id": "e9G_PqZ3ywOF",
        "colab_type": "code",
        "colab": {},
        "outputId": "bc4e8545-06c2-4ea6-a30c-dfbc1dd545da"
      },
      "source": [
        "# return the eigenvalue according to index from last step\n",
        "v[0]"
      ],
      "execution_count": 0,
      "outputs": [
        {
          "output_type": "execute_result",
          "data": {
            "text/plain": [
              "array([ 0.30151134+0.j        , -0.0780902 +0.18764591j,\n",
              "       -0.0780902 -0.18764591j,  0.01127906+0.j        ,\n",
              "        0.05319431-0.01371154j,  0.05319431+0.01371154j,\n",
              "        0.0351189 -0.11406156j,  0.0351189 +0.11406156j,\n",
              "       -0.08537583+0.j        ,  0.01993354+0.j        ,\n",
              "       -0.04118455+0.j        ])"
            ]
          },
          "metadata": {
            "tags": []
          },
          "execution_count": 23
        }
      ]
    },
    {
      "cell_type": "code",
      "metadata": {
        "id": "fdhD77UmywOG",
        "colab_type": "code",
        "colab": {}
      },
      "source": [
        "norm = abs(v[0]).sum()"
      ],
      "execution_count": 0,
      "outputs": []
    },
    {
      "cell_type": "code",
      "metadata": {
        "id": "CuUNlp4fywOI",
        "colab_type": "code",
        "colab": {},
        "outputId": "9f6700ec-5ca3-40dc-c0c8-b05a0f39f70f"
      },
      "source": [
        "normalized_dominant = [(abs(v)/norm) for v in v[0]]\n",
        "normalized_dominant"
      ],
      "execution_count": 0,
      "outputs": [
        {
          "output_type": "execute_result",
          "data": {
            "text/plain": [
              "[0.24829352078884948,\n",
              " 0.16737262374057288,\n",
              " 0.16737262374057288,\n",
              " 0.009288269486613019,\n",
              " 0.045237175961589965,\n",
              " 0.045237175961589965,\n",
              " 0.09828069400078039,\n",
              " 0.09828069400078039,\n",
              " 0.07030669355925553,\n",
              " 0.016415197916221886,\n",
              " 0.033915330843173545]"
            ]
          },
          "metadata": {
            "tags": []
          },
          "execution_count": 25
        }
      ]
    },
    {
      "cell_type": "code",
      "metadata": {
        "scrolled": true,
        "id": "Tt9ucM70ywOK",
        "colab_type": "code",
        "colab": {},
        "outputId": "48795727-a906-4aba-bd81-0e3af48d324b"
      },
      "source": [
        "import matplotlib.pyplot as plt\n",
        "% matplotlib inline\n",
        "\n",
        "plt.bar(range(11), normalized_dominant, 1, color=\"green\", align=\"edge\")\n",
        "plt.xticks(np.arange(11))"
      ],
      "execution_count": 0,
      "outputs": [
        {
          "output_type": "execute_result",
          "data": {
            "text/plain": [
              "([<matplotlib.axis.XTick at 0x118e28be0>,\n",
              "  <matplotlib.axis.XTick at 0x118e28518>,\n",
              "  <matplotlib.axis.XTick at 0x118e28278>,\n",
              "  <matplotlib.axis.XTick at 0x118738eb8>,\n",
              "  <matplotlib.axis.XTick at 0x1186a53c8>,\n",
              "  <matplotlib.axis.XTick at 0x1186a5898>,\n",
              "  <matplotlib.axis.XTick at 0x1186a5ac8>,\n",
              "  <matplotlib.axis.XTick at 0x1186a5e80>,\n",
              "  <matplotlib.axis.XTick at 0x1186ae4a8>,\n",
              "  <matplotlib.axis.XTick at 0x1186ae978>,\n",
              "  <matplotlib.axis.XTick at 0x1186aee48>],\n",
              " <a list of 11 Text xticklabel objects>)"
            ]
          },
          "metadata": {
            "tags": []
          },
          "execution_count": 26
        },
        {
          "output_type": "display_data",
          "data": {
            "image/png": "[encoded data removed]",
            "text/plain": [
              "<Figure size 432x288 with 1 Axes>"
            ]
          },
          "metadata": {
            "tags": []
          }
        }
      ]
    },
    {
      "cell_type": "markdown",
      "metadata": {
        "id": "jGBVedW8ywON",
        "colab_type": "text"
      },
      "source": [
        "## *Conclusion*\n",
        "\n",
        "1. The average probaility of each state is around 10%\n",
        "2. The most common state of the basket is to have 0 cherries. It is reasonable because there three ways might get back to 0: `Dog`, `Bird` and `Spilled`"
      ]
    }
  ]
}