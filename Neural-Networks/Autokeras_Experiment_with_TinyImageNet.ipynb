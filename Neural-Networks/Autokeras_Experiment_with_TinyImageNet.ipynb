{
  "nbformat": 4,
  "nbformat_minor": 0,
  "metadata": {
    "colab": {
      "name": "Autokeras_GPU.ipynb",
      "version": "0.3.2",
      "provenance": [],
      "collapsed_sections": [],
      "toc_visible": true
    },
    "kernelspec": {
      "name": "python3",
      "display_name": "Python 3"
    },
    "accelerator": "GPU"
  },
  "cells": [
    {
      "metadata": {
        "id": "93bOJSNfBr8x",
        "colab_type": "text"
      },
      "cell_type": "markdown",
      "source": [
        "## Background for Autokeras"
      ]
    },
    {
      "metadata": {
        "id": "_S9OLU2E5BZ9",
        "colab_type": "text"
      },
      "cell_type": "markdown",
      "source": [
        "There are several ways for hyper-parameter searching:\n",
        "\n",
        "### Grid Search: \n",
        "\n",
        "**1. what:** divide each parameter's valid range into evenly spaced values, and then simply have the computer try all combinations of parameter-values\n",
        "\n",
        "**2. cons:** time-consuming and leads to curse of dimensionality as there are usually a lot of hyper-parameters to tune\n",
        "\n",
        "\n",
        "### Hand Tuning: \n",
        "\n",
        "**1. what:** based on trying and error and observation to build sense about hyper-parameters\n",
        "\n",
        "**2. cons:** the optimal hyper-parameters may be counter-intuitive, and could not be approached by this way\n",
        "\n",
        "\n",
        "---\n",
        "\n",
        "\n",
        "---\n",
        "\n",
        "\n",
        "\n",
        "\n",
        "**Autokeras **is leveraging a method called **Bayesian Optimization**, which balanced the exploration of the whole space for hyper-parameters, and exploitation of the promising regions where there are better performance\n",
        "\n",
        "![](https://github.com/Hvass-Labs/TensorFlow-Tutorials/raw/aa0d6796c6bb61a4c81ab1f8d0dc425cc034095e/images/19_flowchart_bayesian_optimization.png)\n",
        "*This chart is referenced from: [source](https://github.com/Hvass-Labs/TensorFlow-Tutorials/blob/master/19_Hyper-Parameters.ipynb)*\n",
        "\n",
        "### Bayesian Optimization:\n",
        "\n",
        "**1. what:** construct another model (guassian process) to estimate the distribution of the performance varies with changes to the hyper-parameters. \n",
        "\n",
        "**2. concept: **similar input produce similar output\n",
        "\n",
        "**3. strategy: **\n",
        "\n",
        ">* **phase 1: exploration - seek places with high variance**\n",
        "\n",
        ">* **phase 2: exploitation - focus on the promising area**\n"
      ]
    },
    {
      "metadata": {
        "id": "pDY9dXHJOdRu",
        "colab_type": "text"
      },
      "cell_type": "markdown",
      "source": [
        "## 1.  Install Autokeras and Import Needed Libraries"
      ]
    },
    {
      "metadata": {
        "id": "8GXDr2i0O-F-",
        "colab_type": "text"
      },
      "cell_type": "markdown",
      "source": [
        "*[Library link:](https://autokeras.com/)*\n",
        "\n",
        "*[Source Code:](https://github.com/jhfjhfj1/autokeras:)*\n",
        "\n",
        "*Note: currently, Auto-Keras is only compatible with: Python 3.6*"
      ]
    },
    {
      "metadata": {
        "id": "ieY9-NDU9OXz",
        "colab_type": "code",
        "outputId": "11fb2cc7-0cb3-4681-b016-3b9218de6035",
        "colab": {
          "base_uri": "https://localhost:8080/",
          "height": 1313
        }
      },
      "cell_type": "code",
      "source": [
        "! pip install autokeras"
      ],
      "execution_count": 28,
      "outputs": [
        {
          "output_type": "stream",
          "text": [
            "Requirement already satisfied: autokeras in /usr/local/lib/python3.6/dist-packages (0.3.7)\n",
            "Requirement already satisfied: opencv-python==4.0.0.21 in /usr/local/lib/python3.6/dist-packages (from autokeras) (4.0.0.21)\n",
            "Requirement already satisfied: tensorflow==1.12.0 in /usr/local/lib/python3.6/dist-packages (from autokeras) (1.12.0)\n",
            "Requirement already satisfied: lightgbm==2.2.3 in /usr/local/lib/python3.6/dist-packages (from autokeras) (2.2.3)\n",
            "Requirement already satisfied: torchvision==0.2.1 in /usr/local/lib/python3.6/dist-packages (from autokeras) (0.2.1)\n",
            "Requirement already satisfied: tqdm==4.29.1 in /usr/local/lib/python3.6/dist-packages (from autokeras) (4.29.1)\n",
            "Requirement already satisfied: scipy==1.2.0 in /usr/local/lib/python3.6/dist-packages (from autokeras) (1.2.0)\n",
            "Requirement already satisfied: scikit-image==0.14.2 in /usr/local/lib/python3.6/dist-packages (from autokeras) (0.14.2)\n",
            "Requirement already satisfied: boto3 in /usr/local/lib/python3.6/dist-packages (from autokeras) (1.9.95)\n",
            "Requirement already satisfied: keras==2.2.4 in /usr/local/lib/python3.6/dist-packages (from autokeras) (2.2.4)\n",
            "Requirement already satisfied: librosa==0.6.2 in /usr/local/lib/python3.6/dist-packages (from autokeras) (0.6.2)\n",
            "Requirement already satisfied: imageio==2.4.1 in /usr/local/lib/python3.6/dist-packages (from autokeras) (2.4.1)\n",
            "Requirement already satisfied: inflect in /usr/local/lib/python3.6/dist-packages (from autokeras) (2.1.0)\n",
            "Requirement already satisfied: pandas==0.23.4 in /usr/local/lib/python3.6/dist-packages (from autokeras) (0.23.4)\n",
            "Requirement already satisfied: unidecode in /usr/local/lib/python3.6/dist-packages (from autokeras) (1.0.23)\n",
            "Requirement already satisfied: nltk==3.3 in /usr/local/lib/python3.6/dist-packages (from autokeras) (3.3)\n",
            "Requirement already satisfied: scikit-learn==0.20.2 in /usr/local/lib/python3.6/dist-packages (from autokeras) (0.20.2)\n",
            "Requirement already satisfied: numba in /usr/local/lib/python3.6/dist-packages (from autokeras) (0.40.1)\n",
            "Requirement already satisfied: numpy==1.15.4 in /usr/local/lib/python3.6/dist-packages (from autokeras) (1.15.4)\n",
            "Requirement already satisfied: torch==1.0.1 in /usr/local/lib/python3.6/dist-packages (from autokeras) (1.0.1)\n",
            "Requirement already satisfied: requests==2.21.0 in /usr/local/lib/python3.6/dist-packages (from autokeras) (2.21.0)\n",
            "Requirement already satisfied: lws==1.2 in /usr/local/lib/python3.6/dist-packages (from autokeras) (1.2)\n",
            "Requirement already satisfied: wheel>=0.26 in /usr/local/lib/python3.6/dist-packages (from tensorflow==1.12.0->autokeras) (0.33.0)\n",
            "Requirement already satisfied: termcolor>=1.1.0 in /usr/local/lib/python3.6/dist-packages (from tensorflow==1.12.0->autokeras) (1.1.0)\n",
            "Requirement already satisfied: keras-applications>=1.0.6 in /usr/local/lib/python3.6/dist-packages (from tensorflow==1.12.0->autokeras) (1.0.7)\n",
            "Requirement already satisfied: six>=1.10.0 in /usr/local/lib/python3.6/dist-packages (from tensorflow==1.12.0->autokeras) (1.11.0)\n",
            "Requirement already satisfied: keras-preprocessing>=1.0.5 in /usr/local/lib/python3.6/dist-packages (from tensorflow==1.12.0->autokeras) (1.0.9)\n",
            "Requirement already satisfied: astor>=0.6.0 in /usr/local/lib/python3.6/dist-packages (from tensorflow==1.12.0->autokeras) (0.7.1)\n",
            "Requirement already satisfied: gast>=0.2.0 in /usr/local/lib/python3.6/dist-packages (from tensorflow==1.12.0->autokeras) (0.2.2)\n",
            "Requirement already satisfied: grpcio>=1.8.6 in /usr/local/lib/python3.6/dist-packages (from tensorflow==1.12.0->autokeras) (1.15.0)\n",
            "Requirement already satisfied: tensorboard<1.13.0,>=1.12.0 in /usr/local/lib/python3.6/dist-packages (from tensorflow==1.12.0->autokeras) (1.12.2)\n",
            "Requirement already satisfied: protobuf>=3.6.1 in /usr/local/lib/python3.6/dist-packages (from tensorflow==1.12.0->autokeras) (3.6.1)\n",
            "Requirement already satisfied: absl-py>=0.1.6 in /usr/local/lib/python3.6/dist-packages (from tensorflow==1.12.0->autokeras) (0.7.0)\n",
            "Collecting pillow>=4.1.1 (from torchvision==0.2.1->autokeras)\n",
            "  Using cached https://files.pythonhosted.org/packages/85/5e/e91792f198bbc5a0d7d3055ad552bc4062942d27eaf75c3e2783cf64eae5/Pillow-5.4.1-cp36-cp36m-manylinux1_x86_64.whl\n",
            "Requirement already satisfied: networkx>=1.8 in /usr/local/lib/python3.6/dist-packages (from scikit-image==0.14.2->autokeras) (2.2)\n",
            "Requirement already satisfied: cloudpickle>=0.2.1 in /usr/local/lib/python3.6/dist-packages (from scikit-image==0.14.2->autokeras) (0.6.1)\n",
            "Requirement already satisfied: matplotlib>=2.0.0 in /usr/local/lib/python3.6/dist-packages (from scikit-image==0.14.2->autokeras) (3.0.2)\n",
            "Requirement already satisfied: dask[array]>=1.0.0 in /usr/local/lib/python3.6/dist-packages (from scikit-image==0.14.2->autokeras) (1.1.1)\n",
            "Requirement already satisfied: PyWavelets>=0.4.0 in /usr/local/lib/python3.6/dist-packages (from scikit-image==0.14.2->autokeras) (1.0.1)\n",
            "Requirement already satisfied: s3transfer<0.3.0,>=0.2.0 in /usr/local/lib/python3.6/dist-packages (from boto3->autokeras) (0.2.0)\n",
            "Requirement already satisfied: botocore<1.13.0,>=1.12.95 in /usr/local/lib/python3.6/dist-packages (from boto3->autokeras) (1.12.95)\n",
            "Requirement already satisfied: jmespath<1.0.0,>=0.7.1 in /usr/local/lib/python3.6/dist-packages (from boto3->autokeras) (0.9.3)\n",
            "Requirement already satisfied: pyyaml in /usr/local/lib/python3.6/dist-packages (from keras==2.2.4->autokeras) (3.13)\n",
            "Requirement already satisfied: h5py in /usr/local/lib/python3.6/dist-packages (from keras==2.2.4->autokeras) (2.8.0)\n",
            "Requirement already satisfied: decorator>=3.0.0 in /usr/local/lib/python3.6/dist-packages (from librosa==0.6.2->autokeras) (4.3.2)\n",
            "Requirement already satisfied: resampy>=0.2.0 in /usr/local/lib/python3.6/dist-packages (from librosa==0.6.2->autokeras) (0.2.1)\n",
            "Requirement already satisfied: audioread>=2.0.0 in /usr/local/lib/python3.6/dist-packages (from librosa==0.6.2->autokeras) (2.1.6)\n",
            "Requirement already satisfied: joblib>=0.12 in /usr/local/lib/python3.6/dist-packages (from librosa==0.6.2->autokeras) (0.13.2)\n",
            "Requirement already satisfied: pytz>=2011k in /usr/local/lib/python3.6/dist-packages (from pandas==0.23.4->autokeras) (2018.9)\n",
            "Requirement already satisfied: python-dateutil>=2.5.0 in /usr/local/lib/python3.6/dist-packages (from pandas==0.23.4->autokeras) (2.5.3)\n",
            "Requirement already satisfied: llvmlite>=0.25.0dev0 in /usr/local/lib/python3.6/dist-packages (from numba->autokeras) (0.27.1)\n",
            "Requirement already satisfied: idna<2.9,>=2.5 in /usr/local/lib/python3.6/dist-packages (from requests==2.21.0->autokeras) (2.6)\n",
            "Requirement already satisfied: chardet<3.1.0,>=3.0.2 in /usr/local/lib/python3.6/dist-packages (from requests==2.21.0->autokeras) (3.0.4)\n",
            "Requirement already satisfied: certifi>=2017.4.17 in /usr/local/lib/python3.6/dist-packages (from requests==2.21.0->autokeras) (2018.11.29)\n",
            "Requirement already satisfied: urllib3<1.25,>=1.21.1 in /usr/local/lib/python3.6/dist-packages (from requests==2.21.0->autokeras) (1.22)\n",
            "Requirement already satisfied: werkzeug>=0.11.10 in /usr/local/lib/python3.6/dist-packages (from tensorboard<1.13.0,>=1.12.0->tensorflow==1.12.0->autokeras) (0.14.1)\n",
            "Requirement already satisfied: markdown>=2.6.8 in /usr/local/lib/python3.6/dist-packages (from tensorboard<1.13.0,>=1.12.0->tensorflow==1.12.0->autokeras) (3.0.1)\n",
            "Requirement already satisfied: setuptools in /usr/local/lib/python3.6/dist-packages (from protobuf>=3.6.1->tensorflow==1.12.0->autokeras) (40.8.0)\n",
            "Requirement already satisfied: cycler>=0.10 in /usr/local/lib/python3.6/dist-packages (from matplotlib>=2.0.0->scikit-image==0.14.2->autokeras) (0.10.0)\n",
            "Requirement already satisfied: kiwisolver>=1.0.1 in /usr/local/lib/python3.6/dist-packages (from matplotlib>=2.0.0->scikit-image==0.14.2->autokeras) (1.0.1)\n",
            "Requirement already satisfied: pyparsing!=2.0.4,!=2.1.2,!=2.1.6,>=2.0.1 in /usr/local/lib/python3.6/dist-packages (from matplotlib>=2.0.0->scikit-image==0.14.2->autokeras) (2.3.1)\n",
            "Requirement already satisfied: toolz>=0.7.3; extra == \"array\" in /usr/local/lib/python3.6/dist-packages (from dask[array]>=1.0.0->scikit-image==0.14.2->autokeras) (0.9.0)\n",
            "Requirement already satisfied: docutils>=0.10 in /usr/local/lib/python3.6/dist-packages (from botocore<1.13.0,>=1.12.95->boto3->autokeras) (0.14)\n",
            "\u001b[31malbumentations 0.1.12 has requirement imgaug<0.2.7,>=0.2.5, but you'll have imgaug 0.2.8 which is incompatible.\u001b[0m\n",
            "Installing collected packages: pillow\n",
            "  Found existing installation: Pillow 4.0.0\n",
            "    Uninstalling Pillow-4.0.0:\n",
            "      Successfully uninstalled Pillow-4.0.0\n",
            "Successfully installed pillow-5.4.1\n"
          ],
          "name": "stdout"
        },
        {
          "output_type": "display_data",
          "data": {
            "application/vnd.colab-display-data+json": {
              "pip_warning": {
                "packages": [
                  "PIL"
                ]
              }
            }
          },
          "metadata": {
            "tags": []
          }
        }
      ]
    },
    {
      "metadata": {
        "id": "ad903JSlP3o5",
        "colab_type": "code",
        "outputId": "6baccb6b-83a8-4c4c-f610-b9fc3f3476d8",
        "colab": {
          "base_uri": "https://localhost:8080/",
          "height": 446
        }
      },
      "cell_type": "code",
      "source": [
        "# autokeras\n",
        "import autokeras as ak\n",
        "from autokeras.nn.metric import Accuracy\n",
        "from autokeras.image.image_supervised import load_image_dataset, ImageClassifier\n",
        "\n",
        "# keras\n",
        "from keras.models import load_model\n",
        "from keras.utils import plot_model\n",
        "\n",
        "\n",
        "# general\n",
        "\n",
        "import zipfile\n",
        "import os\n",
        "import csv\n",
        "import shutil\n",
        "\n",
        "\n",
        "# colab always report error with PIL, reinstall it to avoid the error\n",
        "!pip install Pillow==4.0.0\n",
        "!pip install PIL\n",
        "!pip install image\n",
        "import PIL"
      ],
      "execution_count": 29,
      "outputs": [
        {
          "output_type": "stream",
          "text": [
            "Collecting Pillow==4.0.0\n",
            "  Using cached https://files.pythonhosted.org/packages/37/e8/b3fbf87b0188d22246678f8cd61e23e31caa1769ebc06f1664e2e5fe8a17/Pillow-4.0.0-cp36-cp36m-manylinux1_x86_64.whl\n",
            "Requirement already satisfied: olefile in /usr/local/lib/python3.6/dist-packages (from Pillow==4.0.0) (0.46)\n",
            "\u001b[31mtorchvision 0.2.1 has requirement pillow>=4.1.1, but you'll have pillow 4.0.0 which is incompatible.\u001b[0m\n",
            "\u001b[31mscikit-image 0.14.2 has requirement pillow>=4.3.0, but you'll have pillow 4.0.0 which is incompatible.\u001b[0m\n",
            "\u001b[31malbumentations 0.1.12 has requirement imgaug<0.2.7,>=0.2.5, but you'll have imgaug 0.2.8 which is incompatible.\u001b[0m\n",
            "Installing collected packages: Pillow\n",
            "  Found existing installation: Pillow 5.4.1\n",
            "    Uninstalling Pillow-5.4.1:\n",
            "      Successfully uninstalled Pillow-5.4.1\n",
            "Successfully installed Pillow-4.0.0\n"
          ],
          "name": "stdout"
        },
        {
          "output_type": "display_data",
          "data": {
            "application/vnd.colab-display-data+json": {
              "pip_warning": {
                "packages": [
                  "PIL"
                ]
              }
            }
          },
          "metadata": {
            "tags": []
          }
        },
        {
          "output_type": "stream",
          "text": [
            "Collecting PIL\n",
            "\u001b[31m  Could not find a version that satisfies the requirement PIL (from versions: )\u001b[0m\n",
            "\u001b[31mNo matching distribution found for PIL\u001b[0m\n",
            "Requirement already satisfied: image in /usr/local/lib/python3.6/dist-packages (1.5.27)\n",
            "Requirement already satisfied: pillow in /usr/local/lib/python3.6/dist-packages (from image) (4.0.0)\n",
            "Requirement already satisfied: django in /usr/local/lib/python3.6/dist-packages (from image) (2.1.7)\n",
            "Requirement already satisfied: olefile in /usr/local/lib/python3.6/dist-packages (from pillow->image) (0.46)\n",
            "Requirement already satisfied: pytz in /usr/local/lib/python3.6/dist-packages (from django->image) (2018.9)\n"
          ],
          "name": "stdout"
        }
      ]
    },
    {
      "metadata": {
        "id": "AVvAQYdYPeUV",
        "colab_type": "text"
      },
      "cell_type": "markdown",
      "source": [
        "## 2. Prepare the Data"
      ]
    },
    {
      "metadata": {
        "id": "K8PcRhl5SQJ1",
        "colab_type": "text"
      },
      "cell_type": "markdown",
      "source": [
        "###1. Resize the data to 32 X 32"
      ]
    },
    {
      "metadata": {
        "id": "AxZh0WydTMQP",
        "colab_type": "text"
      },
      "cell_type": "markdown",
      "source": [
        "This functions helps resize data"
      ]
    },
    {
      "metadata": {
        "id": "dHzC5rvNTVeD",
        "colab_type": "code",
        "colab": {}
      },
      "cell_type": "code",
      "source": [
        "# alg_dict = {\n",
        "#     'lanczos': Image.LANCZOS,\n",
        "#     'nearest': Image.NEAREST,\n",
        "#     'bilinear': Image.BILINEAR,\n",
        "#     'bicubic': Image.BICUBIC,\n",
        "#     'hamming': Image.HAMMING,\n",
        "#     'box': Image.BOX\n",
        "# }\n",
        "\n",
        "# def str2alg(str):\n",
        "#     str = str.lower()\n",
        "#     return alg_dict.get(str, None)\n",
        "\n",
        "# # Takes in_dir, out_dir and alg as strings\n",
        "# # resize images from in_dir using algorithm deduced from\n",
        "# # alg string and puts them to \"out_dir/alg/\" folder\n",
        "# def resize_img_folder(in_dir, out_dir, alg = 'box', size):\n",
        "#     print('Folder %s' % in_dir)\n",
        "\n",
        "#     alg_val = str2alg(alg)\n",
        "\n",
        "#     if alg_val is None:\n",
        "#         print(\"Sorry but this algorithm (%s) is not available, use help for more info.\" % alg)\n",
        "#         return\n",
        "\n",
        "#     if not os.path.exists(out_dir):\n",
        "#         os.makedirs(out_dir)\n",
        "\n",
        "#     for filename in os.listdir(in_dir):\n",
        "#         # Exception raised when file is not an image\n",
        "#         try:\n",
        "#             im = Image.open(os.path.join(in_dir, str(filename)))\n",
        "\n",
        "#             # Convert grayscale images into 3 channels\n",
        "#             if im.mode != \"RGB\":\n",
        "#                 im = im.convert(mode=\"RGB\")\n",
        "\n",
        "#             im_resized = im.resize((size, size), alg_val)\n",
        "#             # Get rid of extension (.jpg or other)\n",
        "#             filename = os.path.splitext(filename)[0]\n",
        "#             im_resized.save(os.path.join(out_dir, filename + '.png'))\n",
        "#         except OSError as err:\n",
        "#             print(\"This file {} couldn't be read as an image\".format(filename))\n",
        "#             with open(\"log.txt\", \"a\") as f:\n",
        "#                 f.write(\"Couldn't resize: %s\" % os.path.join(in_dir, filename))\n",
        "                "
      ],
      "execution_count": 0,
      "outputs": []
    },
    {
      "metadata": {
        "id": "zKtowRFZSV78",
        "colab_type": "code",
        "colab": {}
      },
      "cell_type": "code",
      "source": [
        "## help function for train, need some manipulation as the file hierachy is different \n",
        "\n",
        "# def resize_img_folder_train(train_outer_inDir, train_outer_outDir, alg = 'box', size):\n",
        "\n",
        "#     in_dir_list = [] # this stores all in_dir under each label\n",
        "#     out_dir_list = [] # this stores all out_dir under each label\n",
        "#     for i in os.listdir(train_outer_inDir):\n",
        "#         if i != '.DS_Store': # skip the .DS_Store file\n",
        "#             in_dir_list.append(os.path.join(train_outer_inDir, i, 'images'))\n",
        "#             out_dir_list.append(os.path.join(train_outer_outDir, i))\n",
        "\n",
        "#     for i in range(len(in_dir_list)): # iterate over all dir\n",
        "#         resize_img_folder(in_dir_list[i], out_dir_list[i], alg, size)"
      ],
      "execution_count": 0,
      "outputs": []
    },
    {
      "metadata": {
        "id": "mLnS7pvlSB-T",
        "colab_type": "text"
      },
      "cell_type": "markdown",
      "source": [
        "### 2. Reorganize the data\n"
      ]
    },
    {
      "metadata": {
        "id": "VtEIvZXvSiXB",
        "colab_type": "text"
      },
      "cell_type": "markdown",
      "source": [
        "Autokeras has its own function for loading data: \"load_image_dataset\". To leverage it, we need to organize our data in directories.\n",
        "\n",
        "1. Train Data: all image file in one single folder\n",
        "\n",
        "2. Label data: in a .csv file with the format\n",
        "\n",
        "    filename, label:\n",
        "\n",
        "  * img0.png,  0 \n",
        "  * img1.png,  1 \n",
        "  * img2.png,  1 \n",
        "  * img3.png,  2 \n",
        "  * . \n",
        "  * . \n",
        "  * . \n",
        "  * imgN.png,  0\n",
        "\n",
        "\n",
        "\n"
      ]
    },
    {
      "metadata": {
        "colab_type": "code",
        "id": "J6nriQcfqzR9",
        "colab": {}
      },
      "cell_type": "code",
      "source": [
        "# def createFolder(directory):\n",
        "#     try:\n",
        "#         if not os.path.exists(directory):\n",
        "#             os.makedirs(directory)\n",
        "#     except OSError:\n",
        "#         print ('Error: Creating directory. ' +  directory)\n",
        "        \n",
        "# def create_data_dirs(img_dir, csv_dir, final_img_dir):\n",
        "#     csv_file_path = []\n",
        "#     csv_file_path.append(['File Name','Label'])\n",
        "#     img_path_list = []\n",
        "    \n",
        "#     for folder in os.listdir(img_dir):\n",
        "#       if folder != '.DS_Store':\n",
        "#         img_class_path = os.path.join(img_dir, folder)\n",
        "#         for img_name in os.listdir(img_class_path):\n",
        "#           csv_file_path.append([str(img_name), folder])\n",
        "#           img_path = os.path.join(img_dir, folder, img_name)\n",
        "#           img_path_list.append(img_path)\n",
        "    \n",
        "#     f = open(csv_dir, 'w', newline='')\n",
        "#     writer = csv.writer(f)\n",
        "#     writer.writerows(csv_file_path)    \n",
        "        \n",
        "#     for img_path in img_path_list:\n",
        "#       shutil.copy(img_path, final_img_dir)\n",
        "    \n",
        "#     return img_path_list"
      ],
      "execution_count": 0,
      "outputs": []
    },
    {
      "metadata": {
        "colab_type": "code",
        "id": "nfiKEHUqqzSB",
        "colab": {}
      },
      "cell_type": "code",
      "source": [
        "# createFolder('train_data_dir')"
      ],
      "execution_count": 0,
      "outputs": []
    },
    {
      "metadata": {
        "colab_type": "code",
        "id": "i68nKkcjqzSG",
        "colab": {}
      },
      "cell_type": "code",
      "source": [
        "# train_img_dir = 'path1'\n",
        "# train_csv_dir = 'path2'\n",
        "# final_img_dir = 'path3'\n",
        "\n",
        "# create_data_dirs(train_img_dir, train_csv_dir, final_img_dir)"
      ],
      "execution_count": 0,
      "outputs": []
    },
    {
      "metadata": {
        "id": "Q0Kxz3LPUXQH",
        "colab_type": "text"
      },
      "cell_type": "markdown",
      "source": [
        "## 3. Searching Using Autokeras"
      ]
    },
    {
      "metadata": {
        "id": "cL4m2zKq8viA",
        "colab_type": "text"
      },
      "cell_type": "markdown",
      "source": [
        "### 1. Load zipfile to Colab,  Unzip Data Files, Load data, and Preprocess"
      ]
    },
    {
      "metadata": {
        "id": "K6CjEpLw8spD",
        "colab_type": "code",
        "colab": {}
      },
      "cell_type": "code",
      "source": [
        "with zipfile.ZipFile('drive/data_imagenet.zip','r') as zip_ref:\n",
        "    zip_ref.extractall('')"
      ],
      "execution_count": 0,
      "outputs": []
    },
    {
      "metadata": {
        "id": "Y_ouIxJwvb8m",
        "colab_type": "code",
        "colab": {}
      },
      "cell_type": "code",
      "source": [
        "train_csv_dir = 'data_imagenet/train_labels.csv'\n",
        "val_csv_dir = 'data_imagenet/val_labels.csv'\n",
        "train_data_dir = 'data_imagenet/train_data_dir'\n",
        "val_data_dir = 'data_imagenet/val_data_dir'"
      ],
      "execution_count": 0,
      "outputs": []
    },
    {
      "metadata": {
        "id": "UQD3LvgZA_uc",
        "colab_type": "code",
        "colab": {}
      },
      "cell_type": "code",
      "source": [
        "train_data, train_labels = load_image_dataset(csv_file_path = train_csv_dir, images_path = train_data_dir)\n",
        "val_data, val_labels = load_image_dataset(csv_file_path = val_csv_dir, images_path = val_data_dir)"
      ],
      "execution_count": 0,
      "outputs": []
    },
    {
      "metadata": {
        "id": "Ixm1CEopBhDQ",
        "colab_type": "code",
        "outputId": "f6bce9cc-0f73-4c1d-c532-d220bab86ad2",
        "colab": {
          "base_uri": "https://localhost:8080/",
          "height": 51
        }
      },
      "cell_type": "code",
      "source": [
        "# scale the data\n",
        "train_data = train_data.astype('float32') / 255.\n",
        "val_data = val_data.astype('float32') / 255.\n",
        "print('train data shape:', train_data.shape)\n",
        "print('val data shape:', val_data.shape)"
      ],
      "execution_count": 33,
      "outputs": [
        {
          "output_type": "stream",
          "text": [
            "train data shape: (100000, 32, 32, 3)\n",
            "val data shape: (10000, 32, 32, 3)\n"
          ],
          "name": "stdout"
        }
      ]
    },
    {
      "metadata": {
        "id": "zMOuILXTAvhh",
        "colab_type": "text"
      },
      "cell_type": "markdown",
      "source": [
        "### 2. Build Image Classifier and Start Searching"
      ]
    },
    {
      "metadata": {
        "id": "sH31RjzwU1UU",
        "colab_type": "text"
      },
      "cell_type": "markdown",
      "source": [
        "* Identify the path for storing intermediate results during training in order to resume to previous training. Here we link google drive for the path\n",
        "\n",
        "*  Identify the input/output shape\n",
        "\n"
      ]
    },
    {
      "metadata": {
        "id": "Z3AwjMHl1BO8",
        "colab_type": "code",
        "colab": {}
      },
      "cell_type": "code",
      "source": [
        "path = 'drive/Autokeras/searching_path_gpu'\n",
        "n_output_node = 200\n",
        "input_shape = (32,32,3)"
      ],
      "execution_count": 0,
      "outputs": []
    },
    {
      "metadata": {
        "id": "3ATZNaExWejt",
        "colab_type": "text"
      },
      "cell_type": "markdown",
      "source": [
        "Build the classifier and begin search\n",
        "some key arguments:\n",
        "* path: to store results\n",
        "* resume: to indicate if search based on previous results\n",
        "* search_args: to pass trainer_args, here the maximum epoch is given to reduce the search time per each model\n",
        "* time_limit: to pass in the time you planned for the searching"
      ]
    },
    {
      "metadata": {
        "id": "Ouc1BMfc25Mz",
        "colab_type": "code",
        "colab": {}
      },
      "cell_type": "code",
      "source": [
        "clf = ImageClassifier(path=path, resume = True, verbose=True, augment=False, searcher_args = {'trainer_args':{'max_iter_num': 25}})"
      ],
      "execution_count": 0,
      "outputs": []
    },
    {
      "metadata": {
        "id": "k07WGu8WEyR4",
        "colab_type": "code",
        "colab": {}
      },
      "cell_type": "code",
      "source": [
        "clf.fit(train_data, train_labels, time_limit= 8 * 60 * 60)"
      ],
      "execution_count": 0,
      "outputs": []
    },
    {
      "metadata": {
        "id": "X8_vmZ_aKlVe",
        "colab_type": "text"
      },
      "cell_type": "markdown",
      "source": [
        "### 3. Retrain Based on the Best Model, and Evaluate the Validation Set"
      ]
    },
    {
      "metadata": {
        "id": "k2QCZrmQQ09_",
        "colab_type": "code",
        "outputId": "c0d047f9-2c3c-4540-e866-86bfc59286a4",
        "colab": {
          "base_uri": "https://localhost:8080/",
          "height": 68
        }
      },
      "cell_type": "code",
      "source": [
        "# use the best model to train\n",
        "\n",
        "clf.final_fit(train_data, train_labels, val_data, val_labels, retrain=True, trainer_args = {'max_iter_num': 20})"
      ],
      "execution_count": 0,
      "outputs": [
        {
          "output_type": "stream",
          "text": [
            "\n",
            "No loss decrease after 5 epochs.\n",
            "\n"
          ],
          "name": "stdout"
        }
      ]
    },
    {
      "metadata": {
        "id": "mWxOolRHQBYI",
        "colab_type": "code",
        "outputId": "1d956b23-f380-4f67-fe35-ec9d86b07366",
        "colab": {
          "base_uri": "https://localhost:8080/",
          "height": 34
        }
      },
      "cell_type": "code",
      "source": [
        "clf.evaluate(train_data, train_labels)"
      ],
      "execution_count": 0,
      "outputs": [
        {
          "output_type": "execute_result",
          "data": {
            "text/plain": [
              "0.55381"
            ]
          },
          "metadata": {
            "tags": []
          },
          "execution_count": 16
        }
      ]
    },
    {
      "metadata": {
        "id": "0JC0rUn0nXEs",
        "colab_type": "code",
        "outputId": "d8202253-92f7-4e54-8072-e6e0037169c1",
        "colab": {
          "base_uri": "https://localhost:8080/",
          "height": 34
        }
      },
      "cell_type": "code",
      "source": [
        "clf.evaluate(val_data, val_labels)"
      ],
      "execution_count": 0,
      "outputs": [
        {
          "output_type": "execute_result",
          "data": {
            "text/plain": [
              "0.3744"
            ]
          },
          "metadata": {
            "tags": []
          },
          "execution_count": 15
        }
      ]
    },
    {
      "metadata": {
        "id": "OaKTHF6ilp9T",
        "colab_type": "text"
      },
      "cell_type": "markdown",
      "source": [
        "### 4. Save the Model and Convert It to A Keras Model"
      ]
    },
    {
      "metadata": {
        "id": "LEEPmrfinWsC",
        "colab_type": "code",
        "colab": {}
      },
      "cell_type": "code",
      "source": [
        "# set the path for model will be saved\n",
        "\n",
        "my_model_path = 'drive/Autokeras/searching_path_gpu/my_model.h5'\n",
        "\n",
        "# save the model\n",
        "k_model = clf.export_keras_model(my_model_path)"
      ],
      "execution_count": 0,
      "outputs": []
    },
    {
      "metadata": {
        "id": "3x0ep4QknxmY",
        "colab_type": "text"
      },
      "cell_type": "markdown",
      "source": [
        "* Firstly I tried code below, however it cannot be read by keras.models.load_model although .h5 file is saved successfully\n",
        "\n",
        "> ps: Error message also shows below\n",
        "\n"
      ]
    },
    {
      "metadata": {
        "id": "-iprk9yUz8NK",
        "colab_type": "code",
        "outputId": "2f29769e-3435-45b6-cee0-3c05a46df693",
        "colab": {
          "base_uri": "https://localhost:8080/",
          "height": 71
        }
      },
      "cell_type": "code",
      "source": [
        "# read model using keras\n",
        "# model = load_model(my_model_path)"
      ],
      "execution_count": 0,
      "outputs": [
        {
          "output_type": "stream",
          "text": [
            "/usr/local/lib/python3.6/dist-packages/keras/engine/saving.py:292: UserWarning: No training configuration found in save file: the model was *not* compiled. Compile it manually.\n",
            "  warnings.warn('No training configuration found in save file: '\n"
          ],
          "name": "stderr"
        }
      ]
    },
    {
      "metadata": {
        "id": "1WRXfEQZn-aA",
        "colab_type": "text"
      },
      "cell_type": "markdown",
      "source": [
        "\n",
        "\n",
        "*   Instead, I used \"pickle_from_file\" from autokeras.utils, and \"model.graph.produce_keras_model'', it works!\n",
        "\n"
      ]
    },
    {
      "metadata": {
        "id": "VvUSSYgs0Jfk",
        "colab_type": "code",
        "colab": {}
      },
      "cell_type": "code",
      "source": [
        "autokeras_model = ak.utils.pickle_from_file(my_model_path)\n",
        "keras_model = autokeras_model.graph.produce_keras_model()"
      ],
      "execution_count": 0,
      "outputs": []
    },
    {
      "metadata": {
        "id": "eGhXSJ0zozf-",
        "colab_type": "text"
      },
      "cell_type": "markdown",
      "source": [
        "\n",
        "\n",
        "*   To leverage keras model to have a general look on the layers\n",
        "*   First Impression: so complex is the neural network !\n",
        "\n"
      ]
    },
    {
      "metadata": {
        "id": "r3ro5vmEoTBk",
        "colab_type": "code",
        "outputId": "1e263484-1e18-48fd-e677-f18ffc7dc2a0",
        "colab": {
          "base_uri": "https://localhost:8080/",
          "height": 1377
        }
      },
      "cell_type": "code",
      "source": [
        "print('There are {} layers in the best model generated by Autokeras \\n'.format(len(keras_model.layers)))\n",
        "keras_model.layers"
      ],
      "execution_count": 0,
      "outputs": [
        {
          "output_type": "stream",
          "text": [
            "There are 78 layers in the best model generated by Autokeras \n",
            "\n"
          ],
          "name": "stdout"
        },
        {
          "output_type": "execute_result",
          "data": {
            "text/plain": [
              "[<keras.engine.input_layer.InputLayer at 0x7f8dc2054278>,\n",
              " <keras.layers.convolutional.Conv2D at 0x7f8daf67c860>,\n",
              " <keras.layers.core.Activation at 0x7f8daf5dd160>,\n",
              " <keras.layers.normalization.BatchNormalization at 0x7f8daf60acf8>,\n",
              " <keras.layers.normalization.BatchNormalization at 0x7f8daf60ac50>,\n",
              " <keras.layers.core.Activation at 0x7f8daf61d630>,\n",
              " <keras.layers.convolutional.Conv2D at 0x7f8daf61d588>,\n",
              " <keras.layers.normalization.BatchNormalization at 0x7f8daf61d940>,\n",
              " <keras.layers.core.Activation at 0x7f8daf61da58>,\n",
              " <keras.layers.core.Activation at 0x7f8daf61dc18>,\n",
              " <keras.layers.convolutional.Conv2D at 0x7f8daf61da90>,\n",
              " <keras.layers.convolutional.Conv2D at 0x7f8daf61dc50>,\n",
              " <keras.layers.merge.Add at 0x7f8daf61ddd8>,\n",
              " <keras.layers.normalization.BatchNormalization at 0x7f8daf61de48>,\n",
              " <keras.layers.core.Activation at 0x7f8daf61df60>,\n",
              " <keras.layers.convolutional.Conv2D at 0x7f8daf61df98>,\n",
              " <keras.layers.normalization.BatchNormalization at 0x7f8daf5c2160>,\n",
              " <keras.layers.core.Activation at 0x7f8daf5c2278>,\n",
              " <keras.layers.core.Activation at 0x7f8daf5c2438>,\n",
              " <keras.layers.convolutional.Conv2D at 0x7f8daf5c22b0>,\n",
              " <keras.layers.convolutional.Conv2D at 0x7f8daf5c2470>,\n",
              " <keras.layers.merge.Add at 0x7f8daf5d4eb8>,\n",
              " <keras.layers.normalization.BatchNormalization at 0x7f8daf5d4f28>,\n",
              " <keras.layers.core.Activation at 0x7f8daf5d4fd0>,\n",
              " <keras.layers.convolutional.Conv2D at 0x7f8dc0a430b8>,\n",
              " <keras.layers.normalization.BatchNormalization at 0x7f8dc0a43240>,\n",
              " <keras.layers.core.Activation at 0x7f8dc0a43358>,\n",
              " <keras.layers.core.Activation at 0x7f8dc0a43518>,\n",
              " <keras.layers.convolutional.Conv2D at 0x7f8dc0a43390>,\n",
              " <keras.layers.convolutional.Conv2D at 0x7f8dc0a43550>,\n",
              " <keras.layers.merge.Add at 0x7f8dc0a436d8>,\n",
              " <keras.layers.normalization.BatchNormalization at 0x7f8dc0a43748>,\n",
              " <keras.layers.core.Activation at 0x7f8dc0a43860>,\n",
              " <keras.layers.convolutional.Conv2D at 0x7f8dc0a43898>,\n",
              " <keras.layers.normalization.BatchNormalization at 0x7f8dc0a43a20>,\n",
              " <keras.layers.core.Activation at 0x7f8dc0a43b38>,\n",
              " <keras.layers.core.Activation at 0x7f8dc0a43cf8>,\n",
              " <keras.layers.convolutional.Conv2D at 0x7f8dc0a43b70>,\n",
              " <keras.layers.convolutional.Conv2D at 0x7f8dc0a43d30>,\n",
              " <keras.layers.merge.Add at 0x7f8dc0a43eb8>,\n",
              " <keras.layers.normalization.BatchNormalization at 0x7f8dc0a43f28>,\n",
              " <keras.layers.core.Activation at 0x7f8dc0a43fd0>,\n",
              " <keras.layers.convolutional.Conv2D at 0x7f8daf62e0b8>,\n",
              " <keras.layers.normalization.BatchNormalization at 0x7f8daf62e240>,\n",
              " <keras.layers.core.Activation at 0x7f8daf62e358>,\n",
              " <keras.layers.core.Activation at 0x7f8daf62e518>,\n",
              " <keras.layers.convolutional.Conv2D at 0x7f8daf62e390>,\n",
              " <keras.layers.convolutional.Conv2D at 0x7f8daf62e550>,\n",
              " <keras.layers.merge.Add at 0x7f8daf62e6d8>,\n",
              " <keras.layers.normalization.BatchNormalization at 0x7f8daf62e748>,\n",
              " <keras.layers.core.Activation at 0x7f8daf62e860>,\n",
              " <keras.layers.convolutional.Conv2D at 0x7f8daf62e898>,\n",
              " <keras.layers.normalization.BatchNormalization at 0x7f8daf62ea20>,\n",
              " <keras.layers.core.Activation at 0x7f8daf62eb38>,\n",
              " <keras.layers.core.Activation at 0x7f8daf62ecf8>,\n",
              " <keras.layers.convolutional.Conv2D at 0x7f8daf62eb70>,\n",
              " <keras.layers.convolutional.Conv2D at 0x7f8daf62ed30>,\n",
              " <keras.layers.merge.Add at 0x7f8daf62eeb8>,\n",
              " <keras.layers.normalization.BatchNormalization at 0x7f8daf62ef28>,\n",
              " <keras.layers.core.Activation at 0x7f8daf62efd0>,\n",
              " <keras.layers.convolutional.Conv2D at 0x7f8daf5d80b8>,\n",
              " <keras.layers.normalization.BatchNormalization at 0x7f8daf5d8240>,\n",
              " <keras.layers.core.Activation at 0x7f8daf5d8358>,\n",
              " <keras.layers.core.Activation at 0x7f8daf5d8518>,\n",
              " <keras.layers.convolutional.Conv2D at 0x7f8daf5d8390>,\n",
              " <keras.layers.convolutional.Conv2D at 0x7f8daf5d8550>,\n",
              " <keras.layers.merge.Add at 0x7f8daf5d86d8>,\n",
              " <keras.layers.normalization.BatchNormalization at 0x7f8daf5d8748>,\n",
              " <keras.layers.core.Activation at 0x7f8daf5d8860>,\n",
              " <keras.layers.convolutional.Conv2D at 0x7f8daf5d8898>,\n",
              " <keras.layers.normalization.BatchNormalization at 0x7f8daf5d8a20>,\n",
              " <keras.layers.core.Activation at 0x7f8daf5d8b38>,\n",
              " <keras.layers.core.Activation at 0x7f8daf5d8cf8>,\n",
              " <keras.layers.convolutional.Conv2D at 0x7f8daf5d8b70>,\n",
              " <keras.layers.convolutional.Conv2D at 0x7f8daf5d8d30>,\n",
              " <keras.layers.merge.Add at 0x7f8daf5d8eb8>,\n",
              " <keras.layers.pooling.GlobalAveragePooling2D at 0x7f8daf5d8f28>,\n",
              " <keras.layers.core.Dense at 0x7f8daf5d8fd0>]"
            ]
          },
          "metadata": {
            "tags": []
          },
          "execution_count": 60
        }
      ]
    },
    {
      "metadata": {
        "id": "9qnhsTp9ojmv",
        "colab_type": "text"
      },
      "cell_type": "markdown",
      "source": [
        "## 4. Visualize The Best Model from Autokeras"
      ]
    },
    {
      "metadata": {
        "id": "PeTJSnI3sARs",
        "colab_type": "text"
      },
      "cell_type": "markdown",
      "source": [
        "* Save an image of the architecture of the best model"
      ]
    },
    {
      "metadata": {
        "id": "omp3l4zVlLtH",
        "colab_type": "code",
        "colab": {}
      },
      "cell_type": "code",
      "source": [
        "from keras.utils import plot_model\n",
        "plot_model(keras_model)"
      ],
      "execution_count": 0,
      "outputs": []
    },
    {
      "metadata": {
        "id": "HYKoxCggqJRf",
        "colab_type": "code",
        "colab": {}
      },
      "cell_type": "code",
      "source": [
        "plot_model(keras_model, to_file='drive/Autokeras/model.png')"
      ],
      "execution_count": 0,
      "outputs": []
    },
    {
      "metadata": {
        "id": "qcvFDkjNsFlI",
        "colab_type": "text"
      },
      "cell_type": "markdown",
      "source": [
        "* Display the architecture of this model\n",
        "* The network is truely complicated"
      ]
    },
    {
      "metadata": {
        "id": "W2N2NzfYqNCl",
        "colab_type": "code",
        "outputId": "2bc85c7f-dfb8-4e21-8f6c-9949223a8f8c",
        "colab": {
          "base_uri": "https://localhost:8080/",
          "height": 6018
        }
      },
      "cell_type": "code",
      "source": [
        "from IPython.display import SVG\n",
        "from keras.utils.vis_utils import model_to_dot\n",
        "\n",
        "SVG(model_to_dot(keras_model).create(prog='dot', format='svg'))"
      ],
      "execution_count": 0,
      "outputs": [
        {
          "output_type": "execute_result",
          "data": {
            "text/plain": [
              "<IPython.core.display.SVG object>"
            ],
            "image/svg+xml": "<svg height=\"4498pt\" viewBox=\"0.00 0.00 472.50 4498.00\" width=\"473pt\" xmlns=\"http://www.w3.org/2000/svg\" xmlns:xlink=\"http://www.w3.org/1999/xlink\">\n<g class=\"graph\" id=\"graph0\" transform=\"scale(1 1) rotate(0) translate(4 4494)\">\n<title>G</title>\n<polygon fill=\"#ffffff\" points=\"-4,4 -4,-4494 468.5,-4494 468.5,4 -4,4\" stroke=\"transparent\"/>\n<!-- 140246822240888 -->\n<g class=\"node\" id=\"node1\">\n<title>140246822240888</title>\n<polygon fill=\"none\" points=\"198.5,-4453.5 198.5,-4489.5 331.5,-4489.5 331.5,-4453.5 198.5,-4453.5\" stroke=\"#000000\"/>\n<text fill=\"#000000\" font-family=\"Times,serif\" font-size=\"14.00\" text-anchor=\"middle\" x=\"265\" y=\"-4467.8\">input_4: InputLayer</text>\n</g>\n<!-- 140246509930592 -->\n<g class=\"node\" id=\"node2\">\n<title>140246509930592</title>\n<polygon fill=\"none\" points=\"195,-4380.5 195,-4416.5 335,-4416.5 335,-4380.5 195,-4380.5\" stroke=\"#000000\"/>\n<text fill=\"#000000\" font-family=\"Times,serif\" font-size=\"14.00\" text-anchor=\"middle\" x=\"265\" y=\"-4394.8\">conv2d_76: Conv2D</text>\n</g>\n<!-- 140246822240888&#45;&gt;140246509930592 -->\n<g class=\"edge\" id=\"edge1\">\n<title>140246822240888-&gt;140246509930592</title>\n<path d=\"M265,-4453.4551C265,-4445.3828 265,-4435.6764 265,-4426.6817\" fill=\"none\" stroke=\"#000000\"/>\n<polygon fill=\"#000000\" points=\"268.5001,-4426.5903 265,-4416.5904 261.5001,-4426.5904 268.5001,-4426.5903\" stroke=\"#000000\"/>\n</g>\n<!-- 140246509277536 -->\n<g class=\"node\" id=\"node3\">\n<title>140246509277536</title>\n<polygon fill=\"none\" points=\"180.5,-4307.5 180.5,-4343.5 349.5,-4343.5 349.5,-4307.5 180.5,-4307.5\" stroke=\"#000000\"/>\n<text fill=\"#000000\" font-family=\"Times,serif\" font-size=\"14.00\" text-anchor=\"middle\" x=\"265\" y=\"-4321.8\">activation_100: Activation</text>\n</g>\n<!-- 140246509930592&#45;&gt;140246509277536 -->\n<g class=\"edge\" id=\"edge2\">\n<title>140246509930592-&gt;140246509277536</title>\n<path d=\"M265,-4380.4551C265,-4372.3828 265,-4362.6764 265,-4353.6817\" fill=\"none\" stroke=\"#000000\"/>\n<polygon fill=\"#000000\" points=\"268.5001,-4353.5903 265,-4343.5904 261.5001,-4353.5904 268.5001,-4353.5903\" stroke=\"#000000\"/>\n</g>\n<!-- 140246509464824 -->\n<g class=\"node\" id=\"node4\">\n<title>140246509464824</title>\n<polygon fill=\"none\" points=\"126,-4234.5 126,-4270.5 404,-4270.5 404,-4234.5 126,-4234.5\" stroke=\"#000000\"/>\n<text fill=\"#000000\" font-family=\"Times,serif\" font-size=\"14.00\" text-anchor=\"middle\" x=\"265\" y=\"-4248.8\">batch_normalization_52: BatchNormalization</text>\n</g>\n<!-- 140246509277536&#45;&gt;140246509464824 -->\n<g class=\"edge\" id=\"edge3\">\n<title>140246509277536-&gt;140246509464824</title>\n<path d=\"M265,-4307.4551C265,-4299.3828 265,-4289.6764 265,-4280.6817\" fill=\"none\" stroke=\"#000000\"/>\n<polygon fill=\"#000000\" points=\"268.5001,-4280.5903 265,-4270.5904 261.5001,-4280.5904 268.5001,-4280.5903\" stroke=\"#000000\"/>\n</g>\n<!-- 140246509464656 -->\n<g class=\"node\" id=\"node5\">\n<title>140246509464656</title>\n<polygon fill=\"none\" points=\"126,-4161.5 126,-4197.5 404,-4197.5 404,-4161.5 126,-4161.5\" stroke=\"#000000\"/>\n<text fill=\"#000000\" font-family=\"Times,serif\" font-size=\"14.00\" text-anchor=\"middle\" x=\"265\" y=\"-4175.8\">batch_normalization_53: BatchNormalization</text>\n</g>\n<!-- 140246509464824&#45;&gt;140246509464656 -->\n<g class=\"edge\" id=\"edge4\">\n<title>140246509464824-&gt;140246509464656</title>\n<path d=\"M265,-4234.4551C265,-4226.3828 265,-4216.6764 265,-4207.6817\" fill=\"none\" stroke=\"#000000\"/>\n<polygon fill=\"#000000\" points=\"268.5001,-4207.5903 265,-4197.5904 261.5001,-4207.5904 268.5001,-4207.5903\" stroke=\"#000000\"/>\n</g>\n<!-- 140246509540912 -->\n<g class=\"node\" id=\"node6\">\n<title>140246509540912</title>\n<polygon fill=\"none\" points=\"184.5,-4088.5 184.5,-4124.5 345.5,-4124.5 345.5,-4088.5 184.5,-4088.5\" stroke=\"#000000\"/>\n<text fill=\"#000000\" font-family=\"Times,serif\" font-size=\"14.00\" text-anchor=\"middle\" x=\"265\" y=\"-4102.8\">activation_76: Activation</text>\n</g>\n<!-- 140246509464656&#45;&gt;140246509540912 -->\n<g class=\"edge\" id=\"edge5\">\n<title>140246509464656-&gt;140246509540912</title>\n<path d=\"M265,-4161.4551C265,-4153.3828 265,-4143.6764 265,-4134.6817\" fill=\"none\" stroke=\"#000000\"/>\n<polygon fill=\"#000000\" points=\"268.5001,-4134.5903 265,-4124.5904 261.5001,-4134.5904 268.5001,-4134.5903\" stroke=\"#000000\"/>\n</g>\n<!-- 140246509540744 -->\n<g class=\"node\" id=\"node7\">\n<title>140246509540744</title>\n<polygon fill=\"none\" points=\"146,-4015.5 146,-4051.5 286,-4051.5 286,-4015.5 146,-4015.5\" stroke=\"#000000\"/>\n<text fill=\"#000000\" font-family=\"Times,serif\" font-size=\"14.00\" text-anchor=\"middle\" x=\"216\" y=\"-4029.8\">conv2d_77: Conv2D</text>\n</g>\n<!-- 140246509540912&#45;&gt;140246509540744 -->\n<g class=\"edge\" id=\"edge6\">\n<title>140246509540912-&gt;140246509540744</title>\n<path d=\"M252.8876,-4088.4551C247.1159,-4079.8564 240.0995,-4069.4034 233.7418,-4059.9316\" fill=\"none\" stroke=\"#000000\"/>\n<polygon fill=\"#000000\" points=\"236.6222,-4057.9427 228.1428,-4051.5904 230.8101,-4061.844 236.6222,-4057.9427\" stroke=\"#000000\"/>\n</g>\n<!-- 140246509542424 -->\n<g class=\"node\" id=\"node10\">\n<title>140246509542424</title>\n<polygon fill=\"none\" points=\"303.5,-3942.5 303.5,-3978.5 464.5,-3978.5 464.5,-3942.5 303.5,-3942.5\" stroke=\"#000000\"/>\n<text fill=\"#000000\" font-family=\"Times,serif\" font-size=\"14.00\" text-anchor=\"middle\" x=\"384\" y=\"-3956.8\">activation_78: Activation</text>\n</g>\n<!-- 140246509540912&#45;&gt;140246509542424 -->\n<g class=\"edge\" id=\"edge9\">\n<title>140246509540912-&gt;140246509542424</title>\n<path d=\"M279.8308,-4088.3042C300.6747,-4062.7311 338.754,-4016.0119 362.6459,-3986.6992\" fill=\"none\" stroke=\"#000000\"/>\n<polygon fill=\"#000000\" points=\"365.3773,-3988.8878 368.9823,-3978.9251 359.9513,-3984.4652 365.3773,-3988.8878\" stroke=\"#000000\"/>\n</g>\n<!-- 140246509541696 -->\n<g class=\"node\" id=\"node8\">\n<title>140246509541696</title>\n<polygon fill=\"none\" points=\"7,-3942.5 7,-3978.5 285,-3978.5 285,-3942.5 7,-3942.5\" stroke=\"#000000\"/>\n<text fill=\"#000000\" font-family=\"Times,serif\" font-size=\"14.00\" text-anchor=\"middle\" x=\"146\" y=\"-3956.8\">batch_normalization_54: BatchNormalization</text>\n</g>\n<!-- 140246509540744&#45;&gt;140246509541696 -->\n<g class=\"edge\" id=\"edge7\">\n<title>140246509540744-&gt;140246509541696</title>\n<path d=\"M198.6966,-4015.4551C190.1989,-4006.5932 179.8125,-3995.7616 170.514,-3986.0646\" fill=\"none\" stroke=\"#000000\"/>\n<polygon fill=\"#000000\" points=\"172.7944,-3983.3858 163.3469,-3978.5904 167.7419,-3988.2306 172.7944,-3983.3858\" stroke=\"#000000\"/>\n</g>\n<!-- 140246509541976 -->\n<g class=\"node\" id=\"node9\">\n<title>140246509541976</title>\n<polygon fill=\"none\" points=\"99.5,-3869.5 99.5,-3905.5 260.5,-3905.5 260.5,-3869.5 99.5,-3869.5\" stroke=\"#000000\"/>\n<text fill=\"#000000\" font-family=\"Times,serif\" font-size=\"14.00\" text-anchor=\"middle\" x=\"180\" y=\"-3883.8\">activation_77: Activation</text>\n</g>\n<!-- 140246509541696&#45;&gt;140246509541976 -->\n<g class=\"edge\" id=\"edge8\">\n<title>140246509541696-&gt;140246509541976</title>\n<path d=\"M154.4045,-3942.4551C158.2868,-3934.1196 162.9806,-3924.0416 167.283,-3914.8042\" fill=\"none\" stroke=\"#000000\"/>\n<polygon fill=\"#000000\" points=\"170.525,-3916.1331 171.5744,-3905.5904 164.1795,-3913.1776 170.525,-3916.1331\" stroke=\"#000000\"/>\n</g>\n<!-- 140246509542032 -->\n<g class=\"node\" id=\"node11\">\n<title>140246509542032</title>\n<polygon fill=\"none\" points=\"145,-3796.5 145,-3832.5 285,-3832.5 285,-3796.5 145,-3796.5\" stroke=\"#000000\"/>\n<text fill=\"#000000\" font-family=\"Times,serif\" font-size=\"14.00\" text-anchor=\"middle\" x=\"215\" y=\"-3810.8\">conv2d_78: Conv2D</text>\n</g>\n<!-- 140246509541976&#45;&gt;140246509542032 -->\n<g class=\"edge\" id=\"edge10\">\n<title>140246509541976-&gt;140246509542032</title>\n<path d=\"M188.6517,-3869.4551C192.6481,-3861.1196 197.4801,-3851.0416 201.909,-3841.8042\" fill=\"none\" stroke=\"#000000\"/>\n<polygon fill=\"#000000\" points=\"205.1592,-3843.1207 206.3265,-3832.5904 198.8472,-3840.0944 205.1592,-3843.1207\" stroke=\"#000000\"/>\n</g>\n<!-- 140246509542480 -->\n<g class=\"node\" id=\"node12\">\n<title>140246509542480</title>\n<polygon fill=\"none\" points=\"296,-3869.5 296,-3905.5 436,-3905.5 436,-3869.5 296,-3869.5\" stroke=\"#000000\"/>\n<text fill=\"#000000\" font-family=\"Times,serif\" font-size=\"14.00\" text-anchor=\"middle\" x=\"366\" y=\"-3883.8\">conv2d_79: Conv2D</text>\n</g>\n<!-- 140246509542424&#45;&gt;140246509542480 -->\n<g class=\"edge\" id=\"edge11\">\n<title>140246509542424-&gt;140246509542480</title>\n<path d=\"M379.5506,-3942.4551C377.5385,-3934.2951 375.1147,-3924.4652 372.8767,-3915.3887\" fill=\"none\" stroke=\"#000000\"/>\n<polygon fill=\"#000000\" points=\"376.253,-3914.4616 370.4606,-3905.5904 369.4565,-3916.1375 376.253,-3914.4616\" stroke=\"#000000\"/>\n</g>\n<!-- 140246509542872 -->\n<g class=\"node\" id=\"node13\">\n<title>140246509542872</title>\n<polygon fill=\"none\" points=\"218,-3723.5 218,-3759.5 310,-3759.5 310,-3723.5 218,-3723.5\" stroke=\"#000000\"/>\n<text fill=\"#000000\" font-family=\"Times,serif\" font-size=\"14.00\" text-anchor=\"middle\" x=\"264\" y=\"-3737.8\">add_25: Add</text>\n</g>\n<!-- 140246509542032&#45;&gt;140246509542872 -->\n<g class=\"edge\" id=\"edge12\">\n<title>140246509542032-&gt;140246509542872</title>\n<path d=\"M227.1124,-3796.4551C232.8841,-3787.8564 239.9005,-3777.4034 246.2582,-3767.9316\" fill=\"none\" stroke=\"#000000\"/>\n<polygon fill=\"#000000\" points=\"249.1899,-3769.844 251.8572,-3759.5904 243.3778,-3765.9427 249.1899,-3769.844\" stroke=\"#000000\"/>\n</g>\n<!-- 140246509542480&#45;&gt;140246509542872 -->\n<g class=\"edge\" id=\"edge13\">\n<title>140246509542480-&gt;140246509542872</title>\n<path d=\"M353.2879,-3869.3042C335.5744,-3843.9496 303.3391,-3797.8089 282.8313,-3768.4546\" fill=\"none\" stroke=\"#000000\"/>\n<polygon fill=\"#000000\" points=\"285.4686,-3766.1182 276.8723,-3759.9251 279.7303,-3770.1272 285.4686,-3766.1182\" stroke=\"#000000\"/>\n</g>\n<!-- 140246509542984 -->\n<g class=\"node\" id=\"node14\">\n<title>140246509542984</title>\n<polygon fill=\"none\" points=\"125,-3650.5 125,-3686.5 403,-3686.5 403,-3650.5 125,-3650.5\" stroke=\"#000000\"/>\n<text fill=\"#000000\" font-family=\"Times,serif\" font-size=\"14.00\" text-anchor=\"middle\" x=\"264\" y=\"-3664.8\">batch_normalization_55: BatchNormalization</text>\n</g>\n<!-- 140246509542872&#45;&gt;140246509542984 -->\n<g class=\"edge\" id=\"edge14\">\n<title>140246509542872-&gt;140246509542984</title>\n<path d=\"M264,-3723.4551C264,-3715.3828 264,-3705.6764 264,-3696.6817\" fill=\"none\" stroke=\"#000000\"/>\n<polygon fill=\"#000000\" points=\"267.5001,-3696.5903 264,-3686.5904 260.5001,-3696.5904 267.5001,-3696.5903\" stroke=\"#000000\"/>\n</g>\n<!-- 140246509543264 -->\n<g class=\"node\" id=\"node15\">\n<title>140246509543264</title>\n<polygon fill=\"none\" points=\"183.5,-3577.5 183.5,-3613.5 344.5,-3613.5 344.5,-3577.5 183.5,-3577.5\" stroke=\"#000000\"/>\n<text fill=\"#000000\" font-family=\"Times,serif\" font-size=\"14.00\" text-anchor=\"middle\" x=\"264\" y=\"-3591.8\">activation_79: Activation</text>\n</g>\n<!-- 140246509542984&#45;&gt;140246509543264 -->\n<g class=\"edge\" id=\"edge15\">\n<title>140246509542984-&gt;140246509543264</title>\n<path d=\"M264,-3650.4551C264,-3642.3828 264,-3632.6764 264,-3623.6817\" fill=\"none\" stroke=\"#000000\"/>\n<polygon fill=\"#000000\" points=\"267.5001,-3623.5903 264,-3613.5904 260.5001,-3623.5904 267.5001,-3623.5903\" stroke=\"#000000\"/>\n</g>\n<!-- 140246509543320 -->\n<g class=\"node\" id=\"node16\">\n<title>140246509543320</title>\n<polygon fill=\"none\" points=\"145,-3504.5 145,-3540.5 285,-3540.5 285,-3504.5 145,-3504.5\" stroke=\"#000000\"/>\n<text fill=\"#000000\" font-family=\"Times,serif\" font-size=\"14.00\" text-anchor=\"middle\" x=\"215\" y=\"-3518.8\">conv2d_80: Conv2D</text>\n</g>\n<!-- 140246509543264&#45;&gt;140246509543320 -->\n<g class=\"edge\" id=\"edge16\">\n<title>140246509543264-&gt;140246509543320</title>\n<path d=\"M251.8876,-3577.4551C246.1159,-3568.8564 239.0995,-3558.4034 232.7418,-3548.9316\" fill=\"none\" stroke=\"#000000\"/>\n<polygon fill=\"#000000\" points=\"235.6222,-3546.9427 227.1428,-3540.5904 229.8101,-3550.844 235.6222,-3546.9427\" stroke=\"#000000\"/>\n</g>\n<!-- 140246509167672 -->\n<g class=\"node\" id=\"node19\">\n<title>140246509167672</title>\n<polygon fill=\"none\" points=\"302.5,-3431.5 302.5,-3467.5 463.5,-3467.5 463.5,-3431.5 302.5,-3431.5\" stroke=\"#000000\"/>\n<text fill=\"#000000\" font-family=\"Times,serif\" font-size=\"14.00\" text-anchor=\"middle\" x=\"383\" y=\"-3445.8\">activation_81: Activation</text>\n</g>\n<!-- 140246509543264&#45;&gt;140246509167672 -->\n<g class=\"edge\" id=\"edge19\">\n<title>140246509543264-&gt;140246509167672</title>\n<path d=\"M278.8308,-3577.3042C299.6747,-3551.7311 337.754,-3505.0119 361.6459,-3475.6992\" fill=\"none\" stroke=\"#000000\"/>\n<polygon fill=\"#000000\" points=\"364.3773,-3477.8878 367.9823,-3467.9251 358.9513,-3473.4652 364.3773,-3477.8878\" stroke=\"#000000\"/>\n</g>\n<!-- 140246509166944 -->\n<g class=\"node\" id=\"node17\">\n<title>140246509166944</title>\n<polygon fill=\"none\" points=\"6,-3431.5 6,-3467.5 284,-3467.5 284,-3431.5 6,-3431.5\" stroke=\"#000000\"/>\n<text fill=\"#000000\" font-family=\"Times,serif\" font-size=\"14.00\" text-anchor=\"middle\" x=\"145\" y=\"-3445.8\">batch_normalization_56: BatchNormalization</text>\n</g>\n<!-- 140246509543320&#45;&gt;140246509166944 -->\n<g class=\"edge\" id=\"edge17\">\n<title>140246509543320-&gt;140246509166944</title>\n<path d=\"M197.6966,-3504.4551C189.1989,-3495.5932 178.8125,-3484.7616 169.514,-3475.0646\" fill=\"none\" stroke=\"#000000\"/>\n<polygon fill=\"#000000\" points=\"171.7944,-3472.3858 162.3469,-3467.5904 166.7419,-3477.2306 171.7944,-3472.3858\" stroke=\"#000000\"/>\n</g>\n<!-- 140246509167224 -->\n<g class=\"node\" id=\"node18\">\n<title>140246509167224</title>\n<polygon fill=\"none\" points=\"98.5,-3358.5 98.5,-3394.5 259.5,-3394.5 259.5,-3358.5 98.5,-3358.5\" stroke=\"#000000\"/>\n<text fill=\"#000000\" font-family=\"Times,serif\" font-size=\"14.00\" text-anchor=\"middle\" x=\"179\" y=\"-3372.8\">activation_80: Activation</text>\n</g>\n<!-- 140246509166944&#45;&gt;140246509167224 -->\n<g class=\"edge\" id=\"edge18\">\n<title>140246509166944-&gt;140246509167224</title>\n<path d=\"M153.4045,-3431.4551C157.2868,-3423.1196 161.9806,-3413.0416 166.283,-3403.8042\" fill=\"none\" stroke=\"#000000\"/>\n<polygon fill=\"#000000\" points=\"169.525,-3405.1331 170.5744,-3394.5904 163.1795,-3402.1776 169.525,-3405.1331\" stroke=\"#000000\"/>\n</g>\n<!-- 140246509167280 -->\n<g class=\"node\" id=\"node20\">\n<title>140246509167280</title>\n<polygon fill=\"none\" points=\"144,-3285.5 144,-3321.5 284,-3321.5 284,-3285.5 144,-3285.5\" stroke=\"#000000\"/>\n<text fill=\"#000000\" font-family=\"Times,serif\" font-size=\"14.00\" text-anchor=\"middle\" x=\"214\" y=\"-3299.8\">conv2d_81: Conv2D</text>\n</g>\n<!-- 140246509167224&#45;&gt;140246509167280 -->\n<g class=\"edge\" id=\"edge20\">\n<title>140246509167224-&gt;140246509167280</title>\n<path d=\"M187.6517,-3358.4551C191.6481,-3350.1196 196.4801,-3340.0416 200.909,-3330.8042\" fill=\"none\" stroke=\"#000000\"/>\n<polygon fill=\"#000000\" points=\"204.1592,-3332.1207 205.3265,-3321.5904 197.8472,-3329.0944 204.1592,-3332.1207\" stroke=\"#000000\"/>\n</g>\n<!-- 140246509167728 -->\n<g class=\"node\" id=\"node21\">\n<title>140246509167728</title>\n<polygon fill=\"none\" points=\"295,-3358.5 295,-3394.5 435,-3394.5 435,-3358.5 295,-3358.5\" stroke=\"#000000\"/>\n<text fill=\"#000000\" font-family=\"Times,serif\" font-size=\"14.00\" text-anchor=\"middle\" x=\"365\" y=\"-3372.8\">conv2d_82: Conv2D</text>\n</g>\n<!-- 140246509167672&#45;&gt;140246509167728 -->\n<g class=\"edge\" id=\"edge21\">\n<title>140246509167672-&gt;140246509167728</title>\n<path d=\"M378.5506,-3431.4551C376.5385,-3423.2951 374.1147,-3413.4652 371.8767,-3404.3887\" fill=\"none\" stroke=\"#000000\"/>\n<polygon fill=\"#000000\" points=\"375.253,-3403.4616 369.4606,-3394.5904 368.4565,-3405.1375 375.253,-3403.4616\" stroke=\"#000000\"/>\n</g>\n<!-- 140246509244088 -->\n<g class=\"node\" id=\"node22\">\n<title>140246509244088</title>\n<polygon fill=\"none\" points=\"217,-3212.5 217,-3248.5 309,-3248.5 309,-3212.5 217,-3212.5\" stroke=\"#000000\"/>\n<text fill=\"#000000\" font-family=\"Times,serif\" font-size=\"14.00\" text-anchor=\"middle\" x=\"263\" y=\"-3226.8\">add_26: Add</text>\n</g>\n<!-- 140246509167280&#45;&gt;140246509244088 -->\n<g class=\"edge\" id=\"edge22\">\n<title>140246509167280-&gt;140246509244088</title>\n<path d=\"M226.1124,-3285.4551C231.8841,-3276.8564 238.9005,-3266.4034 245.2582,-3256.9316\" fill=\"none\" stroke=\"#000000\"/>\n<polygon fill=\"#000000\" points=\"248.1899,-3258.844 250.8572,-3248.5904 242.3778,-3254.9427 248.1899,-3258.844\" stroke=\"#000000\"/>\n</g>\n<!-- 140246509167728&#45;&gt;140246509244088 -->\n<g class=\"edge\" id=\"edge23\">\n<title>140246509167728-&gt;140246509244088</title>\n<path d=\"M352.2879,-3358.3042C334.5744,-3332.9496 302.3391,-3286.8089 281.8313,-3257.4546\" fill=\"none\" stroke=\"#000000\"/>\n<polygon fill=\"#000000\" points=\"284.4686,-3255.1182 275.8723,-3248.9251 278.7303,-3259.1272 284.4686,-3255.1182\" stroke=\"#000000\"/>\n</g>\n<!-- 140246509244200 -->\n<g class=\"node\" id=\"node23\">\n<title>140246509244200</title>\n<polygon fill=\"none\" points=\"124,-3139.5 124,-3175.5 402,-3175.5 402,-3139.5 124,-3139.5\" stroke=\"#000000\"/>\n<text fill=\"#000000\" font-family=\"Times,serif\" font-size=\"14.00\" text-anchor=\"middle\" x=\"263\" y=\"-3153.8\">batch_normalization_57: BatchNormalization</text>\n</g>\n<!-- 140246509244088&#45;&gt;140246509244200 -->\n<g class=\"edge\" id=\"edge24\">\n<title>140246509244088-&gt;140246509244200</title>\n<path d=\"M263,-3212.4551C263,-3204.3828 263,-3194.6764 263,-3185.6817\" fill=\"none\" stroke=\"#000000\"/>\n<polygon fill=\"#000000\" points=\"266.5001,-3185.5903 263,-3175.5904 259.5001,-3185.5904 266.5001,-3185.5903\" stroke=\"#000000\"/>\n</g>\n<!-- 140246509244368 -->\n<g class=\"node\" id=\"node24\">\n<title>140246509244368</title>\n<polygon fill=\"none\" points=\"182.5,-3066.5 182.5,-3102.5 343.5,-3102.5 343.5,-3066.5 182.5,-3066.5\" stroke=\"#000000\"/>\n<text fill=\"#000000\" font-family=\"Times,serif\" font-size=\"14.00\" text-anchor=\"middle\" x=\"263\" y=\"-3080.8\">activation_82: Activation</text>\n</g>\n<!-- 140246509244200&#45;&gt;140246509244368 -->\n<g class=\"edge\" id=\"edge25\">\n<title>140246509244200-&gt;140246509244368</title>\n<path d=\"M263,-3139.4551C263,-3131.3828 263,-3121.6764 263,-3112.6817\" fill=\"none\" stroke=\"#000000\"/>\n<polygon fill=\"#000000\" points=\"266.5001,-3112.5903 263,-3102.5904 259.5001,-3112.5904 266.5001,-3112.5903\" stroke=\"#000000\"/>\n</g>\n<!-- 140246799102136 -->\n<g class=\"node\" id=\"node25\">\n<title>140246799102136</title>\n<polygon fill=\"none\" points=\"144,-2993.5 144,-3029.5 284,-3029.5 284,-2993.5 144,-2993.5\" stroke=\"#000000\"/>\n<text fill=\"#000000\" font-family=\"Times,serif\" font-size=\"14.00\" text-anchor=\"middle\" x=\"214\" y=\"-3007.8\">conv2d_83: Conv2D</text>\n</g>\n<!-- 140246509244368&#45;&gt;140246799102136 -->\n<g class=\"edge\" id=\"edge26\">\n<title>140246509244368-&gt;140246799102136</title>\n<path d=\"M250.8876,-3066.4551C245.1159,-3057.8564 238.0995,-3047.4034 231.7418,-3037.9316\" fill=\"none\" stroke=\"#000000\"/>\n<polygon fill=\"#000000\" points=\"234.6222,-3035.9427 226.1428,-3029.5904 228.8101,-3039.844 234.6222,-3035.9427\" stroke=\"#000000\"/>\n</g>\n<!-- 140246799103256 -->\n<g class=\"node\" id=\"node28\">\n<title>140246799103256</title>\n<polygon fill=\"none\" points=\"301.5,-2920.5 301.5,-2956.5 462.5,-2956.5 462.5,-2920.5 301.5,-2920.5\" stroke=\"#000000\"/>\n<text fill=\"#000000\" font-family=\"Times,serif\" font-size=\"14.00\" text-anchor=\"middle\" x=\"382\" y=\"-2934.8\">activation_84: Activation</text>\n</g>\n<!-- 140246509244368&#45;&gt;140246799103256 -->\n<g class=\"edge\" id=\"edge29\">\n<title>140246509244368-&gt;140246799103256</title>\n<path d=\"M277.8308,-3066.3042C298.6747,-3040.7311 336.754,-2994.0119 360.6459,-2964.6992\" fill=\"none\" stroke=\"#000000\"/>\n<polygon fill=\"#000000\" points=\"363.3773,-2966.8878 366.9823,-2956.9251 357.9513,-2962.4652 363.3773,-2966.8878\" stroke=\"#000000\"/>\n</g>\n<!-- 140246799102528 -->\n<g class=\"node\" id=\"node26\">\n<title>140246799102528</title>\n<polygon fill=\"none\" points=\"5,-2920.5 5,-2956.5 283,-2956.5 283,-2920.5 5,-2920.5\" stroke=\"#000000\"/>\n<text fill=\"#000000\" font-family=\"Times,serif\" font-size=\"14.00\" text-anchor=\"middle\" x=\"144\" y=\"-2934.8\">batch_normalization_58: BatchNormalization</text>\n</g>\n<!-- 140246799102136&#45;&gt;140246799102528 -->\n<g class=\"edge\" id=\"edge27\">\n<title>140246799102136-&gt;140246799102528</title>\n<path d=\"M196.6966,-2993.4551C188.1989,-2984.5932 177.8125,-2973.7616 168.514,-2964.0646\" fill=\"none\" stroke=\"#000000\"/>\n<polygon fill=\"#000000\" points=\"170.7944,-2961.3858 161.3469,-2956.5904 165.7419,-2966.2306 170.7944,-2961.3858\" stroke=\"#000000\"/>\n</g>\n<!-- 140246799102808 -->\n<g class=\"node\" id=\"node27\">\n<title>140246799102808</title>\n<polygon fill=\"none\" points=\"97.5,-2847.5 97.5,-2883.5 258.5,-2883.5 258.5,-2847.5 97.5,-2847.5\" stroke=\"#000000\"/>\n<text fill=\"#000000\" font-family=\"Times,serif\" font-size=\"14.00\" text-anchor=\"middle\" x=\"178\" y=\"-2861.8\">activation_83: Activation</text>\n</g>\n<!-- 140246799102528&#45;&gt;140246799102808 -->\n<g class=\"edge\" id=\"edge28\">\n<title>140246799102528-&gt;140246799102808</title>\n<path d=\"M152.4045,-2920.4551C156.2868,-2912.1196 160.9806,-2902.0416 165.283,-2892.8042\" fill=\"none\" stroke=\"#000000\"/>\n<polygon fill=\"#000000\" points=\"168.525,-2894.1331 169.5744,-2883.5904 162.1795,-2891.1776 168.525,-2894.1331\" stroke=\"#000000\"/>\n</g>\n<!-- 140246799102864 -->\n<g class=\"node\" id=\"node29\">\n<title>140246799102864</title>\n<polygon fill=\"none\" points=\"143,-2774.5 143,-2810.5 283,-2810.5 283,-2774.5 143,-2774.5\" stroke=\"#000000\"/>\n<text fill=\"#000000\" font-family=\"Times,serif\" font-size=\"14.00\" text-anchor=\"middle\" x=\"213\" y=\"-2788.8\">conv2d_84: Conv2D</text>\n</g>\n<!-- 140246799102808&#45;&gt;140246799102864 -->\n<g class=\"edge\" id=\"edge30\">\n<title>140246799102808-&gt;140246799102864</title>\n<path d=\"M186.6517,-2847.4551C190.6481,-2839.1196 195.4801,-2829.0416 199.909,-2819.8042\" fill=\"none\" stroke=\"#000000\"/>\n<polygon fill=\"#000000\" points=\"203.1592,-2821.1207 204.3265,-2810.5904 196.8472,-2818.0944 203.1592,-2821.1207\" stroke=\"#000000\"/>\n</g>\n<!-- 140246799103312 -->\n<g class=\"node\" id=\"node30\">\n<title>140246799103312</title>\n<polygon fill=\"none\" points=\"294,-2847.5 294,-2883.5 434,-2883.5 434,-2847.5 294,-2847.5\" stroke=\"#000000\"/>\n<text fill=\"#000000\" font-family=\"Times,serif\" font-size=\"14.00\" text-anchor=\"middle\" x=\"364\" y=\"-2861.8\">conv2d_85: Conv2D</text>\n</g>\n<!-- 140246799103256&#45;&gt;140246799103312 -->\n<g class=\"edge\" id=\"edge31\">\n<title>140246799103256-&gt;140246799103312</title>\n<path d=\"M377.5506,-2920.4551C375.5385,-2912.2951 373.1147,-2902.4652 370.8767,-2893.3887\" fill=\"none\" stroke=\"#000000\"/>\n<polygon fill=\"#000000\" points=\"374.253,-2892.4616 368.4606,-2883.5904 367.4565,-2894.1375 374.253,-2892.4616\" stroke=\"#000000\"/>\n</g>\n<!-- 140246799103704 -->\n<g class=\"node\" id=\"node31\">\n<title>140246799103704</title>\n<polygon fill=\"none\" points=\"216,-2701.5 216,-2737.5 308,-2737.5 308,-2701.5 216,-2701.5\" stroke=\"#000000\"/>\n<text fill=\"#000000\" font-family=\"Times,serif\" font-size=\"14.00\" text-anchor=\"middle\" x=\"262\" y=\"-2715.8\">add_27: Add</text>\n</g>\n<!-- 140246799102864&#45;&gt;140246799103704 -->\n<g class=\"edge\" id=\"edge32\">\n<title>140246799102864-&gt;140246799103704</title>\n<path d=\"M225.1124,-2774.4551C230.8841,-2765.8564 237.9005,-2755.4034 244.2582,-2745.9316\" fill=\"none\" stroke=\"#000000\"/>\n<polygon fill=\"#000000\" points=\"247.1899,-2747.844 249.8572,-2737.5904 241.3778,-2743.9427 247.1899,-2747.844\" stroke=\"#000000\"/>\n</g>\n<!-- 140246799103312&#45;&gt;140246799103704 -->\n<g class=\"edge\" id=\"edge33\">\n<title>140246799103312-&gt;140246799103704</title>\n<path d=\"M351.2879,-2847.3042C333.5744,-2821.9496 301.3391,-2775.8089 280.8313,-2746.4546\" fill=\"none\" stroke=\"#000000\"/>\n<polygon fill=\"#000000\" points=\"283.4686,-2744.1182 274.8723,-2737.9251 277.7303,-2748.1272 283.4686,-2744.1182\" stroke=\"#000000\"/>\n</g>\n<!-- 140246799103816 -->\n<g class=\"node\" id=\"node32\">\n<title>140246799103816</title>\n<polygon fill=\"none\" points=\"123,-2628.5 123,-2664.5 401,-2664.5 401,-2628.5 123,-2628.5\" stroke=\"#000000\"/>\n<text fill=\"#000000\" font-family=\"Times,serif\" font-size=\"14.00\" text-anchor=\"middle\" x=\"262\" y=\"-2642.8\">batch_normalization_59: BatchNormalization</text>\n</g>\n<!-- 140246799103704&#45;&gt;140246799103816 -->\n<g class=\"edge\" id=\"edge34\">\n<title>140246799103704-&gt;140246799103816</title>\n<path d=\"M262,-2701.4551C262,-2693.3828 262,-2683.6764 262,-2674.6817\" fill=\"none\" stroke=\"#000000\"/>\n<polygon fill=\"#000000\" points=\"265.5001,-2674.5903 262,-2664.5904 258.5001,-2674.5904 265.5001,-2674.5903\" stroke=\"#000000\"/>\n</g>\n<!-- 140246799104096 -->\n<g class=\"node\" id=\"node33\">\n<title>140246799104096</title>\n<polygon fill=\"none\" points=\"181.5,-2555.5 181.5,-2591.5 342.5,-2591.5 342.5,-2555.5 181.5,-2555.5\" stroke=\"#000000\"/>\n<text fill=\"#000000\" font-family=\"Times,serif\" font-size=\"14.00\" text-anchor=\"middle\" x=\"262\" y=\"-2569.8\">activation_85: Activation</text>\n</g>\n<!-- 140246799103816&#45;&gt;140246799104096 -->\n<g class=\"edge\" id=\"edge35\">\n<title>140246799103816-&gt;140246799104096</title>\n<path d=\"M262,-2628.4551C262,-2620.3828 262,-2610.6764 262,-2601.6817\" fill=\"none\" stroke=\"#000000\"/>\n<polygon fill=\"#000000\" points=\"265.5001,-2601.5903 262,-2591.5904 258.5001,-2601.5904 265.5001,-2601.5903\" stroke=\"#000000\"/>\n</g>\n<!-- 140246799104152 -->\n<g class=\"node\" id=\"node34\">\n<title>140246799104152</title>\n<polygon fill=\"none\" points=\"143,-2482.5 143,-2518.5 283,-2518.5 283,-2482.5 143,-2482.5\" stroke=\"#000000\"/>\n<text fill=\"#000000\" font-family=\"Times,serif\" font-size=\"14.00\" text-anchor=\"middle\" x=\"213\" y=\"-2496.8\">conv2d_86: Conv2D</text>\n</g>\n<!-- 140246799104096&#45;&gt;140246799104152 -->\n<g class=\"edge\" id=\"edge36\">\n<title>140246799104096-&gt;140246799104152</title>\n<path d=\"M249.8876,-2555.4551C244.1159,-2546.8564 237.0995,-2536.4034 230.7418,-2526.9316\" fill=\"none\" stroke=\"#000000\"/>\n<polygon fill=\"#000000\" points=\"233.6222,-2524.9427 225.1428,-2518.5904 227.8101,-2528.844 233.6222,-2524.9427\" stroke=\"#000000\"/>\n</g>\n<!-- 140246799105272 -->\n<g class=\"node\" id=\"node37\">\n<title>140246799105272</title>\n<polygon fill=\"none\" points=\"300.5,-2409.5 300.5,-2445.5 461.5,-2445.5 461.5,-2409.5 300.5,-2409.5\" stroke=\"#000000\"/>\n<text fill=\"#000000\" font-family=\"Times,serif\" font-size=\"14.00\" text-anchor=\"middle\" x=\"381\" y=\"-2423.8\">activation_87: Activation</text>\n</g>\n<!-- 140246799104096&#45;&gt;140246799105272 -->\n<g class=\"edge\" id=\"edge39\">\n<title>140246799104096-&gt;140246799105272</title>\n<path d=\"M276.8308,-2555.3042C297.6747,-2529.7311 335.754,-2483.0119 359.6459,-2453.6992\" fill=\"none\" stroke=\"#000000\"/>\n<polygon fill=\"#000000\" points=\"362.3773,-2455.8878 365.9823,-2445.9251 356.9513,-2451.4652 362.3773,-2455.8878\" stroke=\"#000000\"/>\n</g>\n<!-- 140246799104544 -->\n<g class=\"node\" id=\"node35\">\n<title>140246799104544</title>\n<polygon fill=\"none\" points=\"4,-2409.5 4,-2445.5 282,-2445.5 282,-2409.5 4,-2409.5\" stroke=\"#000000\"/>\n<text fill=\"#000000\" font-family=\"Times,serif\" font-size=\"14.00\" text-anchor=\"middle\" x=\"143\" y=\"-2423.8\">batch_normalization_60: BatchNormalization</text>\n</g>\n<!-- 140246799104152&#45;&gt;140246799104544 -->\n<g class=\"edge\" id=\"edge37\">\n<title>140246799104152-&gt;140246799104544</title>\n<path d=\"M195.6966,-2482.4551C187.1989,-2473.5932 176.8125,-2462.7616 167.514,-2453.0646\" fill=\"none\" stroke=\"#000000\"/>\n<polygon fill=\"#000000\" points=\"169.7944,-2450.3858 160.3469,-2445.5904 164.7419,-2455.2306 169.7944,-2450.3858\" stroke=\"#000000\"/>\n</g>\n<!-- 140246799104824 -->\n<g class=\"node\" id=\"node36\">\n<title>140246799104824</title>\n<polygon fill=\"none\" points=\"96.5,-2336.5 96.5,-2372.5 257.5,-2372.5 257.5,-2336.5 96.5,-2336.5\" stroke=\"#000000\"/>\n<text fill=\"#000000\" font-family=\"Times,serif\" font-size=\"14.00\" text-anchor=\"middle\" x=\"177\" y=\"-2350.8\">activation_86: Activation</text>\n</g>\n<!-- 140246799104544&#45;&gt;140246799104824 -->\n<g class=\"edge\" id=\"edge38\">\n<title>140246799104544-&gt;140246799104824</title>\n<path d=\"M151.4045,-2409.4551C155.2868,-2401.1196 159.9806,-2391.0416 164.283,-2381.8042\" fill=\"none\" stroke=\"#000000\"/>\n<polygon fill=\"#000000\" points=\"167.525,-2383.1331 168.5744,-2372.5904 161.1795,-2380.1776 167.525,-2383.1331\" stroke=\"#000000\"/>\n</g>\n<!-- 140246799104880 -->\n<g class=\"node\" id=\"node38\">\n<title>140246799104880</title>\n<polygon fill=\"none\" points=\"142,-2263.5 142,-2299.5 282,-2299.5 282,-2263.5 142,-2263.5\" stroke=\"#000000\"/>\n<text fill=\"#000000\" font-family=\"Times,serif\" font-size=\"14.00\" text-anchor=\"middle\" x=\"212\" y=\"-2277.8\">conv2d_87: Conv2D</text>\n</g>\n<!-- 140246799104824&#45;&gt;140246799104880 -->\n<g class=\"edge\" id=\"edge40\">\n<title>140246799104824-&gt;140246799104880</title>\n<path d=\"M185.6517,-2336.4551C189.6481,-2328.1196 194.4801,-2318.0416 198.909,-2308.8042\" fill=\"none\" stroke=\"#000000\"/>\n<polygon fill=\"#000000\" points=\"202.1592,-2310.1207 203.3265,-2299.5904 195.8472,-2307.0944 202.1592,-2310.1207\" stroke=\"#000000\"/>\n</g>\n<!-- 140246799105328 -->\n<g class=\"node\" id=\"node39\">\n<title>140246799105328</title>\n<polygon fill=\"none\" points=\"293,-2336.5 293,-2372.5 433,-2372.5 433,-2336.5 293,-2336.5\" stroke=\"#000000\"/>\n<text fill=\"#000000\" font-family=\"Times,serif\" font-size=\"14.00\" text-anchor=\"middle\" x=\"363\" y=\"-2350.8\">conv2d_88: Conv2D</text>\n</g>\n<!-- 140246799105272&#45;&gt;140246799105328 -->\n<g class=\"edge\" id=\"edge41\">\n<title>140246799105272-&gt;140246799105328</title>\n<path d=\"M376.5506,-2409.4551C374.5385,-2401.2951 372.1147,-2391.4652 369.8767,-2382.3887\" fill=\"none\" stroke=\"#000000\"/>\n<polygon fill=\"#000000\" points=\"373.253,-2381.4616 367.4606,-2372.5904 366.4565,-2383.1375 373.253,-2381.4616\" stroke=\"#000000\"/>\n</g>\n<!-- 140246799105720 -->\n<g class=\"node\" id=\"node40\">\n<title>140246799105720</title>\n<polygon fill=\"none\" points=\"215,-2190.5 215,-2226.5 307,-2226.5 307,-2190.5 215,-2190.5\" stroke=\"#000000\"/>\n<text fill=\"#000000\" font-family=\"Times,serif\" font-size=\"14.00\" text-anchor=\"middle\" x=\"261\" y=\"-2204.8\">add_28: Add</text>\n</g>\n<!-- 140246799104880&#45;&gt;140246799105720 -->\n<g class=\"edge\" id=\"edge42\">\n<title>140246799104880-&gt;140246799105720</title>\n<path d=\"M224.1124,-2263.4551C229.8841,-2254.8564 236.9005,-2244.4034 243.2582,-2234.9316\" fill=\"none\" stroke=\"#000000\"/>\n<polygon fill=\"#000000\" points=\"246.1899,-2236.844 248.8572,-2226.5904 240.3778,-2232.9427 246.1899,-2236.844\" stroke=\"#000000\"/>\n</g>\n<!-- 140246799105328&#45;&gt;140246799105720 -->\n<g class=\"edge\" id=\"edge43\">\n<title>140246799105328-&gt;140246799105720</title>\n<path d=\"M350.2879,-2336.3042C332.5744,-2310.9496 300.3391,-2264.8089 279.8313,-2235.4546\" fill=\"none\" stroke=\"#000000\"/>\n<polygon fill=\"#000000\" points=\"282.4686,-2233.1182 273.8723,-2226.9251 276.7303,-2237.1272 282.4686,-2233.1182\" stroke=\"#000000\"/>\n</g>\n<!-- 140246799105832 -->\n<g class=\"node\" id=\"node41\">\n<title>140246799105832</title>\n<polygon fill=\"none\" points=\"122,-2117.5 122,-2153.5 400,-2153.5 400,-2117.5 122,-2117.5\" stroke=\"#000000\"/>\n<text fill=\"#000000\" font-family=\"Times,serif\" font-size=\"14.00\" text-anchor=\"middle\" x=\"261\" y=\"-2131.8\">batch_normalization_61: BatchNormalization</text>\n</g>\n<!-- 140246799105720&#45;&gt;140246799105832 -->\n<g class=\"edge\" id=\"edge44\">\n<title>140246799105720-&gt;140246799105832</title>\n<path d=\"M261,-2190.4551C261,-2182.3828 261,-2172.6764 261,-2163.6817\" fill=\"none\" stroke=\"#000000\"/>\n<polygon fill=\"#000000\" points=\"264.5001,-2163.5903 261,-2153.5904 257.5001,-2163.5904 264.5001,-2163.5903\" stroke=\"#000000\"/>\n</g>\n<!-- 140246799106000 -->\n<g class=\"node\" id=\"node42\">\n<title>140246799106000</title>\n<polygon fill=\"none\" points=\"180.5,-2044.5 180.5,-2080.5 341.5,-2080.5 341.5,-2044.5 180.5,-2044.5\" stroke=\"#000000\"/>\n<text fill=\"#000000\" font-family=\"Times,serif\" font-size=\"14.00\" text-anchor=\"middle\" x=\"261\" y=\"-2058.8\">activation_88: Activation</text>\n</g>\n<!-- 140246799105832&#45;&gt;140246799106000 -->\n<g class=\"edge\" id=\"edge45\">\n<title>140246799105832-&gt;140246799106000</title>\n<path d=\"M261,-2117.4551C261,-2109.3828 261,-2099.6764 261,-2090.6817\" fill=\"none\" stroke=\"#000000\"/>\n<polygon fill=\"#000000\" points=\"264.5001,-2090.5903 261,-2080.5904 257.5001,-2090.5904 264.5001,-2090.5903\" stroke=\"#000000\"/>\n</g>\n<!-- 140246509609144 -->\n<g class=\"node\" id=\"node43\">\n<title>140246509609144</title>\n<polygon fill=\"none\" points=\"142,-1971.5 142,-2007.5 282,-2007.5 282,-1971.5 142,-1971.5\" stroke=\"#000000\"/>\n<text fill=\"#000000\" font-family=\"Times,serif\" font-size=\"14.00\" text-anchor=\"middle\" x=\"212\" y=\"-1985.8\">conv2d_89: Conv2D</text>\n</g>\n<!-- 140246799106000&#45;&gt;140246509609144 -->\n<g class=\"edge\" id=\"edge46\">\n<title>140246799106000-&gt;140246509609144</title>\n<path d=\"M248.8876,-2044.4551C243.1159,-2035.8564 236.0995,-2025.4034 229.7418,-2015.9316\" fill=\"none\" stroke=\"#000000\"/>\n<polygon fill=\"#000000\" points=\"232.6222,-2013.9427 224.1428,-2007.5904 226.8101,-2017.844 232.6222,-2013.9427\" stroke=\"#000000\"/>\n</g>\n<!-- 140246509610264 -->\n<g class=\"node\" id=\"node46\">\n<title>140246509610264</title>\n<polygon fill=\"none\" points=\"299.5,-1898.5 299.5,-1934.5 460.5,-1934.5 460.5,-1898.5 299.5,-1898.5\" stroke=\"#000000\"/>\n<text fill=\"#000000\" font-family=\"Times,serif\" font-size=\"14.00\" text-anchor=\"middle\" x=\"380\" y=\"-1912.8\">activation_90: Activation</text>\n</g>\n<!-- 140246799106000&#45;&gt;140246509610264 -->\n<g class=\"edge\" id=\"edge49\">\n<title>140246799106000-&gt;140246509610264</title>\n<path d=\"M275.8308,-2044.3042C296.6747,-2018.7311 334.754,-1972.0119 358.6459,-1942.6992\" fill=\"none\" stroke=\"#000000\"/>\n<polygon fill=\"#000000\" points=\"361.3773,-1944.8878 364.9823,-1934.9251 355.9513,-1940.4652 361.3773,-1944.8878\" stroke=\"#000000\"/>\n</g>\n<!-- 140246509609536 -->\n<g class=\"node\" id=\"node44\">\n<title>140246509609536</title>\n<polygon fill=\"none\" points=\"3,-1898.5 3,-1934.5 281,-1934.5 281,-1898.5 3,-1898.5\" stroke=\"#000000\"/>\n<text fill=\"#000000\" font-family=\"Times,serif\" font-size=\"14.00\" text-anchor=\"middle\" x=\"142\" y=\"-1912.8\">batch_normalization_62: BatchNormalization</text>\n</g>\n<!-- 140246509609144&#45;&gt;140246509609536 -->\n<g class=\"edge\" id=\"edge47\">\n<title>140246509609144-&gt;140246509609536</title>\n<path d=\"M194.6966,-1971.4551C186.1989,-1962.5932 175.8125,-1951.7616 166.514,-1942.0646\" fill=\"none\" stroke=\"#000000\"/>\n<polygon fill=\"#000000\" points=\"168.7944,-1939.3858 159.3469,-1934.5904 163.7419,-1944.2306 168.7944,-1939.3858\" stroke=\"#000000\"/>\n</g>\n<!-- 140246509609816 -->\n<g class=\"node\" id=\"node45\">\n<title>140246509609816</title>\n<polygon fill=\"none\" points=\"95.5,-1825.5 95.5,-1861.5 256.5,-1861.5 256.5,-1825.5 95.5,-1825.5\" stroke=\"#000000\"/>\n<text fill=\"#000000\" font-family=\"Times,serif\" font-size=\"14.00\" text-anchor=\"middle\" x=\"176\" y=\"-1839.8\">activation_89: Activation</text>\n</g>\n<!-- 140246509609536&#45;&gt;140246509609816 -->\n<g class=\"edge\" id=\"edge48\">\n<title>140246509609536-&gt;140246509609816</title>\n<path d=\"M150.4045,-1898.4551C154.2868,-1890.1196 158.9806,-1880.0416 163.283,-1870.8042\" fill=\"none\" stroke=\"#000000\"/>\n<polygon fill=\"#000000\" points=\"166.525,-1872.1331 167.5744,-1861.5904 160.1795,-1869.1776 166.525,-1872.1331\" stroke=\"#000000\"/>\n</g>\n<!-- 140246509609872 -->\n<g class=\"node\" id=\"node47\">\n<title>140246509609872</title>\n<polygon fill=\"none\" points=\"141,-1752.5 141,-1788.5 281,-1788.5 281,-1752.5 141,-1752.5\" stroke=\"#000000\"/>\n<text fill=\"#000000\" font-family=\"Times,serif\" font-size=\"14.00\" text-anchor=\"middle\" x=\"211\" y=\"-1766.8\">conv2d_90: Conv2D</text>\n</g>\n<!-- 140246509609816&#45;&gt;140246509609872 -->\n<g class=\"edge\" id=\"edge50\">\n<title>140246509609816-&gt;140246509609872</title>\n<path d=\"M184.6517,-1825.4551C188.6481,-1817.1196 193.4801,-1807.0416 197.909,-1797.8042\" fill=\"none\" stroke=\"#000000\"/>\n<polygon fill=\"#000000\" points=\"201.1592,-1799.1207 202.3265,-1788.5904 194.8472,-1796.0944 201.1592,-1799.1207\" stroke=\"#000000\"/>\n</g>\n<!-- 140246509610320 -->\n<g class=\"node\" id=\"node48\">\n<title>140246509610320</title>\n<polygon fill=\"none\" points=\"292,-1825.5 292,-1861.5 432,-1861.5 432,-1825.5 292,-1825.5\" stroke=\"#000000\"/>\n<text fill=\"#000000\" font-family=\"Times,serif\" font-size=\"14.00\" text-anchor=\"middle\" x=\"362\" y=\"-1839.8\">conv2d_91: Conv2D</text>\n</g>\n<!-- 140246509610264&#45;&gt;140246509610320 -->\n<g class=\"edge\" id=\"edge51\">\n<title>140246509610264-&gt;140246509610320</title>\n<path d=\"M375.5506,-1898.4551C373.5385,-1890.2951 371.1147,-1880.4652 368.8767,-1871.3887\" fill=\"none\" stroke=\"#000000\"/>\n<polygon fill=\"#000000\" points=\"372.253,-1870.4616 366.4606,-1861.5904 365.4565,-1872.1375 372.253,-1870.4616\" stroke=\"#000000\"/>\n</g>\n<!-- 140246509610712 -->\n<g class=\"node\" id=\"node49\">\n<title>140246509610712</title>\n<polygon fill=\"none\" points=\"214,-1679.5 214,-1715.5 306,-1715.5 306,-1679.5 214,-1679.5\" stroke=\"#000000\"/>\n<text fill=\"#000000\" font-family=\"Times,serif\" font-size=\"14.00\" text-anchor=\"middle\" x=\"260\" y=\"-1693.8\">add_29: Add</text>\n</g>\n<!-- 140246509609872&#45;&gt;140246509610712 -->\n<g class=\"edge\" id=\"edge52\">\n<title>140246509609872-&gt;140246509610712</title>\n<path d=\"M223.1124,-1752.4551C228.8841,-1743.8564 235.9005,-1733.4034 242.2582,-1723.9316\" fill=\"none\" stroke=\"#000000\"/>\n<polygon fill=\"#000000\" points=\"245.1899,-1725.844 247.8572,-1715.5904 239.3778,-1721.9427 245.1899,-1725.844\" stroke=\"#000000\"/>\n</g>\n<!-- 140246509610320&#45;&gt;140246509610712 -->\n<g class=\"edge\" id=\"edge53\">\n<title>140246509610320-&gt;140246509610712</title>\n<path d=\"M349.2879,-1825.3042C331.5744,-1799.9496 299.3391,-1753.8089 278.8313,-1724.4546\" fill=\"none\" stroke=\"#000000\"/>\n<polygon fill=\"#000000\" points=\"281.4686,-1722.1182 272.8723,-1715.9251 275.7303,-1726.1272 281.4686,-1722.1182\" stroke=\"#000000\"/>\n</g>\n<!-- 140246509610824 -->\n<g class=\"node\" id=\"node50\">\n<title>140246509610824</title>\n<polygon fill=\"none\" points=\"121,-1606.5 121,-1642.5 399,-1642.5 399,-1606.5 121,-1606.5\" stroke=\"#000000\"/>\n<text fill=\"#000000\" font-family=\"Times,serif\" font-size=\"14.00\" text-anchor=\"middle\" x=\"260\" y=\"-1620.8\">batch_normalization_63: BatchNormalization</text>\n</g>\n<!-- 140246509610712&#45;&gt;140246509610824 -->\n<g class=\"edge\" id=\"edge54\">\n<title>140246509610712-&gt;140246509610824</title>\n<path d=\"M260,-1679.4551C260,-1671.3828 260,-1661.6764 260,-1652.6817\" fill=\"none\" stroke=\"#000000\"/>\n<polygon fill=\"#000000\" points=\"263.5001,-1652.5903 260,-1642.5904 256.5001,-1652.5904 263.5001,-1652.5903\" stroke=\"#000000\"/>\n</g>\n<!-- 140246509611104 -->\n<g class=\"node\" id=\"node51\">\n<title>140246509611104</title>\n<polygon fill=\"none\" points=\"179.5,-1533.5 179.5,-1569.5 340.5,-1569.5 340.5,-1533.5 179.5,-1533.5\" stroke=\"#000000\"/>\n<text fill=\"#000000\" font-family=\"Times,serif\" font-size=\"14.00\" text-anchor=\"middle\" x=\"260\" y=\"-1547.8\">activation_91: Activation</text>\n</g>\n<!-- 140246509610824&#45;&gt;140246509611104 -->\n<g class=\"edge\" id=\"edge55\">\n<title>140246509610824-&gt;140246509611104</title>\n<path d=\"M260,-1606.4551C260,-1598.3828 260,-1588.6764 260,-1579.6817\" fill=\"none\" stroke=\"#000000\"/>\n<polygon fill=\"#000000\" points=\"263.5001,-1579.5903 260,-1569.5904 256.5001,-1579.5904 263.5001,-1579.5903\" stroke=\"#000000\"/>\n</g>\n<!-- 140246509611160 -->\n<g class=\"node\" id=\"node52\">\n<title>140246509611160</title>\n<polygon fill=\"none\" points=\"141,-1460.5 141,-1496.5 281,-1496.5 281,-1460.5 141,-1460.5\" stroke=\"#000000\"/>\n<text fill=\"#000000\" font-family=\"Times,serif\" font-size=\"14.00\" text-anchor=\"middle\" x=\"211\" y=\"-1474.8\">conv2d_92: Conv2D</text>\n</g>\n<!-- 140246509611104&#45;&gt;140246509611160 -->\n<g class=\"edge\" id=\"edge56\">\n<title>140246509611104-&gt;140246509611160</title>\n<path d=\"M247.8876,-1533.4551C242.1159,-1524.8564 235.0995,-1514.4034 228.7418,-1504.9316\" fill=\"none\" stroke=\"#000000\"/>\n<polygon fill=\"#000000\" points=\"231.6222,-1502.9427 223.1428,-1496.5904 225.8101,-1506.844 231.6222,-1502.9427\" stroke=\"#000000\"/>\n</g>\n<!-- 140246509612280 -->\n<g class=\"node\" id=\"node55\">\n<title>140246509612280</title>\n<polygon fill=\"none\" points=\"298.5,-1387.5 298.5,-1423.5 459.5,-1423.5 459.5,-1387.5 298.5,-1387.5\" stroke=\"#000000\"/>\n<text fill=\"#000000\" font-family=\"Times,serif\" font-size=\"14.00\" text-anchor=\"middle\" x=\"379\" y=\"-1401.8\">activation_93: Activation</text>\n</g>\n<!-- 140246509611104&#45;&gt;140246509612280 -->\n<g class=\"edge\" id=\"edge59\">\n<title>140246509611104-&gt;140246509612280</title>\n<path d=\"M274.8308,-1533.3042C295.6747,-1507.7311 333.754,-1461.0119 357.6459,-1431.6992\" fill=\"none\" stroke=\"#000000\"/>\n<polygon fill=\"#000000\" points=\"360.3773,-1433.8878 363.9823,-1423.9251 354.9513,-1429.4652 360.3773,-1433.8878\" stroke=\"#000000\"/>\n</g>\n<!-- 140246509611552 -->\n<g class=\"node\" id=\"node53\">\n<title>140246509611552</title>\n<polygon fill=\"none\" points=\"2,-1387.5 2,-1423.5 280,-1423.5 280,-1387.5 2,-1387.5\" stroke=\"#000000\"/>\n<text fill=\"#000000\" font-family=\"Times,serif\" font-size=\"14.00\" text-anchor=\"middle\" x=\"141\" y=\"-1401.8\">batch_normalization_64: BatchNormalization</text>\n</g>\n<!-- 140246509611160&#45;&gt;140246509611552 -->\n<g class=\"edge\" id=\"edge57\">\n<title>140246509611160-&gt;140246509611552</title>\n<path d=\"M193.6966,-1460.4551C185.1989,-1451.5932 174.8125,-1440.7616 165.514,-1431.0646\" fill=\"none\" stroke=\"#000000\"/>\n<polygon fill=\"#000000\" points=\"167.7944,-1428.3858 158.3469,-1423.5904 162.7419,-1433.2306 167.7944,-1428.3858\" stroke=\"#000000\"/>\n</g>\n<!-- 140246509611832 -->\n<g class=\"node\" id=\"node54\">\n<title>140246509611832</title>\n<polygon fill=\"none\" points=\"94.5,-1314.5 94.5,-1350.5 255.5,-1350.5 255.5,-1314.5 94.5,-1314.5\" stroke=\"#000000\"/>\n<text fill=\"#000000\" font-family=\"Times,serif\" font-size=\"14.00\" text-anchor=\"middle\" x=\"175\" y=\"-1328.8\">activation_92: Activation</text>\n</g>\n<!-- 140246509611552&#45;&gt;140246509611832 -->\n<g class=\"edge\" id=\"edge58\">\n<title>140246509611552-&gt;140246509611832</title>\n<path d=\"M149.4045,-1387.4551C153.2868,-1379.1196 157.9806,-1369.0416 162.283,-1359.8042\" fill=\"none\" stroke=\"#000000\"/>\n<polygon fill=\"#000000\" points=\"165.525,-1361.1331 166.5744,-1350.5904 159.1795,-1358.1776 165.525,-1361.1331\" stroke=\"#000000\"/>\n</g>\n<!-- 140246509611888 -->\n<g class=\"node\" id=\"node56\">\n<title>140246509611888</title>\n<polygon fill=\"none\" points=\"140,-1241.5 140,-1277.5 280,-1277.5 280,-1241.5 140,-1241.5\" stroke=\"#000000\"/>\n<text fill=\"#000000\" font-family=\"Times,serif\" font-size=\"14.00\" text-anchor=\"middle\" x=\"210\" y=\"-1255.8\">conv2d_93: Conv2D</text>\n</g>\n<!-- 140246509611832&#45;&gt;140246509611888 -->\n<g class=\"edge\" id=\"edge60\">\n<title>140246509611832-&gt;140246509611888</title>\n<path d=\"M183.6517,-1314.4551C187.6481,-1306.1196 192.4801,-1296.0416 196.909,-1286.8042\" fill=\"none\" stroke=\"#000000\"/>\n<polygon fill=\"#000000\" points=\"200.1592,-1288.1207 201.3265,-1277.5904 193.8472,-1285.0944 200.1592,-1288.1207\" stroke=\"#000000\"/>\n</g>\n<!-- 140246509612336 -->\n<g class=\"node\" id=\"node57\">\n<title>140246509612336</title>\n<polygon fill=\"none\" points=\"291,-1314.5 291,-1350.5 431,-1350.5 431,-1314.5 291,-1314.5\" stroke=\"#000000\"/>\n<text fill=\"#000000\" font-family=\"Times,serif\" font-size=\"14.00\" text-anchor=\"middle\" x=\"361\" y=\"-1328.8\">conv2d_94: Conv2D</text>\n</g>\n<!-- 140246509612280&#45;&gt;140246509612336 -->\n<g class=\"edge\" id=\"edge61\">\n<title>140246509612280-&gt;140246509612336</title>\n<path d=\"M374.5506,-1387.4551C372.5385,-1379.2951 370.1147,-1369.4652 367.8767,-1360.3887\" fill=\"none\" stroke=\"#000000\"/>\n<polygon fill=\"#000000\" points=\"371.253,-1359.4616 365.4606,-1350.5904 364.4565,-1361.1375 371.253,-1359.4616\" stroke=\"#000000\"/>\n</g>\n<!-- 140246509612728 -->\n<g class=\"node\" id=\"node58\">\n<title>140246509612728</title>\n<polygon fill=\"none\" points=\"213,-1168.5 213,-1204.5 305,-1204.5 305,-1168.5 213,-1168.5\" stroke=\"#000000\"/>\n<text fill=\"#000000\" font-family=\"Times,serif\" font-size=\"14.00\" text-anchor=\"middle\" x=\"259\" y=\"-1182.8\">add_30: Add</text>\n</g>\n<!-- 140246509611888&#45;&gt;140246509612728 -->\n<g class=\"edge\" id=\"edge62\">\n<title>140246509611888-&gt;140246509612728</title>\n<path d=\"M222.1124,-1241.4551C227.8841,-1232.8564 234.9005,-1222.4034 241.2582,-1212.9316\" fill=\"none\" stroke=\"#000000\"/>\n<polygon fill=\"#000000\" points=\"244.1899,-1214.844 246.8572,-1204.5904 238.3778,-1210.9427 244.1899,-1214.844\" stroke=\"#000000\"/>\n</g>\n<!-- 140246509612336&#45;&gt;140246509612728 -->\n<g class=\"edge\" id=\"edge63\">\n<title>140246509612336-&gt;140246509612728</title>\n<path d=\"M348.2879,-1314.3042C330.5744,-1288.9496 298.3391,-1242.8089 277.8313,-1213.4546\" fill=\"none\" stroke=\"#000000\"/>\n<polygon fill=\"#000000\" points=\"280.4686,-1211.1182 271.8723,-1204.9251 274.7303,-1215.1272 280.4686,-1211.1182\" stroke=\"#000000\"/>\n</g>\n<!-- 140246509612840 -->\n<g class=\"node\" id=\"node59\">\n<title>140246509612840</title>\n<polygon fill=\"none\" points=\"120,-1095.5 120,-1131.5 398,-1131.5 398,-1095.5 120,-1095.5\" stroke=\"#000000\"/>\n<text fill=\"#000000\" font-family=\"Times,serif\" font-size=\"14.00\" text-anchor=\"middle\" x=\"259\" y=\"-1109.8\">batch_normalization_65: BatchNormalization</text>\n</g>\n<!-- 140246509612728&#45;&gt;140246509612840 -->\n<g class=\"edge\" id=\"edge64\">\n<title>140246509612728-&gt;140246509612840</title>\n<path d=\"M259,-1168.4551C259,-1160.3828 259,-1150.6764 259,-1141.6817\" fill=\"none\" stroke=\"#000000\"/>\n<polygon fill=\"#000000\" points=\"262.5001,-1141.5903 259,-1131.5904 255.5001,-1141.5904 262.5001,-1141.5903\" stroke=\"#000000\"/>\n</g>\n<!-- 140246509613008 -->\n<g class=\"node\" id=\"node60\">\n<title>140246509613008</title>\n<polygon fill=\"none\" points=\"178.5,-1022.5 178.5,-1058.5 339.5,-1058.5 339.5,-1022.5 178.5,-1022.5\" stroke=\"#000000\"/>\n<text fill=\"#000000\" font-family=\"Times,serif\" font-size=\"14.00\" text-anchor=\"middle\" x=\"259\" y=\"-1036.8\">activation_94: Activation</text>\n</g>\n<!-- 140246509612840&#45;&gt;140246509613008 -->\n<g class=\"edge\" id=\"edge65\">\n<title>140246509612840-&gt;140246509613008</title>\n<path d=\"M259,-1095.4551C259,-1087.3828 259,-1077.6764 259,-1068.6817\" fill=\"none\" stroke=\"#000000\"/>\n<polygon fill=\"#000000\" points=\"262.5001,-1068.5903 259,-1058.5904 255.5001,-1068.5904 262.5001,-1068.5903\" stroke=\"#000000\"/>\n</g>\n<!-- 140246509256888 -->\n<g class=\"node\" id=\"node61\">\n<title>140246509256888</title>\n<polygon fill=\"none\" points=\"140,-949.5 140,-985.5 280,-985.5 280,-949.5 140,-949.5\" stroke=\"#000000\"/>\n<text fill=\"#000000\" font-family=\"Times,serif\" font-size=\"14.00\" text-anchor=\"middle\" x=\"210\" y=\"-963.8\">conv2d_95: Conv2D</text>\n</g>\n<!-- 140246509613008&#45;&gt;140246509256888 -->\n<g class=\"edge\" id=\"edge66\">\n<title>140246509613008-&gt;140246509256888</title>\n<path d=\"M246.8876,-1022.4551C241.1159,-1013.8564 234.0995,-1003.4034 227.7418,-993.9316\" fill=\"none\" stroke=\"#000000\"/>\n<polygon fill=\"#000000\" points=\"230.6222,-991.9427 222.1428,-985.5904 224.8101,-995.844 230.6222,-991.9427\" stroke=\"#000000\"/>\n</g>\n<!-- 140246509258008 -->\n<g class=\"node\" id=\"node64\">\n<title>140246509258008</title>\n<polygon fill=\"none\" points=\"297.5,-876.5 297.5,-912.5 458.5,-912.5 458.5,-876.5 297.5,-876.5\" stroke=\"#000000\"/>\n<text fill=\"#000000\" font-family=\"Times,serif\" font-size=\"14.00\" text-anchor=\"middle\" x=\"378\" y=\"-890.8\">activation_96: Activation</text>\n</g>\n<!-- 140246509613008&#45;&gt;140246509258008 -->\n<g class=\"edge\" id=\"edge69\">\n<title>140246509613008-&gt;140246509258008</title>\n<path d=\"M273.8308,-1022.3042C294.6747,-996.7311 332.754,-950.0119 356.6459,-920.6992\" fill=\"none\" stroke=\"#000000\"/>\n<polygon fill=\"#000000\" points=\"359.3773,-922.8878 362.9823,-912.9251 353.9513,-918.4652 359.3773,-922.8878\" stroke=\"#000000\"/>\n</g>\n<!-- 140246509257280 -->\n<g class=\"node\" id=\"node62\">\n<title>140246509257280</title>\n<polygon fill=\"none\" points=\"1,-876.5 1,-912.5 279,-912.5 279,-876.5 1,-876.5\" stroke=\"#000000\"/>\n<text fill=\"#000000\" font-family=\"Times,serif\" font-size=\"14.00\" text-anchor=\"middle\" x=\"140\" y=\"-890.8\">batch_normalization_66: BatchNormalization</text>\n</g>\n<!-- 140246509256888&#45;&gt;140246509257280 -->\n<g class=\"edge\" id=\"edge67\">\n<title>140246509256888-&gt;140246509257280</title>\n<path d=\"M192.6966,-949.4551C184.1989,-940.5932 173.8125,-929.7616 164.514,-920.0646\" fill=\"none\" stroke=\"#000000\"/>\n<polygon fill=\"#000000\" points=\"166.7944,-917.3858 157.3469,-912.5904 161.7419,-922.2306 166.7944,-917.3858\" stroke=\"#000000\"/>\n</g>\n<!-- 140246509257560 -->\n<g class=\"node\" id=\"node63\">\n<title>140246509257560</title>\n<polygon fill=\"none\" points=\"93.5,-803.5 93.5,-839.5 254.5,-839.5 254.5,-803.5 93.5,-803.5\" stroke=\"#000000\"/>\n<text fill=\"#000000\" font-family=\"Times,serif\" font-size=\"14.00\" text-anchor=\"middle\" x=\"174\" y=\"-817.8\">activation_95: Activation</text>\n</g>\n<!-- 140246509257280&#45;&gt;140246509257560 -->\n<g class=\"edge\" id=\"edge68\">\n<title>140246509257280-&gt;140246509257560</title>\n<path d=\"M148.4045,-876.4551C152.2868,-868.1196 156.9806,-858.0416 161.283,-848.8042\" fill=\"none\" stroke=\"#000000\"/>\n<polygon fill=\"#000000\" points=\"164.525,-850.1331 165.5744,-839.5904 158.1795,-847.1776 164.525,-850.1331\" stroke=\"#000000\"/>\n</g>\n<!-- 140246509257616 -->\n<g class=\"node\" id=\"node65\">\n<title>140246509257616</title>\n<polygon fill=\"none\" points=\"139,-730.5 139,-766.5 279,-766.5 279,-730.5 139,-730.5\" stroke=\"#000000\"/>\n<text fill=\"#000000\" font-family=\"Times,serif\" font-size=\"14.00\" text-anchor=\"middle\" x=\"209\" y=\"-744.8\">conv2d_96: Conv2D</text>\n</g>\n<!-- 140246509257560&#45;&gt;140246509257616 -->\n<g class=\"edge\" id=\"edge70\">\n<title>140246509257560-&gt;140246509257616</title>\n<path d=\"M182.6517,-803.4551C186.6481,-795.1196 191.4801,-785.0416 195.909,-775.8042\" fill=\"none\" stroke=\"#000000\"/>\n<polygon fill=\"#000000\" points=\"199.1592,-777.1207 200.3265,-766.5904 192.8472,-774.0944 199.1592,-777.1207\" stroke=\"#000000\"/>\n</g>\n<!-- 140246509258064 -->\n<g class=\"node\" id=\"node66\">\n<title>140246509258064</title>\n<polygon fill=\"none\" points=\"290,-803.5 290,-839.5 430,-839.5 430,-803.5 290,-803.5\" stroke=\"#000000\"/>\n<text fill=\"#000000\" font-family=\"Times,serif\" font-size=\"14.00\" text-anchor=\"middle\" x=\"360\" y=\"-817.8\">conv2d_97: Conv2D</text>\n</g>\n<!-- 140246509258008&#45;&gt;140246509258064 -->\n<g class=\"edge\" id=\"edge71\">\n<title>140246509258008-&gt;140246509258064</title>\n<path d=\"M373.5506,-876.4551C371.5385,-868.2951 369.1147,-858.4652 366.8767,-849.3887\" fill=\"none\" stroke=\"#000000\"/>\n<polygon fill=\"#000000\" points=\"370.253,-848.4616 364.4606,-839.5904 363.4565,-850.1375 370.253,-848.4616\" stroke=\"#000000\"/>\n</g>\n<!-- 140246509258456 -->\n<g class=\"node\" id=\"node67\">\n<title>140246509258456</title>\n<polygon fill=\"none\" points=\"212,-657.5 212,-693.5 304,-693.5 304,-657.5 212,-657.5\" stroke=\"#000000\"/>\n<text fill=\"#000000\" font-family=\"Times,serif\" font-size=\"14.00\" text-anchor=\"middle\" x=\"258\" y=\"-671.8\">add_31: Add</text>\n</g>\n<!-- 140246509257616&#45;&gt;140246509258456 -->\n<g class=\"edge\" id=\"edge72\">\n<title>140246509257616-&gt;140246509258456</title>\n<path d=\"M221.1124,-730.4551C226.8841,-721.8564 233.9005,-711.4034 240.2582,-701.9316\" fill=\"none\" stroke=\"#000000\"/>\n<polygon fill=\"#000000\" points=\"243.1899,-703.844 245.8572,-693.5904 237.3778,-699.9427 243.1899,-703.844\" stroke=\"#000000\"/>\n</g>\n<!-- 140246509258064&#45;&gt;140246509258456 -->\n<g class=\"edge\" id=\"edge73\">\n<title>140246509258064-&gt;140246509258456</title>\n<path d=\"M347.2879,-803.3042C329.5744,-777.9496 297.3391,-731.8089 276.8313,-702.4546\" fill=\"none\" stroke=\"#000000\"/>\n<polygon fill=\"#000000\" points=\"279.4686,-700.1182 270.8723,-693.9251 273.7303,-704.1272 279.4686,-700.1182\" stroke=\"#000000\"/>\n</g>\n<!-- 140246509258568 -->\n<g class=\"node\" id=\"node68\">\n<title>140246509258568</title>\n<polygon fill=\"none\" points=\"119,-584.5 119,-620.5 397,-620.5 397,-584.5 119,-584.5\" stroke=\"#000000\"/>\n<text fill=\"#000000\" font-family=\"Times,serif\" font-size=\"14.00\" text-anchor=\"middle\" x=\"258\" y=\"-598.8\">batch_normalization_67: BatchNormalization</text>\n</g>\n<!-- 140246509258456&#45;&gt;140246509258568 -->\n<g class=\"edge\" id=\"edge74\">\n<title>140246509258456-&gt;140246509258568</title>\n<path d=\"M258,-657.4551C258,-649.3828 258,-639.6764 258,-630.6817\" fill=\"none\" stroke=\"#000000\"/>\n<polygon fill=\"#000000\" points=\"261.5001,-630.5903 258,-620.5904 254.5001,-630.5904 261.5001,-630.5903\" stroke=\"#000000\"/>\n</g>\n<!-- 140246509258848 -->\n<g class=\"node\" id=\"node69\">\n<title>140246509258848</title>\n<polygon fill=\"none\" points=\"177.5,-511.5 177.5,-547.5 338.5,-547.5 338.5,-511.5 177.5,-511.5\" stroke=\"#000000\"/>\n<text fill=\"#000000\" font-family=\"Times,serif\" font-size=\"14.00\" text-anchor=\"middle\" x=\"258\" y=\"-525.8\">activation_97: Activation</text>\n</g>\n<!-- 140246509258568&#45;&gt;140246509258848 -->\n<g class=\"edge\" id=\"edge75\">\n<title>140246509258568-&gt;140246509258848</title>\n<path d=\"M258,-584.4551C258,-576.3828 258,-566.6764 258,-557.6817\" fill=\"none\" stroke=\"#000000\"/>\n<polygon fill=\"#000000\" points=\"261.5001,-557.5903 258,-547.5904 254.5001,-557.5904 261.5001,-557.5903\" stroke=\"#000000\"/>\n</g>\n<!-- 140246509258904 -->\n<g class=\"node\" id=\"node70\">\n<title>140246509258904</title>\n<polygon fill=\"none\" points=\"139,-438.5 139,-474.5 279,-474.5 279,-438.5 139,-438.5\" stroke=\"#000000\"/>\n<text fill=\"#000000\" font-family=\"Times,serif\" font-size=\"14.00\" text-anchor=\"middle\" x=\"209\" y=\"-452.8\">conv2d_98: Conv2D</text>\n</g>\n<!-- 140246509258848&#45;&gt;140246509258904 -->\n<g class=\"edge\" id=\"edge76\">\n<title>140246509258848-&gt;140246509258904</title>\n<path d=\"M245.8876,-511.4551C240.1159,-502.8564 233.0995,-492.4034 226.7418,-482.9316\" fill=\"none\" stroke=\"#000000\"/>\n<polygon fill=\"#000000\" points=\"229.6222,-480.9427 221.1428,-474.5904 223.8101,-484.844 229.6222,-480.9427\" stroke=\"#000000\"/>\n</g>\n<!-- 140246509260024 -->\n<g class=\"node\" id=\"node73\">\n<title>140246509260024</title>\n<polygon fill=\"none\" points=\"296.5,-365.5 296.5,-401.5 457.5,-401.5 457.5,-365.5 296.5,-365.5\" stroke=\"#000000\"/>\n<text fill=\"#000000\" font-family=\"Times,serif\" font-size=\"14.00\" text-anchor=\"middle\" x=\"377\" y=\"-379.8\">activation_99: Activation</text>\n</g>\n<!-- 140246509258848&#45;&gt;140246509260024 -->\n<g class=\"edge\" id=\"edge79\">\n<title>140246509258848-&gt;140246509260024</title>\n<path d=\"M272.8308,-511.3042C293.6747,-485.7311 331.754,-439.0119 355.6459,-409.6992\" fill=\"none\" stroke=\"#000000\"/>\n<polygon fill=\"#000000\" points=\"358.3773,-411.8878 361.9823,-401.9251 352.9513,-407.4652 358.3773,-411.8878\" stroke=\"#000000\"/>\n</g>\n<!-- 140246509259296 -->\n<g class=\"node\" id=\"node71\">\n<title>140246509259296</title>\n<polygon fill=\"none\" points=\"0,-365.5 0,-401.5 278,-401.5 278,-365.5 0,-365.5\" stroke=\"#000000\"/>\n<text fill=\"#000000\" font-family=\"Times,serif\" font-size=\"14.00\" text-anchor=\"middle\" x=\"139\" y=\"-379.8\">batch_normalization_68: BatchNormalization</text>\n</g>\n<!-- 140246509258904&#45;&gt;140246509259296 -->\n<g class=\"edge\" id=\"edge77\">\n<title>140246509258904-&gt;140246509259296</title>\n<path d=\"M191.6966,-438.4551C183.1989,-429.5932 172.8125,-418.7616 163.514,-409.0646\" fill=\"none\" stroke=\"#000000\"/>\n<polygon fill=\"#000000\" points=\"165.7944,-406.3858 156.3469,-401.5904 160.7419,-411.2306 165.7944,-406.3858\" stroke=\"#000000\"/>\n</g>\n<!-- 140246509259576 -->\n<g class=\"node\" id=\"node72\">\n<title>140246509259576</title>\n<polygon fill=\"none\" points=\"90.5,-292.5 90.5,-328.5 251.5,-328.5 251.5,-292.5 90.5,-292.5\" stroke=\"#000000\"/>\n<text fill=\"#000000\" font-family=\"Times,serif\" font-size=\"14.00\" text-anchor=\"middle\" x=\"171\" y=\"-306.8\">activation_98: Activation</text>\n</g>\n<!-- 140246509259296&#45;&gt;140246509259576 -->\n<g class=\"edge\" id=\"edge78\">\n<title>140246509259296-&gt;140246509259576</title>\n<path d=\"M146.9101,-365.4551C150.564,-357.1196 154.9818,-347.0416 159.031,-337.8042\" fill=\"none\" stroke=\"#000000\"/>\n<polygon fill=\"#000000\" points=\"162.2607,-339.1542 163.07,-328.5904 155.8496,-336.3439 162.2607,-339.1542\" stroke=\"#000000\"/>\n</g>\n<!-- 140246509259632 -->\n<g class=\"node\" id=\"node74\">\n<title>140246509259632</title>\n<polygon fill=\"none\" points=\"138,-219.5 138,-255.5 278,-255.5 278,-219.5 138,-219.5\" stroke=\"#000000\"/>\n<text fill=\"#000000\" font-family=\"Times,serif\" font-size=\"14.00\" text-anchor=\"middle\" x=\"208\" y=\"-233.8\">conv2d_99: Conv2D</text>\n</g>\n<!-- 140246509259576&#45;&gt;140246509259632 -->\n<g class=\"edge\" id=\"edge80\">\n<title>140246509259576-&gt;140246509259632</title>\n<path d=\"M180.1461,-292.4551C184.4154,-284.0319 189.5865,-273.8292 194.3086,-264.5128\" fill=\"none\" stroke=\"#000000\"/>\n<polygon fill=\"#000000\" points=\"197.4318,-266.0924 198.8309,-255.5904 191.188,-262.9277 197.4318,-266.0924\" stroke=\"#000000\"/>\n</g>\n<!-- 140246509260080 -->\n<g class=\"node\" id=\"node75\">\n<title>140246509260080</title>\n<polygon fill=\"none\" points=\"286,-292.5 286,-328.5 434,-328.5 434,-292.5 286,-292.5\" stroke=\"#000000\"/>\n<text fill=\"#000000\" font-family=\"Times,serif\" font-size=\"14.00\" text-anchor=\"middle\" x=\"360\" y=\"-306.8\">conv2d_100: Conv2D</text>\n</g>\n<!-- 140246509260024&#45;&gt;140246509260080 -->\n<g class=\"edge\" id=\"edge81\">\n<title>140246509260024-&gt;140246509260080</title>\n<path d=\"M372.7978,-365.4551C370.8975,-357.2951 368.6083,-347.4652 366.4946,-338.3887\" fill=\"none\" stroke=\"#000000\"/>\n<polygon fill=\"#000000\" points=\"369.8898,-337.5359 364.2128,-328.5904 363.0722,-339.1236 369.8898,-337.5359\" stroke=\"#000000\"/>\n</g>\n<!-- 140246509260472 -->\n<g class=\"node\" id=\"node76\">\n<title>140246509260472</title>\n<polygon fill=\"none\" points=\"211,-146.5 211,-182.5 303,-182.5 303,-146.5 211,-146.5\" stroke=\"#000000\"/>\n<text fill=\"#000000\" font-family=\"Times,serif\" font-size=\"14.00\" text-anchor=\"middle\" x=\"257\" y=\"-160.8\">add_32: Add</text>\n</g>\n<!-- 140246509259632&#45;&gt;140246509260472 -->\n<g class=\"edge\" id=\"edge82\">\n<title>140246509259632-&gt;140246509260472</title>\n<path d=\"M220.1124,-219.4551C225.8841,-210.8564 232.9005,-200.4034 239.2582,-190.9316\" fill=\"none\" stroke=\"#000000\"/>\n<polygon fill=\"#000000\" points=\"242.1899,-192.844 244.8572,-182.5904 236.3778,-188.9427 242.1899,-192.844\" stroke=\"#000000\"/>\n</g>\n<!-- 140246509260080&#45;&gt;140246509260472 -->\n<g class=\"edge\" id=\"edge83\">\n<title>140246509260080-&gt;140246509260472</title>\n<path d=\"M347.1632,-292.3042C329.2761,-266.9496 296.7248,-220.8089 276.0159,-191.4546\" fill=\"none\" stroke=\"#000000\"/>\n<polygon fill=\"#000000\" points=\"278.6231,-189.0787 269.9985,-182.9251 272.9033,-193.114 278.6231,-189.0787\" stroke=\"#000000\"/>\n</g>\n<!-- 140246509260584 -->\n<g class=\"node\" id=\"node77\">\n<title>140246509260584</title>\n<polygon fill=\"none\" points=\"85,-73.5 85,-109.5 429,-109.5 429,-73.5 85,-73.5\" stroke=\"#000000\"/>\n<text fill=\"#000000\" font-family=\"Times,serif\" font-size=\"14.00\" text-anchor=\"middle\" x=\"257\" y=\"-87.8\">global_average_pooling2d_4: GlobalAveragePooling2D</text>\n</g>\n<!-- 140246509260472&#45;&gt;140246509260584 -->\n<g class=\"edge\" id=\"edge84\">\n<title>140246509260472-&gt;140246509260584</title>\n<path d=\"M257,-146.4551C257,-138.3828 257,-128.6764 257,-119.6817\" fill=\"none\" stroke=\"#000000\"/>\n<polygon fill=\"#000000\" points=\"260.5001,-119.5903 257,-109.5904 253.5001,-119.5904 260.5001,-119.5903\" stroke=\"#000000\"/>\n</g>\n<!-- 140246509260752 -->\n<g class=\"node\" id=\"node78\">\n<title>140246509260752</title>\n<polygon fill=\"none\" points=\"203.5,-.5 203.5,-36.5 310.5,-36.5 310.5,-.5 203.5,-.5\" stroke=\"#000000\"/>\n<text fill=\"#000000\" font-family=\"Times,serif\" font-size=\"14.00\" text-anchor=\"middle\" x=\"257\" y=\"-14.8\">dense_4: Dense</text>\n</g>\n<!-- 140246509260584&#45;&gt;140246509260752 -->\n<g class=\"edge\" id=\"edge85\">\n<title>140246509260584-&gt;140246509260752</title>\n<path d=\"M257,-73.4551C257,-65.3828 257,-55.6764 257,-46.6817\" fill=\"none\" stroke=\"#000000\"/>\n<polygon fill=\"#000000\" points=\"260.5001,-46.5903 257,-36.5904 253.5001,-46.5904 260.5001,-46.5903\" stroke=\"#000000\"/>\n</g>\n</g>\n</svg>"
          },
          "metadata": {
            "tags": []
          },
          "execution_count": 66
        }
      ]
    }
  ]
}