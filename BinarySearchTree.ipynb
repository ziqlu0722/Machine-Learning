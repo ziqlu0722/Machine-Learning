{
  "nbformat": 4,
  "nbformat_minor": 0,
  "metadata": {
    "colab": {
      "name": "BinarySearchTree.ipynb",
      "version": "0.3.2",
      "provenance": [],
      "collapsed_sections": [],
      "include_colab_link": true
    },
    "kernelspec": {
      "name": "python3",
      "display_name": "Python 3"
    }
  },
  "cells": [
    {
      "cell_type": "markdown",
      "metadata": {
        "id": "view-in-github",
        "colab_type": "text"
      },
      "source": [
        "<a href=\"https://colab.research.google.com/github/ziqlu0722/Machine-Learning/blob/master/BinarySearchTree.ipynb\" target=\"_parent\"><img src=\"https://colab.research.google.com/assets/colab-badge.svg\" alt=\"Open In Colab\"/></a>"
      ]
    },
    {
      "cell_type": "markdown",
      "metadata": {
        "id": "MTs4GupAD8Yd",
        "colab_type": "text"
      },
      "source": [
        "# Binary Search Tree"
      ]
    },
    {
      "cell_type": "markdown",
      "metadata": {
        "id": "UvaibvXRDu3L",
        "colab_type": "text"
      },
      "source": [
        "![alt text](https://algs4.cs.princeton.edu/32bst/images/bst-anatomy.png)\n",
        "\n",
        "\n",
        "## SEARCH\n",
        "![alt text](https://algs4.cs.princeton.edu/32bst/images/bst-search.png)\n",
        "\n",
        "\n",
        "\n",
        "## INSERT\n",
        "![alt text](https://algs4.cs.princeton.edu/32bst/images/bst-insert.png)\n",
        "\n",
        "\n",
        "\n",
        "## DELETE THE MINIMUM\n",
        "![alt text](https://algs4.cs.princeton.edu/32bst/images/bst-deletemin.png)\n",
        "\n",
        "\n",
        "## DELETION\n",
        "![alt text](https://algs4.cs.princeton.edu/32bst/images/bst-delete.png)"
      ]
    },
    {
      "cell_type": "code",
      "metadata": {
        "id": "J-TWLreZBQsF",
        "colab_type": "code",
        "colab": {}
      },
      "source": [
        "from collections import deque\n",
        "class Node:\n",
        "  \n",
        "  def __init__(self, key, value, left=None, right=None):\n",
        "    self.key = key\n",
        "    self.value = value\n",
        "    self.left = left\n",
        "    self.right = right  \n",
        "  \n",
        "class BinaryTree:\n",
        "  \n",
        "  def __init__(self):\n",
        "    self.root = None\n",
        "    self.size = 0    \n",
        "    \n",
        "  def insert(self, key, value):\n",
        "    self.root = self.__insert(self.root, key, value)\n",
        "    \n",
        "  # 向以node为根的二分搜索树中插入新的元素（key, value)  \n",
        "  # 返回插入新结点后二分搜索树的Node \n",
        "  def __insert(self, node, key, value):\n",
        "    \n",
        "    if not node:\n",
        "      self.size += 1\n",
        "      return Node(key, value)\n",
        "    \n",
        "    elif node:\n",
        "    \n",
        "      if node.key == key:\n",
        "        node.value = value\n",
        "      elif node.key > key:\n",
        "        # if node.left = None, node.left will be assigned to Node(key, value)\n",
        "        node.left = self.__insert(node.left, key, value) \n",
        "      else:\n",
        "        # if node.right = None, node.right will be assigned to Node(key, value)\n",
        "        node.right = self.__insert(node.right, key, value)\n",
        "      \n",
        "    return node\n",
        "  \n",
        "  #看二分搜索树中是否包含元素e\n",
        "  def contains(self, key, value):\n",
        "    return self.__contains(self.root, key, value)\n",
        "\n",
        "\n",
        "  #看以node为根的二分搜索树中是否包含元素e\n",
        "  def __contains(self, node, key, value):\n",
        "    if node:\n",
        "      if node.key == key:\n",
        "        return True\n",
        "      elif node.key < key:\n",
        "        self.__contains(node.right, key, value)\n",
        "      elif node.key > key:\n",
        "        self.__contains(node.left, key, value)\n",
        "    return False\n",
        "      \n",
        "  #看二分搜索树中是否包含元素e - iterative   \n",
        "  def contains_2(self, key, value):\n",
        "      node = self.root\n",
        "      while node:\n",
        "        if key > node.key:\n",
        "            node = node.right\n",
        "        elif key < node.key:\n",
        "            node = node.left\n",
        "        else:\n",
        "            return True\n",
        "      return False\n",
        "    \n",
        "  \n",
        "  # 前序遍历以node为根的二分搜索树\n",
        "  def preOrder(self, node):\n",
        "    \n",
        "    if not node:\n",
        "      return\n",
        "    print(node.value)\n",
        "    self.preOrder(node.left)\n",
        "    self.preOrder(node.right)    \n",
        "  \n",
        "  def preOrder_2(self, node):\n",
        "    stack = []\n",
        "    stack.append(node)\n",
        "    while stack:\n",
        "      cur = stack.pop()\n",
        "      # 访问该节点\n",
        "      print(cur.value)\n",
        "      # 把左右子树压入栈，先右后左，因为先进后出\n",
        "      if cur.right:\n",
        "        stack.append(cur.right)\n",
        "      if cur.left:\n",
        "        stack.append(cur.left)\n",
        "        \n",
        " \n",
        "  # 中序遍历以node为根的二分搜索树\n",
        "  def inOrder(self, node):\n",
        "    \n",
        "    if not node:\n",
        "      return\n",
        "\n",
        "    self.inOrder(node.left)\n",
        "    print(node.value)\n",
        "    self.inOrder(node.right)\n",
        "    \n",
        "    \n",
        "  # 后序遍历以node为根的二分搜索树\n",
        "  def postOrder(self, node):\n",
        "    \n",
        "    if not node:\n",
        "      return\n",
        "\n",
        "    self.postOrder(node.left)\n",
        "    self.postOrder(node.right)\n",
        "    print(node.value)\n",
        "\n",
        "    \n",
        "  # 层序遍历以node为根的二分搜索树  \n",
        "  def levelOrder(self, node):\n",
        "    queue = deque([])\n",
        "    queue.append(node)\n",
        "    \n",
        "    while queue:\n",
        "      cur = queue.popleft()\n",
        "      print(cur.value)\n",
        "      if cur.left:\n",
        "        queue.append(cur.left)\n",
        "      if cur.right:\n",
        "        queue.append(cur.right)\n",
        "    \n",
        "  # 返回以node为根的二分搜索树的最小值\n",
        "  def min(self):\n",
        "    if self.size == 0:\n",
        "      print('BST is empty')\n",
        "    return self.__min(self.root)\n",
        "    \n",
        "  def __min(self, node):\n",
        "    if not node.left:\n",
        "      return node \n",
        "    return self.__min(node.left)\n",
        "\n",
        "  def min_2(self, node):\n",
        "\n",
        "    while node.left:\n",
        "      node = node.left\n",
        "\n",
        "    return node.value\n",
        "  \n",
        "  \n",
        "  def max(self, node):\n",
        "\n",
        "    while node.right:\n",
        "      node = node.right\n",
        "\n",
        "    return node.value  \n",
        "  \n",
        "  # 从二分搜索树中删除最小值所在的结点，并返回该值\n",
        "  def removeMin(self):\n",
        "    res = self.min()\n",
        "    root = self.__removeMin(self.root)\n",
        "    \n",
        "    return res\n",
        "  \n",
        "  # 删除以node为根的二分搜索树的最小节点\n",
        "  # 返回删除节点后新的二分搜索树的根\n",
        "  def __removeMin(self, node):\n",
        "    if not node.left:\n",
        "      rightNode = node.right\n",
        "      node.right = None\n",
        "      self.size -= 1\n",
        "      return rightNode\n",
        "    node.left = self.__removeMin(node.left)\n",
        "    return node\n",
        "\n",
        " \n",
        "  def remove(self, key, value):\n",
        "    self.root = self.__remove(self.root, key, value)\n",
        "  \n",
        "  \n",
        "  # 删除以node为根的二分搜索树中key为key的结点\n",
        "  # 返回删除结点后新的二分搜索树的根\n",
        "  def __remove(self, node, key, value):\n",
        "    \n",
        "    if not node:\n",
        "      return None\n",
        "    \n",
        "    if key < node.key:\n",
        "      node.left = self.__remove(node.left, key, value)\n",
        "      return node\n",
        "    elif key > node.key:\n",
        "      node.right = self.__remove(node.right, key, value)\n",
        "      return node\n",
        "    elif key == node.key:\n",
        "      if not node.left:\n",
        "        rightNode = node.right\n",
        "        node.right = None\n",
        "        self.size -=1\n",
        "        return rightNode\n",
        "      # 待删除结点右子树为空\n",
        "      elif not node.right:\n",
        "        # 保存左子树\n",
        "        leftNode = node.left\n",
        "        # 删除node\n",
        "        node.left = None\n",
        "        self.size -=1\n",
        "        return leftNode  \n",
        "      # 待删除结点左右子树都不为空\n",
        "      # 找到比删除结点大的最小值，i.e.待删除结点右子树的最小节点\n",
        "      # 用这个结点替代待删除结点的位置\n",
        "      else:\n",
        "        successor = self.min(node.right)\n",
        "        successor.right = removeMin(node.right)\n",
        "        successor.left = node.left\n",
        "        # 删除node\n",
        "        node.left = node.right = None        \n",
        "        return successor"
      ],
      "execution_count": 0,
      "outputs": []
    },
    {
      "cell_type": "code",
      "metadata": {
        "id": "1AixlBFHFIEZ",
        "colab_type": "code",
        "colab": {}
      },
      "source": [
        "import networkx as nx\n",
        "import matplotlib.pyplot as plt\n",
        "\n",
        "def create_graph(G, node, pos={}, x=0, y=0, layer=1):\n",
        "    pos[node.value] = (x, y)\n",
        "    if node.left:\n",
        "        G.add_edge(node.value, node.left.value)\n",
        "        l_x, l_y = x - 1 / 2 ** layer, y - 1\n",
        "        l_layer = layer + 1\n",
        "        create_graph(G, node.left, x=l_x, y=l_y, pos=pos, layer=l_layer)\n",
        "    if node.right:\n",
        "        G.add_edge(node.value, node.right.value)\n",
        "        r_x, r_y = x + 1 / 2 ** layer, y - 1\n",
        "        r_layer = layer + 1\n",
        "        create_graph(G, node.right, x=r_x, y=r_y, pos=pos, layer=r_layer)\n",
        "    return (G, pos)\n",
        "\n",
        "def draw(node):   # 以某个节点为根画图\n",
        "    graph = nx.DiGraph()\n",
        "    graph, pos = create_graph(graph, node)\n",
        "    fig, ax = plt.subplots(figsize=(8, 10))  # 比例可以根据树的深度适当调节\n",
        "    nx.draw_networkx(graph, pos, ax=ax, node_size=1000)\n",
        "    plt.show()"
      ],
      "execution_count": 0,
      "outputs": []
    },
    {
      "cell_type": "code",
      "metadata": {
        "id": "lss0plAVY6vX",
        "colab_type": "code",
        "outputId": "3e22aa3d-e602-40fd-f5f4-1bc58ed4e6e1",
        "colab": {
          "base_uri": "https://localhost:8080/",
          "height": 582
        }
      },
      "source": [
        "l = [40, 20, 30, 70, 60, 75, 71, 74]\n",
        "tree = BinaryTree()\n",
        "for i in l:  \n",
        "  tree.insert(i, i)\n",
        "draw(tree.root)"
      ],
      "execution_count": 0,
      "outputs": [
        {
          "output_type": "display_data",
          "data": {
            "image/png": "[encoded data removed]",
            "text/plain": [
              "<Figure size 576x720 with 1 Axes>"
            ]
          },
          "metadata": {
            "tags": []
          }
        }
      ]
    },
    {
      "cell_type": "code",
      "metadata": {
        "id": "mrm65F4tM6zt",
        "colab_type": "code",
        "outputId": "51fab973-2c75-4cab-e658-20024e40d382",
        "colab": {
          "base_uri": "https://localhost:8080/",
          "height": 34
        }
      },
      "source": [
        "tree.contains_2(41,41), tree.contains_2(40,40)"
      ],
      "execution_count": 0,
      "outputs": [
        {
          "output_type": "execute_result",
          "data": {
            "text/plain": [
              "(False, True)"
            ]
          },
          "metadata": {
            "tags": []
          },
          "execution_count": 359
        }
      ]
    },
    {
      "cell_type": "code",
      "metadata": {
        "id": "fVCibpWRO9WS",
        "colab_type": "code",
        "outputId": "91c6d983-c72a-466c-a075-273056d2c6b1",
        "colab": {
          "base_uri": "https://localhost:8080/",
          "height": 34
        }
      },
      "source": [
        "tree.contains(41,41), tree.contains(40,40)"
      ],
      "execution_count": 0,
      "outputs": [
        {
          "output_type": "execute_result",
          "data": {
            "text/plain": [
              "(False, True)"
            ]
          },
          "metadata": {
            "tags": []
          },
          "execution_count": 360
        }
      ]
    },
    {
      "cell_type": "code",
      "metadata": {
        "id": "fYwakvvfZN4I",
        "colab_type": "code",
        "outputId": "887f3266-98e2-4227-d5a1-1aab5945aeae",
        "colab": {
          "base_uri": "https://localhost:8080/",
          "height": 153
        }
      },
      "source": [
        "tree.preOrder(tree.root)"
      ],
      "execution_count": 0,
      "outputs": [
        {
          "output_type": "stream",
          "text": [
            "40\n",
            "20\n",
            "30\n",
            "70\n",
            "60\n",
            "75\n",
            "71\n",
            "74\n"
          ],
          "name": "stdout"
        }
      ]
    },
    {
      "cell_type": "code",
      "metadata": {
        "id": "dDI7jf5nenwG",
        "colab_type": "code",
        "outputId": "0f26c7db-1bbe-424a-bbb3-3605fac33c7a",
        "colab": {
          "base_uri": "https://localhost:8080/",
          "height": 153
        }
      },
      "source": [
        "tree.preOrder_2(tree.root)"
      ],
      "execution_count": 0,
      "outputs": [
        {
          "output_type": "stream",
          "text": [
            "40\n",
            "20\n",
            "30\n",
            "70\n",
            "60\n",
            "75\n",
            "71\n",
            "74\n"
          ],
          "name": "stdout"
        }
      ]
    },
    {
      "cell_type": "code",
      "metadata": {
        "id": "O27qSfWgbzNC",
        "colab_type": "code",
        "outputId": "cc0ead2d-dc42-4447-d201-083131a057f1",
        "colab": {
          "base_uri": "https://localhost:8080/",
          "height": 153
        }
      },
      "source": [
        "tree.inOrder(tree.root)"
      ],
      "execution_count": 0,
      "outputs": [
        {
          "output_type": "stream",
          "text": [
            "20\n",
            "30\n",
            "40\n",
            "60\n",
            "70\n",
            "71\n",
            "74\n",
            "75\n"
          ],
          "name": "stdout"
        }
      ]
    },
    {
      "cell_type": "code",
      "metadata": {
        "id": "fQRfQuEYclQB",
        "colab_type": "code",
        "outputId": "6ebbab01-e046-4e9d-9030-589f94c89700",
        "colab": {
          "base_uri": "https://localhost:8080/",
          "height": 153
        }
      },
      "source": [
        "tree.postOrder(tree.root)"
      ],
      "execution_count": 0,
      "outputs": [
        {
          "output_type": "stream",
          "text": [
            "30\n",
            "20\n",
            "60\n",
            "74\n",
            "71\n",
            "75\n",
            "70\n",
            "40\n"
          ],
          "name": "stdout"
        }
      ]
    },
    {
      "cell_type": "code",
      "metadata": {
        "id": "myn6Dg0IshAv",
        "colab_type": "code",
        "outputId": "ca5199b5-5e3a-4900-a309-a4ccb0597a0a",
        "colab": {
          "base_uri": "https://localhost:8080/",
          "height": 153
        }
      },
      "source": [
        "tree.levelOrder(tree.root)"
      ],
      "execution_count": 0,
      "outputs": [
        {
          "output_type": "stream",
          "text": [
            "40\n",
            "20\n",
            "70\n",
            "30\n",
            "60\n",
            "75\n",
            "71\n",
            "74\n"
          ],
          "name": "stdout"
        }
      ]
    },
    {
      "cell_type": "code",
      "metadata": {
        "id": "Hlwm05Sbsiq0",
        "colab_type": "code",
        "outputId": "518c8303-c90b-4bcc-a7cd-733b2777b17e",
        "colab": {
          "base_uri": "https://localhost:8080/",
          "height": 34
        }
      },
      "source": [
        "tree.min()"
      ],
      "execution_count": 0,
      "outputs": [
        {
          "output_type": "execute_result",
          "data": {
            "text/plain": [
              "<__main__.Node at 0x7f4218bf5780>"
            ]
          },
          "metadata": {
            "tags": []
          },
          "execution_count": 366
        }
      ]
    },
    {
      "cell_type": "code",
      "metadata": {
        "id": "ei7PR_1nt-v9",
        "colab_type": "code",
        "outputId": "42663709-c99e-46cf-fe83-e6c06a59d401",
        "colab": {
          "base_uri": "https://localhost:8080/",
          "height": 34
        }
      },
      "source": [
        "tree.min_2(tree.root)"
      ],
      "execution_count": 0,
      "outputs": [
        {
          "output_type": "execute_result",
          "data": {
            "text/plain": [
              "20"
            ]
          },
          "metadata": {
            "tags": []
          },
          "execution_count": 367
        }
      ]
    },
    {
      "cell_type": "code",
      "metadata": {
        "id": "IV4STS0Vw8kl",
        "colab_type": "code",
        "outputId": "b43b0047-0a5b-4c99-ff29-c4207e7bfaf8",
        "colab": {
          "base_uri": "https://localhost:8080/",
          "height": 34
        }
      },
      "source": [
        "tree.max(tree.root)"
      ],
      "execution_count": 0,
      "outputs": [
        {
          "output_type": "execute_result",
          "data": {
            "text/plain": [
              "75"
            ]
          },
          "metadata": {
            "tags": []
          },
          "execution_count": 368
        }
      ]
    },
    {
      "cell_type": "code",
      "metadata": {
        "id": "AYq9eDJMxj5N",
        "colab_type": "code",
        "outputId": "33795eb9-2a2d-45ba-9750-a6364cf81e7c",
        "colab": {
          "base_uri": "https://localhost:8080/",
          "height": 34
        }
      },
      "source": [
        "tree.removeMin()"
      ],
      "execution_count": 0,
      "outputs": [
        {
          "output_type": "execute_result",
          "data": {
            "text/plain": [
              "<__main__.Node at 0x7f4218bf5780>"
            ]
          },
          "metadata": {
            "tags": []
          },
          "execution_count": 369
        }
      ]
    },
    {
      "cell_type": "code",
      "metadata": {
        "id": "3ihqmaJm2qoX",
        "colab_type": "code",
        "outputId": "7445ba88-c969-4723-a87f-edcdc3d119c6",
        "colab": {
          "base_uri": "https://localhost:8080/",
          "height": 136
        }
      },
      "source": [
        "tree.inOrder(tree.root)"
      ],
      "execution_count": 0,
      "outputs": [
        {
          "output_type": "stream",
          "text": [
            "30\n",
            "40\n",
            "60\n",
            "70\n",
            "71\n",
            "74\n",
            "75\n"
          ],
          "name": "stdout"
        }
      ]
    },
    {
      "cell_type": "code",
      "metadata": {
        "id": "H0KQ2GoDFqbr",
        "colab_type": "code",
        "colab": {}
      },
      "source": [
        "tree.remove(30, 30)"
      ],
      "execution_count": 0,
      "outputs": []
    },
    {
      "cell_type": "code",
      "metadata": {
        "id": "27XHRAIpFz12",
        "colab_type": "code",
        "outputId": "0dc1bf2f-0afa-43f1-b60c-38787fa5af79",
        "colab": {
          "base_uri": "https://localhost:8080/",
          "height": 119
        }
      },
      "source": [
        "tree.inOrder(tree.root)"
      ],
      "execution_count": 0,
      "outputs": [
        {
          "output_type": "stream",
          "text": [
            "40\n",
            "60\n",
            "70\n",
            "71\n",
            "74\n",
            "75\n"
          ],
          "name": "stdout"
        }
      ]
    },
    {
      "cell_type": "code",
      "metadata": {
        "id": "IqG8cDh8wPsf",
        "colab_type": "code",
        "colab": {}
      },
      "source": [
        " # class Solution(object):\n",
        "    def deleteNode(self, root, key):\n",
        "        \"\"\"\n",
        "        :type root: TreeNode\n",
        "        :type key: int\n",
        "        :rtype: TreeNode\n",
        "        \"\"\"\n",
        "        # 1. find the node to be deleted\n",
        "        dummy = TreeNode(0)\n",
        "        dummy.left = root\n",
        "        p = root \n",
        "        parent = dummy\n",
        "        while p is not None and p.val != key:\n",
        "            parent = p\n",
        "            if p.val > key:\n",
        "                p = p.left\n",
        "            else:\n",
        "                p = p.right\n",
        "        if p is None: # not found\n",
        "            return root\n",
        "        # 2. find the minimum of p's right subtree\n",
        "        q_parent = p\n",
        "        q = p.right\n",
        "        if q is None: # p has no right subtree, just promote its left subtree\n",
        "            if parent.left == p:\n",
        "                parent.left = p.left\n",
        "            else:\n",
        "                parent.right = p.left\n",
        "        else:\n",
        "            while q.left is not None:\n",
        "                q_parent = q\n",
        "                q = q.left\n",
        "            # exchange value between the minimum q and p\n",
        "            p.val = q.val\n",
        "            # promote q's right child\n",
        "            if q_parent.left == q:\n",
        "                q_parent.left = q.right\n",
        "            else:\n",
        "                q_parent.right = q.right\n",
        "        return dummy.left"
      ],
      "execution_count": 0,
      "outputs": []
    }
  ]
}