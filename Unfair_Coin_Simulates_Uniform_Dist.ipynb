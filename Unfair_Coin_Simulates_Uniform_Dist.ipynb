{
  "nbformat": 4,
  "nbformat_minor": 0,
  "metadata": {
    "colab": {
      "name": "Unfair Coin Simulates Uniform Dist.ipynb",
      "version": "0.3.2",
      "provenance": [],
      "collapsed_sections": [],
      "include_colab_link": true
    },
    "kernelspec": {
      "name": "python3",
      "display_name": "Python 3"
    }
  },
  "cells": [
    {
      "cell_type": "markdown",
      "metadata": {
        "id": "view-in-github",
        "colab_type": "text"
      },
      "source": [
        "<a href=\"https://colab.research.google.com/github/ziqlu0722/Machine-Learning/blob/master/Unfair_Coin_Simulates_Uniform_Dist.ipynb\" target=\"_parent\"><img src=\"https://colab.research.google.com/assets/colab-badge.svg\" alt=\"Open In Colab\"/></a>"
      ]
    },
    {
      "cell_type": "code",
      "metadata": {
        "id": "c8VyfseZfsLh",
        "colab_type": "code",
        "colab": {}
      },
      "source": [
        "import random\n",
        "import numpy as np\n",
        " \n",
        "class UnbalancedCoin:\n",
        "    def __init__(self, p):\n",
        "        assert 0.0 < p < 1.0, 'invalid p'\n",
        "        self._p = p\n",
        " \n",
        "    # random is uniform, \n",
        "    # True if the random number generated smaller than p - head(P = p)\n",
        "    # False if greater than P - tail(P = 1 - p)\n",
        "    def Flip(self):\n",
        "        return random.random() < self._p"
      ],
      "execution_count": 0,
      "outputs": []
    },
    {
      "cell_type": "code",
      "metadata": {
        "id": "nNIodd5fm6H6",
        "colab_type": "code",
        "colab": {}
      },
      "source": [
        "def MakeEqualProb(coin):\n",
        "    # we only interested in two tosses in a row that generates different sides\n",
        "    # if toss1 is different from toss2, return toss1\n",
        "    # toss1, when toss1 is true -> HeadTail, when toss1 is false -> TailHead\n",
        "    # which has equal proabibility\n",
        "    while True:\n",
        "        a = coin.Flip()\n",
        "        if a != coin.Flip():\n",
        "            return a"
      ],
      "execution_count": 0,
      "outputs": []
    },
    {
      "cell_type": "code",
      "metadata": {
        "id": "F_HUt4P0gIfo",
        "colab_type": "code",
        "colab": {}
      },
      "source": [
        "# make a unfair coin using its probability to get head\n",
        "\n",
        "coin = UnbalancedCoin(0.7)\n",
        "\n",
        "\n",
        "\n",
        "# simulate even toss\n",
        " \n",
        "fair_res = np.array([MakeEqualProb(coin) for i in range(10000)])\n",
        "\n",
        "\n",
        "\n",
        "# simulate unfair toss\n",
        "\n",
        "unfair_res = np.array([coin.Flip() for i in range(10000)])"
      ],
      "execution_count": 0,
      "outputs": []
    },
    {
      "cell_type": "code",
      "metadata": {
        "id": "GkD-475bif3F",
        "colab_type": "code",
        "colab": {
          "base_uri": "https://localhost:8080/",
          "height": 34
        },
        "outputId": "0668e50b-e919-4e04-dbc0-66266a1c712f"
      },
      "source": [
        "np.sum(fair_res), np.sum(unfair_res)"
      ],
      "execution_count": 67,
      "outputs": [
        {
          "output_type": "execute_result",
          "data": {
            "text/plain": [
              "(5013, 7058)"
            ]
          },
          "metadata": {
            "tags": []
          },
          "execution_count": 67
        }
      ]
    }
  ]
}