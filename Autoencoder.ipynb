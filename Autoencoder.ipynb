{
 "cells": [
  {
   "cell_type": "code",
   "execution_count": 1,
   "metadata": {},
   "outputs": [],
   "source": [
    "import numpy as np\n",
    "import tensorflow as tf"
   ]
  },
  {
   "cell_type": "markdown",
   "metadata": {},
   "source": [
    "### 1. Concept of Autoencoders \n",
    "\n",
    "* Autoencoders are simple neural networks that their output is their input. \n",
    "\n",
    "<img src=\"https://cdn-images-1.medium.com/max/1600/0*2B-ZLwJTsi21avTO.jpg\" width = 500 />\n",
    "\n",
    "from [source](https://towardsdatascience.com/how-to-generate-images-using-autoencoders-acfbc6c3555e)\n",
    "\n",
    "* Applications:\n",
    "    * [Recommendation System](https://towardsdatascience.com/deep-autoencoders-for-collaborative-filtering-6cf8d25bbf1d)\n",
    "    \n",
    "    * Feature Extraction\n",
    "    * Non Linear Dimensionality Reduction\n",
    "    * Image Recognition\n"
   ]
  },
  {
   "cell_type": "markdown",
   "metadata": {},
   "source": [
    "### 2. Creat Input Data"
   ]
  },
  {
   "cell_type": "code",
   "execution_count": 2,
   "metadata": {},
   "outputs": [
    {
     "data": {
      "text/plain": [
       "array([1, 0, 0, 0, 0, 0, 0, 0])"
      ]
     },
     "execution_count": 2,
     "metadata": {},
     "output_type": "execute_result"
    }
   ],
   "source": [
    "d = [1,0,0,0,0,0,0,0]\n",
    "np.roll(d,0)"
   ]
  },
  {
   "cell_type": "code",
   "execution_count": 3,
   "metadata": {},
   "outputs": [],
   "source": [
    "input_data = []\n",
    "for i in range(8):\n",
    "    input_data.append(d)\n",
    "    d = np.roll(d, 1)\n",
    "input_data = np.array(input_data).astype(np.float32)"
   ]
  },
  {
   "cell_type": "code",
   "execution_count": 4,
   "metadata": {},
   "outputs": [
    {
     "data": {
      "text/plain": [
       "((8, 8), dtype('float32'))"
      ]
     },
     "execution_count": 4,
     "metadata": {},
     "output_type": "execute_result"
    }
   ],
   "source": [
    "input_data.shape, input_data.dtype"
   ]
  },
  {
   "cell_type": "code",
   "execution_count": 5,
   "metadata": {},
   "outputs": [
    {
     "data": {
      "text/plain": [
       "array([[1., 0., 0., 0., 0., 0., 0., 0.],\n",
       "       [0., 1., 0., 0., 0., 0., 0., 0.],\n",
       "       [0., 0., 1., 0., 0., 0., 0., 0.],\n",
       "       [0., 0., 0., 1., 0., 0., 0., 0.],\n",
       "       [0., 0., 0., 0., 1., 0., 0., 0.],\n",
       "       [0., 0., 0., 0., 0., 1., 0., 0.],\n",
       "       [0., 0., 0., 0., 0., 0., 1., 0.],\n",
       "       [0., 0., 0., 0., 0., 0., 0., 1.]], dtype=float32)"
      ]
     },
     "execution_count": 5,
     "metadata": {},
     "output_type": "execute_result"
    }
   ],
   "source": [
    "input_data"
   ]
  },
  {
   "cell_type": "markdown",
   "metadata": {},
   "source": [
    "### 3. Build Autoencoder - Tensorflow"
   ]
  },
  {
   "cell_type": "markdown",
   "metadata": {},
   "source": [
    "##### 1. Create Some Constants\n",
    "\n",
    " - here 9 dimensions will be compressed to 3 dimensions\n",
    " - activation function is predefined as sigmoid"
   ]
  },
  {
   "cell_type": "code",
   "execution_count": 42,
   "metadata": {},
   "outputs": [],
   "source": [
    "num_input = 8\n",
    "num_hid = 3\n",
    "num_output = num_input\n",
    "lr = 0.01\n",
    "actf = tf.nn.sigmoid"
   ]
  },
  {
   "cell_type": "markdown",
   "metadata": {},
   "source": [
    "##### 2. Network Configuration"
   ]
  },
  {
   "cell_type": "markdown",
   "metadata": {},
   "source": [
    "![autoencoder](pic/autoencod838.jpg)"
   ]
  },
  {
   "cell_type": "markdown",
   "metadata": {},
   "source": [
    " - Define its layer with its weights and bias variables\n",
    " - and activation functions"
   ]
  },
  {
   "cell_type": "code",
   "execution_count": 44,
   "metadata": {},
   "outputs": [],
   "source": [
    "input_layer = tf.placeholder(dtype = tf.float32, shape = [None, num_inputs])\n",
    "\n",
    "hid_layer_param = {\n",
    "'w': tf.Variable(tf.random_normal([num_input, num_hid])),\n",
    "'b': tf.Variable(tf.zeros([num_hid]))}\n",
    "\n",
    "output_layer_param = {\n",
    "'w': tf.Variable(tf.random_normal([num_hid, num_output])),\n",
    "'b': tf.Variable(tf.zeros([num_output]))}\n",
    "\n",
    "hid_layer = actf(input_layer @ hid_layer_param['w'] + hid_layer_param['b'])\n",
    "output_layer = actf(hid_layer @ output_layer_param['w'] + output_layer_param['b'])\n"
   ]
  },
  {
   "cell_type": "markdown",
   "metadata": {},
   "source": [
    "##### 3. Define Loss Function, Accuracy Calculation"
   ]
  },
  {
   "cell_type": "code",
   "execution_count": 45,
   "metadata": {},
   "outputs": [],
   "source": [
    "loss = tf.reduce_mean(tf.square(output_layer - input_layer))\n",
    "\n",
    "optimizer = tf.train.AdamOptimizer(lr)\n",
    "train = optimizer.minimize(loss)\n",
    "\n",
    "correct_prediction = tf.equal(tf.argmax(input_layer, axis = 1),\n",
    "                              tf.argmax(output_layer, axis = 1))\n",
    "accuracy = tf.reduce_mean(tf.cast(correct_prediction, tf.float32))         "
   ]
  },
  {
   "cell_type": "markdown",
   "metadata": {},
   "source": [
    "##### 4. Training"
   ]
  },
  {
   "cell_type": "code",
   "execution_count": 46,
   "metadata": {},
   "outputs": [],
   "source": [
    "def autoencoder(num_epoch):\n",
    "    init = tf.global_variables_initializer()\n",
    "\n",
    "    with tf.Session() as sess:\n",
    "        sess.run(init)\n",
    "        for epoch in range(num_epoch):\n",
    "            _, c, acc = sess.run([train, loss, accuracy], feed_dict = {input_layer: input_data})\n",
    "            \n",
    "            if epoch % 100 == 0:\n",
    "                print('epoch {} ------- loss {} ------- accuracy {}'.format(epoch, c, acc)) \n",
    "                                \n",
    "    return hid_layer_param, output_layer_param\n"
   ]
  },
  {
   "cell_type": "code",
   "execution_count": 49,
   "metadata": {},
   "outputs": [
    {
     "name": "stdout",
     "output_type": "stream",
     "text": [
      "epoch 0 ------- loss 0.33663737773895264 ------- accuracy 0.125\n",
      "epoch 100 ------- loss 0.10662546753883362 ------- accuracy 0.125\n",
      "epoch 200 ------- loss 0.08875894546508789 ------- accuracy 0.75\n",
      "epoch 300 ------- loss 0.07639152556657791 ------- accuracy 0.75\n",
      "epoch 400 ------- loss 0.06549400091171265 ------- accuracy 0.75\n",
      "epoch 500 ------- loss 0.056102100759744644 ------- accuracy 0.875\n",
      "epoch 600 ------- loss 0.048292048275470734 ------- accuracy 0.875\n",
      "epoch 700 ------- loss 0.04183731973171234 ------- accuracy 0.875\n",
      "epoch 800 ------- loss 0.036529265344142914 ------- accuracy 1.0\n",
      "epoch 900 ------- loss 0.03229247033596039 ------- accuracy 1.0\n"
     ]
    },
    {
     "data": {
      "text/plain": [
       "({'w': <tf.Variable 'Variable_8:0' shape=(8, 3) dtype=float32_ref>,\n",
       "  'b': <tf.Variable 'Variable_9:0' shape=(3,) dtype=float32_ref>},\n",
       " {'w': <tf.Variable 'Variable_10:0' shape=(3, 8) dtype=float32_ref>,\n",
       "  'b': <tf.Variable 'Variable_11:0' shape=(8,) dtype=float32_ref>})"
      ]
     },
     "execution_count": 49,
     "metadata": {},
     "output_type": "execute_result"
    }
   ],
   "source": [
    "num_epoch = 1000\n",
    "autoencoder(num_epoch)"
   ]
  },
  {
   "cell_type": "markdown",
   "metadata": {},
   "source": [
    "### 4. Build Autoencoder - From Scratch"
   ]
  },
  {
   "cell_type": "code",
   "execution_count": 320,
   "metadata": {},
   "outputs": [],
   "source": [
    "class Autoencoder:\n",
    "    \n",
    "    def __init__(self):\n",
    "        self.num_input = 8 + 1\n",
    "        self.num_output = self.num_input\n",
    "        self.num_hid = 3\n",
    "        self.w1 = np.random.randn(self.num_input, self.num_hid)          \n",
    "        self.w2 = np.random.randn(self.num_hid, self.num_output)\n",
    "        \n",
    "    def sigmoid(self, x):\n",
    "        # Activation function used to map any real value between 0 and 1\n",
    "        return 1 / (1 + np.exp(-x))\n",
    "    \n",
    "    def sigmoid_derivative(self, sig):\n",
    "        # Use chain rule to calculate the derivatie of sigmoid function\n",
    "        return sig *(sig - 1)\n",
    "        \n",
    "    def forwardfeed(self, x):\n",
    "        net1 = x @ self.w1\n",
    "        a1 = self.sigmoid(net1)\n",
    "        net2 = a1 @ self.w2\n",
    "        a2 = self.sigmoid(net2) \n",
    "        return a1, a2\n",
    "    \n",
    "    def backprop(self, lr, a1, a2):\n",
    "        output_layer_derivative = (self.x - a2) * self.sigmoid_derivative(a2)\n",
    "        hid_layer_derivative = output_layer_derivative @ self.w2.T * self.sigmoid_derivative(a1)\n",
    "        \n",
    "        self.w1 -= lr * self.x.T @ hid_layer_derivative \n",
    "        self.w2 -= lr * a1.T @ output_layer_derivative\n",
    "        \n",
    "    def reshape_x(self, x):\n",
    "        return np.column_stack((np.full(x.shape[0],1), x))   \n",
    "    \n",
    "    def get_loss(self, a2):\n",
    "        loss = 1 / self.x.shape[0] * np.sum(1/2 * (self.x - a2)**2)\n",
    "        return loss\n",
    "    \n",
    "    def get_accuracy(self, a2):\n",
    "        acc_count = 0\n",
    "        for i in range(self.x.shape[0]):\n",
    "            if np.argmax(self.x[i]) == np.argmax(a2[i]):\n",
    "                acc_count += 1\n",
    "        return acc_count/self.x.shape[0]\n",
    "    \n",
    "    def train(self, x, num_epoch, lr):  \n",
    "        self.x = self.reshape_x(x)\n",
    "        \n",
    "        for epoch in range(num_epoch):\n",
    "            a1, a2 = self.forwardfeed(self.x)\n",
    "            self.backprop(lr, a1, a2)\n",
    "            loss = self.get_loss(a2)\n",
    "            accuracy = self.get_accuracy(a2)\n",
    "            if epoch % 100 == 0:\n",
    "                print('Epoch {} - Loss {} ------- Accuracy {}'.format(epoch, loss, accuracy))\n",
    "                \n",
    "        return a1\n",
    "                               "
   ]
  },
  {
   "cell_type": "code",
   "execution_count": 327,
   "metadata": {},
   "outputs": [],
   "source": [
    "autoencoder = Autoencoder()"
   ]
  },
  {
   "cell_type": "code",
   "execution_count": 328,
   "metadata": {},
   "outputs": [
    {
     "name": "stdout",
     "output_type": "stream",
     "text": [
      "Epoch 0 - Loss 0.9513842450085215 ------- Accuracy 0.375\n",
      "Epoch 100 - Loss 0.9250220438222978 ------- Accuracy 0.5\n",
      "Epoch 200 - Loss 0.9008933694265226 ------- Accuracy 0.625\n",
      "Epoch 300 - Loss 0.8789218425348546 ------- Accuracy 0.75\n",
      "Epoch 400 - Loss 0.8590171045234578 ------- Accuracy 1.0\n",
      "Epoch 500 - Loss 0.8410795733790483 ------- Accuracy 1.0\n",
      "Epoch 600 - Loss 0.8250042812748747 ------- Accuracy 1.0\n",
      "Epoch 700 - Loss 0.810683933696456 ------- Accuracy 1.0\n",
      "Epoch 800 - Loss 0.7980113052295594 ------- Accuracy 1.0\n",
      "Epoch 900 - Loss 0.7868810651553684 ------- Accuracy 1.0\n"
     ]
    },
    {
     "data": {
      "text/plain": [
       "array([[0.57136523, 0.52657692, 0.30672693],\n",
       "       [0.21209031, 0.78467793, 0.24089505],\n",
       "       [0.31615934, 0.18286173, 0.55534662],\n",
       "       [0.38408309, 0.6386491 , 0.12080812],\n",
       "       [0.60207807, 0.87219061, 0.31911204],\n",
       "       [0.1661541 , 0.82280513, 0.64028918],\n",
       "       [0.03775574, 0.3696642 , 0.1939201 ],\n",
       "       [0.09857713, 0.5314371 , 0.42924396]])"
      ]
     },
     "execution_count": 328,
     "metadata": {},
     "output_type": "execute_result"
    }
   ],
   "source": [
    "autoencoder.train(input_data, num_epoch = 1000, lr = 0.001)"
   ]
  }
 ],
 "metadata": {
  "kernelspec": {
   "display_name": "Python 3",
   "language": "python",
   "name": "python3"
  },
  "language_info": {
   "codemirror_mode": {
    "name": "ipython",
    "version": 3
   },
   "file_extension": ".py",
   "mimetype": "text/x-python",
   "name": "python",
   "nbconvert_exporter": "python",
   "pygments_lexer": "ipython3",
   "version": "3.6.5"
  }
 },
 "nbformat": 4,
 "nbformat_minor": 2
}
