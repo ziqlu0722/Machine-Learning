{
  "nbformat": 4,
  "nbformat_minor": 0,
  "metadata": {
    "kernelspec": {
      "display_name": "Python 3",
      "language": "python",
      "name": "python3"
    },
    "language_info": {
      "codemirror_mode": {
        "name": "ipython",
        "version": 3
      },
      "file_extension": ".py",
      "mimetype": "text/x-python",
      "name": "python",
      "nbconvert_exporter": "python",
      "pygments_lexer": "ipython3",
      "version": "3.6.5"
    },
    "colab": {
      "name": "RedSox_WinningPrediction.ipynb",
      "version": "0.3.2",
      "provenance": [],
      "include_colab_link": true
    }
  },
  "cells": [
    {
      "cell_type": "markdown",
      "metadata": {
        "id": "view-in-github",
        "colab_type": "text"
      },
      "source": [
        "<a href=\"https://colab.research.google.com/github/ziqlu0722/Machine-Learning/blob/master/RedSox_WinningPrediction.ipynb\" target=\"_parent\"><img src=\"https://colab.research.google.com/assets/colab-badge.svg\" alt=\"Open In Colab\"/></a>"
      ]
    },
    {
      "cell_type": "markdown",
      "metadata": {
        "id": "WiTlVbEvyOb3",
        "colab_type": "text"
      },
      "source": [
        "#### 0. Import Needed Packages"
      ]
    },
    {
      "cell_type": "code",
      "metadata": {
        "id": "oVdsPSOtyOb4",
        "colab_type": "code",
        "colab": {},
        "outputId": "53221984-2e1c-428e-9ae9-d8ecf5e73d25"
      },
      "source": [
        "# import necessary packages\n",
        "\n",
        "import pandas as pd\n",
        "import numpy as np\n",
        "import pymc3 as pm, theano.tensor as tt\n",
        "import matplotlib.pyplot as plt\n",
        "import random\n",
        "%matplotlib inline\n",
        "\n",
        "RANDOM_SEED = 13249845\n",
        "random.seed(RANDOM_SEED)"
      ],
      "execution_count": 0,
      "outputs": [
        {
          "output_type": "stream",
          "text": [
            "/Users/lvziqing/anaconda3/lib/python3.6/site-packages/h5py/__init__.py:36: FutureWarning: Conversion of the second argument of issubdtype from `float` to `np.floating` is deprecated. In future, it will be treated as `np.float64 == np.dtype(float).type`.\n",
            "  from ._conv import register_converters as _register_converters\n"
          ],
          "name": "stderr"
        }
      ]
    },
    {
      "cell_type": "markdown",
      "metadata": {
        "id": "QIDE_CftyOb7",
        "colab_type": "text"
      },
      "source": [
        "#### 1. Get Data"
      ]
    },
    {
      "cell_type": "code",
      "metadata": {
        "id": "Sahkrp5NyOb8",
        "colab_type": "code",
        "colab": {}
      },
      "source": [
        "# define a function to get data from www.baseball-reference.com\"\n",
        "\n",
        "def fetch_data(baseUrl,x):\n",
        "    tempList = []\n",
        "    for year in range(2010,2019):\n",
        "        url = baseUrl.format(year)\n",
        "        data = pd.read_html(url)[x]\n",
        "        data['year'] = year\n",
        "        tempList.append(data)\n",
        "        print(len(tempList))\n",
        "    result = pd.concat(tempList)\n",
        "    return  result"
      ],
      "execution_count": 0,
      "outputs": []
    },
    {
      "cell_type": "code",
      "metadata": {
        "id": "dewsHX9myOb-",
        "colab_type": "code",
        "colab": {},
        "outputId": "b59357dd-a0a0-41bb-adce-8f11f827f29b"
      },
      "source": [
        "# read html data and save as local csv\n",
        "\n",
        "baseURL = 'https://www.baseball-reference.com/teams/tgl.cgi?team=BOS&t=b&year={}'\n",
        "fetch_data(baseURL,0).to_csv('bos.csv',index=False)"
      ],
      "execution_count": 0,
      "outputs": [
        {
          "output_type": "stream",
          "text": [
            "1\n",
            "2\n",
            "3\n",
            "4\n",
            "5\n",
            "6\n",
            "7\n",
            "8\n",
            "9\n"
          ],
          "name": "stdout"
        }
      ]
    },
    {
      "cell_type": "markdown",
      "metadata": {
        "id": "DC8RlOjsyOcB",
        "colab_type": "text"
      },
      "source": [
        "#### 2. Clean Data"
      ]
    },
    {
      "cell_type": "code",
      "metadata": {
        "id": "ZWFjP4lCyOcC",
        "colab_type": "code",
        "colab": {}
      },
      "source": [
        "# read data from local data file\n",
        "\n",
        "bos = pd.read_csv('bos.csv')"
      ],
      "execution_count": 0,
      "outputs": []
    },
    {
      "cell_type": "code",
      "metadata": {
        "id": "kNgdIqhvyOcF",
        "colab_type": "code",
        "colab": {}
      },
      "source": [
        "# remove the header of table for each month\n",
        "\n",
        "bos.dropna(axis = 0, subset = ['Thr'], inplace = True)"
      ],
      "execution_count": 0,
      "outputs": []
    },
    {
      "cell_type": "code",
      "metadata": {
        "id": "yIXr_xCfyOcH",
        "colab_type": "code",
        "colab": {}
      },
      "source": [
        "# concate year and date\n",
        "\n",
        "bos['time'] = bos.year.astype(str) + \" \" + bos.Date"
      ],
      "execution_count": 0,
      "outputs": []
    },
    {
      "cell_type": "code",
      "metadata": {
        "scrolled": true,
        "id": "8ss2Jj6HyOcK",
        "colab_type": "code",
        "colab": {},
        "outputId": "a228f1be-f00b-4d84-e452-a8c5f477a4e1"
      },
      "source": [
        "# rough look at the data\n",
        "\n",
        "bos.head()"
      ],
      "execution_count": 0,
      "outputs": [
        {
          "output_type": "execute_result",
          "data": {
            "text/html": [
              "<div>\n",
              "<style scoped>\n",
              "    .dataframe tbody tr th:only-of-type {\n",
              "        vertical-align: middle;\n",
              "    }\n",
              "\n",
              "    .dataframe tbody tr th {\n",
              "        vertical-align: top;\n",
              "    }\n",
              "\n",
              "    .dataframe thead th {\n",
              "        text-align: right;\n",
              "    }\n",
              "</style>\n",
              "<table border=\"1\" class=\"dataframe\">\n",
              "  <thead>\n",
              "    <tr style=\"text-align: right;\">\n",
              "      <th></th>\n",
              "      <th>Rk</th>\n",
              "      <th>Gtm</th>\n",
              "      <th>Date</th>\n",
              "      <th>Unnamed: 3</th>\n",
              "      <th>Opp</th>\n",
              "      <th>Rslt</th>\n",
              "      <th>PA</th>\n",
              "      <th>AB</th>\n",
              "      <th>R</th>\n",
              "      <th>H</th>\n",
              "      <th>...</th>\n",
              "      <th>BA</th>\n",
              "      <th>OBP</th>\n",
              "      <th>SLG</th>\n",
              "      <th>OPS</th>\n",
              "      <th>LOB</th>\n",
              "      <th>#</th>\n",
              "      <th>Thr</th>\n",
              "      <th>Opp. Starter (GmeSc)</th>\n",
              "      <th>year</th>\n",
              "      <th>time</th>\n",
              "    </tr>\n",
              "  </thead>\n",
              "  <tbody>\n",
              "    <tr>\n",
              "      <th>0</th>\n",
              "      <td>1</td>\n",
              "      <td>1.0</td>\n",
              "      <td>Apr 4</td>\n",
              "      <td>NaN</td>\n",
              "      <td>NYY</td>\n",
              "      <td>W,9-7</td>\n",
              "      <td>39</td>\n",
              "      <td>34</td>\n",
              "      <td>9</td>\n",
              "      <td>12</td>\n",
              "      <td>...</td>\n",
              "      <td>.353</td>\n",
              "      <td>.410</td>\n",
              "      <td>.588</td>\n",
              "      <td>.998</td>\n",
              "      <td>6</td>\n",
              "      <td>9</td>\n",
              "      <td>L</td>\n",
              "      <td>C.Sabathia (38)</td>\n",
              "      <td>2010</td>\n",
              "      <td>2010 Apr 4</td>\n",
              "    </tr>\n",
              "    <tr>\n",
              "      <th>1</th>\n",
              "      <td>2</td>\n",
              "      <td>2.0</td>\n",
              "      <td>Apr 6</td>\n",
              "      <td>NaN</td>\n",
              "      <td>NYY</td>\n",
              "      <td>L,4-6</td>\n",
              "      <td>38</td>\n",
              "      <td>35</td>\n",
              "      <td>4</td>\n",
              "      <td>9</td>\n",
              "      <td>...</td>\n",
              "      <td>.304</td>\n",
              "      <td>.351</td>\n",
              "      <td>.507</td>\n",
              "      <td>.858</td>\n",
              "      <td>7</td>\n",
              "      <td>9</td>\n",
              "      <td>R</td>\n",
              "      <td>A.Burnett (43)</td>\n",
              "      <td>2010</td>\n",
              "      <td>2010 Apr 6</td>\n",
              "    </tr>\n",
              "    <tr>\n",
              "      <th>2</th>\n",
              "      <td>3</td>\n",
              "      <td>3.0</td>\n",
              "      <td>Apr 7</td>\n",
              "      <td>NaN</td>\n",
              "      <td>NYY</td>\n",
              "      <td>L,1-3</td>\n",
              "      <td>39</td>\n",
              "      <td>35</td>\n",
              "      <td>1</td>\n",
              "      <td>7</td>\n",
              "      <td>...</td>\n",
              "      <td>.269</td>\n",
              "      <td>.328</td>\n",
              "      <td>.423</td>\n",
              "      <td>.751</td>\n",
              "      <td>8</td>\n",
              "      <td>9</td>\n",
              "      <td>L</td>\n",
              "      <td>A.Pettitte (57)</td>\n",
              "      <td>2010</td>\n",
              "      <td>2010 Apr 7</td>\n",
              "    </tr>\n",
              "    <tr>\n",
              "      <th>3</th>\n",
              "      <td>4</td>\n",
              "      <td>4.0</td>\n",
              "      <td>Apr 9</td>\n",
              "      <td>@</td>\n",
              "      <td>KCR</td>\n",
              "      <td>L,3-4</td>\n",
              "      <td>38</td>\n",
              "      <td>33</td>\n",
              "      <td>3</td>\n",
              "      <td>9</td>\n",
              "      <td>...</td>\n",
              "      <td>.270</td>\n",
              "      <td>.333</td>\n",
              "      <td>.423</td>\n",
              "      <td>.757</td>\n",
              "      <td>8</td>\n",
              "      <td>10</td>\n",
              "      <td>R</td>\n",
              "      <td>K.Davies (50)</td>\n",
              "      <td>2010</td>\n",
              "      <td>2010 Apr 9</td>\n",
              "    </tr>\n",
              "    <tr>\n",
              "      <th>4</th>\n",
              "      <td>5</td>\n",
              "      <td>5.0</td>\n",
              "      <td>Apr 10</td>\n",
              "      <td>@</td>\n",
              "      <td>KCR</td>\n",
              "      <td>W,8-3</td>\n",
              "      <td>40</td>\n",
              "      <td>37</td>\n",
              "      <td>8</td>\n",
              "      <td>12</td>\n",
              "      <td>...</td>\n",
              "      <td>.282</td>\n",
              "      <td>.337</td>\n",
              "      <td>.494</td>\n",
              "      <td>.831</td>\n",
              "      <td>5</td>\n",
              "      <td>11</td>\n",
              "      <td>R</td>\n",
              "      <td>Z.Greinke (47)</td>\n",
              "      <td>2010</td>\n",
              "      <td>2010 Apr 10</td>\n",
              "    </tr>\n",
              "  </tbody>\n",
              "</table>\n",
              "<p>5 rows × 34 columns</p>\n",
              "</div>"
            ],
            "text/plain": [
              "  Rk  Gtm    Date Unnamed: 3  Opp   Rslt  PA  AB  R   H     ...         BA  \\\n",
              "0  1  1.0   Apr 4        NaN  NYY  W,9-7  39  34  9  12     ...       .353   \n",
              "1  2  2.0   Apr 6        NaN  NYY  L,4-6  38  35  4   9     ...       .304   \n",
              "2  3  3.0   Apr 7        NaN  NYY  L,1-3  39  35  1   7     ...       .269   \n",
              "3  4  4.0   Apr 9          @  KCR  L,3-4  38  33  3   9     ...       .270   \n",
              "4  5  5.0  Apr 10          @  KCR  W,8-3  40  37  8  12     ...       .282   \n",
              "\n",
              "    OBP   SLG   OPS LOB   # Thr Opp. Starter (GmeSc)  year         time  \n",
              "0  .410  .588  .998   6   9   L      C.Sabathia (38)  2010   2010 Apr 4  \n",
              "1  .351  .507  .858   7   9   R       A.Burnett (43)  2010   2010 Apr 6  \n",
              "2  .328  .423  .751   8   9   L      A.Pettitte (57)  2010   2010 Apr 7  \n",
              "3  .333  .423  .757   8  10   R        K.Davies (50)  2010   2010 Apr 9  \n",
              "4  .337  .494  .831   5  11   R       Z.Greinke (47)  2010  2010 Apr 10  \n",
              "\n",
              "[5 rows x 34 columns]"
            ]
          },
          "metadata": {
            "tags": []
          },
          "execution_count": 7
        }
      ]
    },
    {
      "cell_type": "code",
      "metadata": {
        "scrolled": false,
        "id": "GSPyKdKcyOcN",
        "colab_type": "code",
        "colab": {},
        "outputId": "dd5cf043-f835-4ccb-ffdb-ac70727ca128"
      },
      "source": [
        "# list out all column names\n",
        "\n",
        "bos.columns"
      ],
      "execution_count": 0,
      "outputs": [
        {
          "output_type": "execute_result",
          "data": {
            "text/plain": [
              "Index(['Rk', 'Gtm', 'Date', 'Unnamed: 3', 'Opp', 'Rslt', 'PA', 'AB', 'R', 'H',\n",
              "       '2B', '3B', 'HR', 'RBI', 'BB', 'IBB', 'SO', 'HBP', 'SH', 'SF', 'ROE',\n",
              "       'GDP', 'SB', 'CS', 'BA', 'OBP', 'SLG', 'OPS', 'LOB', '#', 'Thr',\n",
              "       'Opp. Starter (GmeSc)', 'year', 'time'],\n",
              "      dtype='object')"
            ]
          },
          "metadata": {
            "tags": []
          },
          "execution_count": 8
        }
      ]
    },
    {
      "cell_type": "code",
      "metadata": {
        "id": "pkc26UFYyOcR",
        "colab_type": "code",
        "colab": {},
        "outputId": "75dd7b3f-f0a1-44a2-c97a-240e1d6c60fe"
      },
      "source": [
        "# calculate 'Steal Base Percentage' with 'SB' and 'CS'\n",
        "\n",
        "bos['SBP'] = bos['SB'].astype(int) / (bos['SB'].astype(int) + bos['CS'].astype(int))\n",
        "bos['SBP'].fillna(0, inplace=True)\n",
        "bos[['SBP', 'SB', 'CS']].head()"
      ],
      "execution_count": 0,
      "outputs": [
        {
          "output_type": "execute_result",
          "data": {
            "text/html": [
              "<div>\n",
              "<style scoped>\n",
              "    .dataframe tbody tr th:only-of-type {\n",
              "        vertical-align: middle;\n",
              "    }\n",
              "\n",
              "    .dataframe tbody tr th {\n",
              "        vertical-align: top;\n",
              "    }\n",
              "\n",
              "    .dataframe thead th {\n",
              "        text-align: right;\n",
              "    }\n",
              "</style>\n",
              "<table border=\"1\" class=\"dataframe\">\n",
              "  <thead>\n",
              "    <tr style=\"text-align: right;\">\n",
              "      <th></th>\n",
              "      <th>SBP</th>\n",
              "      <th>SB</th>\n",
              "      <th>CS</th>\n",
              "    </tr>\n",
              "  </thead>\n",
              "  <tbody>\n",
              "    <tr>\n",
              "      <th>0</th>\n",
              "      <td>0.0</td>\n",
              "      <td>0</td>\n",
              "      <td>0</td>\n",
              "    </tr>\n",
              "    <tr>\n",
              "      <th>1</th>\n",
              "      <td>1.0</td>\n",
              "      <td>2</td>\n",
              "      <td>0</td>\n",
              "    </tr>\n",
              "    <tr>\n",
              "      <th>2</th>\n",
              "      <td>0.0</td>\n",
              "      <td>0</td>\n",
              "      <td>0</td>\n",
              "    </tr>\n",
              "    <tr>\n",
              "      <th>3</th>\n",
              "      <td>0.0</td>\n",
              "      <td>0</td>\n",
              "      <td>1</td>\n",
              "    </tr>\n",
              "    <tr>\n",
              "      <th>4</th>\n",
              "      <td>1.0</td>\n",
              "      <td>1</td>\n",
              "      <td>0</td>\n",
              "    </tr>\n",
              "  </tbody>\n",
              "</table>\n",
              "</div>"
            ],
            "text/plain": [
              "   SBP SB CS\n",
              "0  0.0  0  0\n",
              "1  1.0  2  0\n",
              "2  0.0  0  0\n",
              "3  0.0  0  1\n",
              "4  1.0  1  0"
            ]
          },
          "metadata": {
            "tags": []
          },
          "execution_count": 9
        }
      ]
    },
    {
      "cell_type": "code",
      "metadata": {
        "id": "GjQTwEQQyOcU",
        "colab_type": "code",
        "colab": {}
      },
      "source": [
        "# create HomeGame dummy data:\n",
        "# 0 = home\n",
        "# 1 = away\n",
        "\n",
        "bos['ifHome'] = bos.iloc[:,3].apply(lambda x: 1 if x== '@' else 0)"
      ],
      "execution_count": 0,
      "outputs": []
    },
    {
      "cell_type": "code",
      "metadata": {
        "id": "p8ZypWa3yOcX",
        "colab_type": "code",
        "colab": {}
      },
      "source": [
        "# create WL, BostonScore, OpponentScore column\n",
        "\n",
        "Rslt_split = bos.Rslt.str.replace(',', '-', regex = False).str.split('-', expand=True)\n",
        "bos['WL'] = Rslt_split.iloc[:,0].map({'W': 1, 'L':0})\n",
        "bos['BScore'] = Rslt_split.iloc[:,1]\n",
        "bos['OScore'] = Rslt_split.iloc[:,2]"
      ],
      "execution_count": 0,
      "outputs": []
    },
    {
      "cell_type": "code",
      "metadata": {
        "id": "kCbT_viyyOcb",
        "colab_type": "code",
        "colab": {}
      },
      "source": [
        "# filter out wanted sub data set\n",
        "\n",
        "sub_bos = bos[['year','time','ifHome','Opp','WL','BScore','OScore','BA','SBP','OBP','SLG','OPS','LOB','GDP']]\n",
        "sub_bos.columns = ['Year','Time','HomeGame','Opponent','WL','BScore','OScore','BA','SBP','OBP','SLG','OPS','LOB','GDP']"
      ],
      "execution_count": 0,
      "outputs": []
    },
    {
      "cell_type": "code",
      "metadata": {
        "scrolled": false,
        "id": "B6Kvd7MNyOcf",
        "colab_type": "code",
        "colab": {},
        "outputId": "fad2ee3b-23a2-42d4-a98c-7ec4f1a41a44"
      },
      "source": [
        "# convert data type of score to int, then caluculte score difference\n",
        "\n",
        "sub_bos['OScore'].astype(int)\n",
        "sub_bos['BScore'].astype(int)\n",
        "sub_bos['Diff'] = sub_bos['BScore'].astype(int) - sub_bos['OScore'].astype(int)\n",
        "sub_bos.head()"
      ],
      "execution_count": 0,
      "outputs": [
        {
          "output_type": "stream",
          "text": [
            "/Users/lvziqing/anaconda3/lib/python3.6/site-packages/ipykernel_launcher.py:5: SettingWithCopyWarning: \n",
            "A value is trying to be set on a copy of a slice from a DataFrame.\n",
            "Try using .loc[row_indexer,col_indexer] = value instead\n",
            "\n",
            "See the caveats in the documentation: http://pandas.pydata.org/pandas-docs/stable/indexing.html#indexing-view-versus-copy\n",
            "  \"\"\"\n"
          ],
          "name": "stderr"
        },
        {
          "output_type": "execute_result",
          "data": {
            "text/html": [
              "<div>\n",
              "<style scoped>\n",
              "    .dataframe tbody tr th:only-of-type {\n",
              "        vertical-align: middle;\n",
              "    }\n",
              "\n",
              "    .dataframe tbody tr th {\n",
              "        vertical-align: top;\n",
              "    }\n",
              "\n",
              "    .dataframe thead th {\n",
              "        text-align: right;\n",
              "    }\n",
              "</style>\n",
              "<table border=\"1\" class=\"dataframe\">\n",
              "  <thead>\n",
              "    <tr style=\"text-align: right;\">\n",
              "      <th></th>\n",
              "      <th>Year</th>\n",
              "      <th>Time</th>\n",
              "      <th>HomeGame</th>\n",
              "      <th>Opponent</th>\n",
              "      <th>WL</th>\n",
              "      <th>BScore</th>\n",
              "      <th>OScore</th>\n",
              "      <th>BA</th>\n",
              "      <th>SBP</th>\n",
              "      <th>OBP</th>\n",
              "      <th>SLG</th>\n",
              "      <th>OPS</th>\n",
              "      <th>LOB</th>\n",
              "      <th>GDP</th>\n",
              "      <th>Diff</th>\n",
              "    </tr>\n",
              "  </thead>\n",
              "  <tbody>\n",
              "    <tr>\n",
              "      <th>0</th>\n",
              "      <td>2010</td>\n",
              "      <td>2010 Apr 4</td>\n",
              "      <td>0</td>\n",
              "      <td>NYY</td>\n",
              "      <td>1</td>\n",
              "      <td>9</td>\n",
              "      <td>7</td>\n",
              "      <td>.353</td>\n",
              "      <td>0.0</td>\n",
              "      <td>.410</td>\n",
              "      <td>.588</td>\n",
              "      <td>.998</td>\n",
              "      <td>6</td>\n",
              "      <td>0</td>\n",
              "      <td>2</td>\n",
              "    </tr>\n",
              "    <tr>\n",
              "      <th>1</th>\n",
              "      <td>2010</td>\n",
              "      <td>2010 Apr 6</td>\n",
              "      <td>0</td>\n",
              "      <td>NYY</td>\n",
              "      <td>0</td>\n",
              "      <td>4</td>\n",
              "      <td>6</td>\n",
              "      <td>.304</td>\n",
              "      <td>1.0</td>\n",
              "      <td>.351</td>\n",
              "      <td>.507</td>\n",
              "      <td>.858</td>\n",
              "      <td>7</td>\n",
              "      <td>1</td>\n",
              "      <td>-2</td>\n",
              "    </tr>\n",
              "    <tr>\n",
              "      <th>2</th>\n",
              "      <td>2010</td>\n",
              "      <td>2010 Apr 7</td>\n",
              "      <td>0</td>\n",
              "      <td>NYY</td>\n",
              "      <td>0</td>\n",
              "      <td>1</td>\n",
              "      <td>3</td>\n",
              "      <td>.269</td>\n",
              "      <td>0.0</td>\n",
              "      <td>.328</td>\n",
              "      <td>.423</td>\n",
              "      <td>.751</td>\n",
              "      <td>8</td>\n",
              "      <td>2</td>\n",
              "      <td>-2</td>\n",
              "    </tr>\n",
              "    <tr>\n",
              "      <th>3</th>\n",
              "      <td>2010</td>\n",
              "      <td>2010 Apr 9</td>\n",
              "      <td>1</td>\n",
              "      <td>KCR</td>\n",
              "      <td>0</td>\n",
              "      <td>3</td>\n",
              "      <td>4</td>\n",
              "      <td>.270</td>\n",
              "      <td>0.0</td>\n",
              "      <td>.333</td>\n",
              "      <td>.423</td>\n",
              "      <td>.757</td>\n",
              "      <td>8</td>\n",
              "      <td>1</td>\n",
              "      <td>-1</td>\n",
              "    </tr>\n",
              "    <tr>\n",
              "      <th>4</th>\n",
              "      <td>2010</td>\n",
              "      <td>2010 Apr 10</td>\n",
              "      <td>1</td>\n",
              "      <td>KCR</td>\n",
              "      <td>1</td>\n",
              "      <td>8</td>\n",
              "      <td>3</td>\n",
              "      <td>.282</td>\n",
              "      <td>1.0</td>\n",
              "      <td>.337</td>\n",
              "      <td>.494</td>\n",
              "      <td>.831</td>\n",
              "      <td>5</td>\n",
              "      <td>1</td>\n",
              "      <td>5</td>\n",
              "    </tr>\n",
              "  </tbody>\n",
              "</table>\n",
              "</div>"
            ],
            "text/plain": [
              "   Year         Time  HomeGame Opponent  WL BScore OScore    BA  SBP   OBP  \\\n",
              "0  2010   2010 Apr 4         0      NYY   1      9      7  .353  0.0  .410   \n",
              "1  2010   2010 Apr 6         0      NYY   0      4      6  .304  1.0  .351   \n",
              "2  2010   2010 Apr 7         0      NYY   0      1      3  .269  0.0  .328   \n",
              "3  2010   2010 Apr 9         1      KCR   0      3      4  .270  0.0  .333   \n",
              "4  2010  2010 Apr 10         1      KCR   1      8      3  .282  1.0  .337   \n",
              "\n",
              "    SLG   OPS LOB GDP  Diff  \n",
              "0  .588  .998   6   0     2  \n",
              "1  .507  .858   7   1    -2  \n",
              "2  .423  .751   8   2    -2  \n",
              "3  .423  .757   8   1    -1  \n",
              "4  .494  .831   5   1     5  "
            ]
          },
          "metadata": {
            "tags": []
          },
          "execution_count": 13
        }
      ]
    },
    {
      "cell_type": "code",
      "metadata": {
        "id": "-VPgGgiAyOci",
        "colab_type": "code",
        "colab": {}
      },
      "source": [
        "# save sub dataframe\n",
        "\n",
        "sub_bos.to_csv('sub_bos.csv')"
      ],
      "execution_count": 0,
      "outputs": []
    },
    {
      "cell_type": "markdown",
      "metadata": {
        "id": "n9wdHpQbyOcl",
        "colab_type": "text"
      },
      "source": [
        "#### 3.Load Data"
      ]
    },
    {
      "cell_type": "code",
      "metadata": {
        "id": "Xfw-bPLZyOcm",
        "colab_type": "code",
        "colab": {},
        "outputId": "3925958f-1715-42ac-d84d-637d5a261abe"
      },
      "source": [
        "sub_bos = pd.read_csv('sub_bos.csv', index_col=0)\n",
        "sub_bos.head()"
      ],
      "execution_count": 0,
      "outputs": [
        {
          "output_type": "execute_result",
          "data": {
            "text/html": [
              "<div>\n",
              "<style scoped>\n",
              "    .dataframe tbody tr th:only-of-type {\n",
              "        vertical-align: middle;\n",
              "    }\n",
              "\n",
              "    .dataframe tbody tr th {\n",
              "        vertical-align: top;\n",
              "    }\n",
              "\n",
              "    .dataframe thead th {\n",
              "        text-align: right;\n",
              "    }\n",
              "</style>\n",
              "<table border=\"1\" class=\"dataframe\">\n",
              "  <thead>\n",
              "    <tr style=\"text-align: right;\">\n",
              "      <th></th>\n",
              "      <th>Year</th>\n",
              "      <th>Time</th>\n",
              "      <th>HomeGame</th>\n",
              "      <th>Opponent</th>\n",
              "      <th>WL</th>\n",
              "      <th>BScore</th>\n",
              "      <th>OScore</th>\n",
              "      <th>BA</th>\n",
              "      <th>SBP</th>\n",
              "      <th>OBP</th>\n",
              "      <th>SLG</th>\n",
              "      <th>OPS</th>\n",
              "      <th>LOB</th>\n",
              "      <th>GDP</th>\n",
              "      <th>Diff</th>\n",
              "    </tr>\n",
              "  </thead>\n",
              "  <tbody>\n",
              "    <tr>\n",
              "      <th>0</th>\n",
              "      <td>2010</td>\n",
              "      <td>2010 Apr 4</td>\n",
              "      <td>0</td>\n",
              "      <td>NYY</td>\n",
              "      <td>1</td>\n",
              "      <td>9</td>\n",
              "      <td>7</td>\n",
              "      <td>0.353</td>\n",
              "      <td>0.0</td>\n",
              "      <td>0.410</td>\n",
              "      <td>0.588</td>\n",
              "      <td>0.998</td>\n",
              "      <td>6</td>\n",
              "      <td>0</td>\n",
              "      <td>2</td>\n",
              "    </tr>\n",
              "    <tr>\n",
              "      <th>1</th>\n",
              "      <td>2010</td>\n",
              "      <td>2010 Apr 6</td>\n",
              "      <td>0</td>\n",
              "      <td>NYY</td>\n",
              "      <td>0</td>\n",
              "      <td>4</td>\n",
              "      <td>6</td>\n",
              "      <td>0.304</td>\n",
              "      <td>1.0</td>\n",
              "      <td>0.351</td>\n",
              "      <td>0.507</td>\n",
              "      <td>0.858</td>\n",
              "      <td>7</td>\n",
              "      <td>1</td>\n",
              "      <td>-2</td>\n",
              "    </tr>\n",
              "    <tr>\n",
              "      <th>2</th>\n",
              "      <td>2010</td>\n",
              "      <td>2010 Apr 7</td>\n",
              "      <td>0</td>\n",
              "      <td>NYY</td>\n",
              "      <td>0</td>\n",
              "      <td>1</td>\n",
              "      <td>3</td>\n",
              "      <td>0.269</td>\n",
              "      <td>0.0</td>\n",
              "      <td>0.328</td>\n",
              "      <td>0.423</td>\n",
              "      <td>0.751</td>\n",
              "      <td>8</td>\n",
              "      <td>2</td>\n",
              "      <td>-2</td>\n",
              "    </tr>\n",
              "    <tr>\n",
              "      <th>3</th>\n",
              "      <td>2010</td>\n",
              "      <td>2010 Apr 9</td>\n",
              "      <td>1</td>\n",
              "      <td>KCR</td>\n",
              "      <td>0</td>\n",
              "      <td>3</td>\n",
              "      <td>4</td>\n",
              "      <td>0.270</td>\n",
              "      <td>0.0</td>\n",
              "      <td>0.333</td>\n",
              "      <td>0.423</td>\n",
              "      <td>0.757</td>\n",
              "      <td>8</td>\n",
              "      <td>1</td>\n",
              "      <td>-1</td>\n",
              "    </tr>\n",
              "    <tr>\n",
              "      <th>4</th>\n",
              "      <td>2010</td>\n",
              "      <td>2010 Apr 10</td>\n",
              "      <td>1</td>\n",
              "      <td>KCR</td>\n",
              "      <td>1</td>\n",
              "      <td>8</td>\n",
              "      <td>3</td>\n",
              "      <td>0.282</td>\n",
              "      <td>1.0</td>\n",
              "      <td>0.337</td>\n",
              "      <td>0.494</td>\n",
              "      <td>0.831</td>\n",
              "      <td>5</td>\n",
              "      <td>1</td>\n",
              "      <td>5</td>\n",
              "    </tr>\n",
              "  </tbody>\n",
              "</table>\n",
              "</div>"
            ],
            "text/plain": [
              "   Year         Time  HomeGame Opponent  WL  BScore  OScore     BA  SBP  \\\n",
              "0  2010   2010 Apr 4         0      NYY   1       9       7  0.353  0.0   \n",
              "1  2010   2010 Apr 6         0      NYY   0       4       6  0.304  1.0   \n",
              "2  2010   2010 Apr 7         0      NYY   0       1       3  0.269  0.0   \n",
              "3  2010   2010 Apr 9         1      KCR   0       3       4  0.270  0.0   \n",
              "4  2010  2010 Apr 10         1      KCR   1       8       3  0.282  1.0   \n",
              "\n",
              "     OBP    SLG    OPS  LOB  GDP  Diff  \n",
              "0  0.410  0.588  0.998    6    0     2  \n",
              "1  0.351  0.507  0.858    7    1    -2  \n",
              "2  0.328  0.423  0.751    8    2    -2  \n",
              "3  0.333  0.423  0.757    8    1    -1  \n",
              "4  0.337  0.494  0.831    5    1     5  "
            ]
          },
          "metadata": {
            "tags": []
          },
          "execution_count": 15
        }
      ]
    },
    {
      "cell_type": "markdown",
      "metadata": {
        "id": "F-qn1y0qyOcp",
        "colab_type": "text"
      },
      "source": [
        "#### 4. Modeling"
      ]
    },
    {
      "cell_type": "markdown",
      "metadata": {
        "id": "rzZ9P39AyOcq",
        "colab_type": "text"
      },
      "source": [
        "#### Model Set-up:"
      ]
    },
    {
      "cell_type": "markdown",
      "metadata": {
        "id": "sj5xPPMWyOcq",
        "colab_type": "text"
      },
      "source": [
        "1. As data fact is binary - win or lose, we use Bernoulli distribution for the model\n",
        "\n",
        "2. We assume a (lineaer) regression model for predicting the latent winning probability of the game. Potential influencing factors are __SBP, OBP, SLG, LOB, GDP, HomeGame, bias__\n",
        "\n",
        "3. Since $p$ is constrained to be between zero and one, we transformed the linear function to numbers within 0~1 using invers logit b0 + b1*sbp + b2*obp + b3*slg + b4*lob + b5*gdp + b6*homeGame\n",
        "\n",
        "    * $p_i = Inverslogit ( \\beta_0 + \\beta_1 * \\text{SBP} + \\beta_2 * \\text{OBP}\n",
        "\\beta_3 * \\text{SLG} + \\beta_4 * \\text{LOB} + \\beta_5 * \\text{GDP} + \\beta_6 * \\text{homeGame})$\n",
        "\n",
        "    * $\\beta_0$ is intercept here, $\\beta_6$ is the coefficient evaluates how home game will affect the result\n",
        "\n",
        "\n",
        "4. since we have 1500 games data, based on CLT, we choose Normal distibution for coefficients"
      ]
    },
    {
      "cell_type": "code",
      "metadata": {
        "id": "kRq_X37jyOcr",
        "colab_type": "code",
        "colab": {}
      },
      "source": [
        "# set variable we want to use in model, and covert data type of each value to target\n",
        "\n",
        "sbp = sub_bos.SBP.values.astype(float)\n",
        "obp = sub_bos.OBP.values.astype(float)\n",
        "slg = sub_bos.SLG.values.astype(float)\n",
        "lob = sub_bos.LOB.values.astype(float)\n",
        "gdp = sub_bos.GDP.values.astype(float)\n",
        "wl = sub_bos.WL.values.astype(int)\n",
        "homeGame = sub_bos.HomeGame.values"
      ],
      "execution_count": 0,
      "outputs": []
    },
    {
      "cell_type": "code",
      "metadata": {
        "id": "pI2Z8hLVyOcu",
        "colab_type": "code",
        "colab": {}
      },
      "source": [
        "# import necessary packages\n",
        "from pymc3 import Bernoulli, Normal, sample, Deterministic, Model"
      ],
      "execution_count": 0,
      "outputs": []
    },
    {
      "cell_type": "code",
      "metadata": {
        "id": "eOw5L9S_yOcx",
        "colab_type": "code",
        "colab": {}
      },
      "source": [
        "# set parameters and deterministics of model\n",
        "\n",
        "with pm.Model() as wl_model:\n",
        "    b0 = Normal('b0', 0, sd=100)\n",
        "    b1 = Normal('b1', 0, sd=100)\n",
        "    b2 = Normal('b2', 0, sd=100)\n",
        "    b3 = Normal('b3', 0, sd=100)\n",
        "    b4 = Normal('b4', 0, sd=100)\n",
        "    b5 = Normal('b5', 0, sd=100)\n",
        "    b6 = Normal('b6', 0, sd=100)\n",
        "    \n",
        "    intercept_d = Deterministic('intercept_d', b0)\n",
        "    sbp_d = Deterministic('sbp_d', b1)\n",
        "    obp_d = Deterministic('obp_d', b2)\n",
        "    slg_d = Deterministic('slg_d', b3)\n",
        "    lob_d = Deterministic('lob_d', b4)\n",
        "    gdp_d = Deterministic('gdp_d', b5)\n",
        "    homeGame_d = Deterministic('homeGame_d', b6)"
      ],
      "execution_count": 0,
      "outputs": []
    },
    {
      "cell_type": "code",
      "metadata": {
        "id": "joREoAr5yOc2",
        "colab_type": "code",
        "colab": {}
      },
      "source": [
        "# set equition of p for Bernoulli, use invlogit to convert value falling into (0,1)\n",
        "\n",
        "from pymc3.math import invlogit\n",
        "\n",
        "with wl_model:        \n",
        "    p = invlogit(b0 + b1*sbp + b2*obp + b3*slg + b4*lob + b5*gdp + b6*homeGame)"
      ],
      "execution_count": 0,
      "outputs": []
    },
    {
      "cell_type": "code",
      "metadata": {
        "id": "5PU0W_cIyOc_",
        "colab_type": "code",
        "colab": {}
      },
      "source": [
        "# set likehood as Bernoulli distribution, with calculated p\n",
        "\n",
        "with wl_model:\n",
        "    wl_like = Bernoulli('wl_like', p=p, observed=wl)"
      ],
      "execution_count": 0,
      "outputs": []
    },
    {
      "cell_type": "code",
      "metadata": {
        "scrolled": true,
        "id": "RORJiaJbyOdC",
        "colab_type": "code",
        "colab": {},
        "outputId": "4d59e022-9802-4095-e396-7f3057799676"
      },
      "source": [
        "# draw samples with model\n",
        "\n",
        "with wl_model:\n",
        "    wl_sample = sample(1000, random_seed=RANDOM_SEED)"
      ],
      "execution_count": 0,
      "outputs": [
        {
          "output_type": "stream",
          "text": [
            "Auto-assigning NUTS sampler...\n",
            "Initializing NUTS using jitter+adapt_diag...\n",
            "Multiprocess sampling (2 chains in 2 jobs)\n",
            "NUTS: [homeGame_d, gdp_d, lob_d, slg_d, obp_d, sbp_d, intercept_d]\n",
            "Sampling 2 chains: 100%|██████████| 3000/3000 [01:35<00:00, 31.31draws/s]\n"
          ],
          "name": "stderr"
        }
      ]
    },
    {
      "cell_type": "code",
      "metadata": {
        "id": "inkTpPb0yOdI",
        "colab_type": "code",
        "colab": {},
        "outputId": "65ec3ca4-f9b2-4377-ee80-2dfca9886936"
      },
      "source": [
        "# plost posterior\n",
        "\n",
        "from pymc3 import plot_posterior\n",
        "\n",
        "plot_posterior(wl_sample[100:])"
      ],
      "execution_count": 0,
      "outputs": [
        {
          "output_type": "execute_result",
          "data": {
            "text/plain": [
              "array([<matplotlib.axes._subplots.AxesSubplot object at 0x1c16a61a58>,\n",
              "       <matplotlib.axes._subplots.AxesSubplot object at 0x1c1a4e4cf8>,\n",
              "       <matplotlib.axes._subplots.AxesSubplot object at 0x1c1a50afd0>,\n",
              "       <matplotlib.axes._subplots.AxesSubplot object at 0x1c1a5382e8>,\n",
              "       <matplotlib.axes._subplots.AxesSubplot object at 0x1c1a5635f8>,\n",
              "       <matplotlib.axes._subplots.AxesSubplot object at 0x1c1a582630>,\n",
              "       <matplotlib.axes._subplots.AxesSubplot object at 0x1c1a5a6908>],\n",
              "      dtype=object)"
            ]
          },
          "metadata": {
            "tags": []
          },
          "execution_count": 22
        },
        {
          "output_type": "display_data",
          "data": {
            "image/png": "[encoded data removed]",
            "text/plain": [
              "<Figure size 864x720 with 8 Axes>"
            ]
          },
          "metadata": {
            "tags": []
          }
        }
      ]
    },
    {
      "cell_type": "markdown",
      "metadata": {
        "id": "7ndYaRr5yOdL",
        "colab_type": "text"
      },
      "source": [
        "#### 5. Check Model Fit"
      ]
    },
    {
      "cell_type": "code",
      "metadata": {
        "id": "roMbX_-OyOdN",
        "colab_type": "code",
        "colab": {},
        "outputId": "22279645-66c9-4351-d0b8-6fa340f6bef0"
      },
      "source": [
        "# using ppc to check model fit\n",
        "\n",
        "from pymc3 import sample_ppc\n",
        "\n",
        "with wl_model:\n",
        "    wl_ppc = sample_ppc(wl_sample)"
      ],
      "execution_count": 0,
      "outputs": [
        {
          "output_type": "stream",
          "text": [
            "100%|██████████| 1000/1000 [00:01<00:00, 845.12it/s]\n"
          ],
          "name": "stderr"
        }
      ]
    },
    {
      "cell_type": "code",
      "metadata": {
        "id": "NXxJIJluyOdQ",
        "colab_type": "code",
        "colab": {},
        "outputId": "b51367e1-fc0f-4aa7-fe61-708ea055eec3"
      },
      "source": [
        "# calculate actual winning percentage\n",
        "\n",
        "win_p_actual = sub_bos['WL'].mean()\n",
        "win_p_actual"
      ],
      "execution_count": 0,
      "outputs": [
        {
          "output_type": "execute_result",
          "data": {
            "text/plain": [
              "0.5404663923182441"
            ]
          },
          "metadata": {
            "tags": []
          },
          "execution_count": 24
        }
      ]
    },
    {
      "cell_type": "code",
      "metadata": {
        "scrolled": true,
        "id": "PlmG1j7cyOdT",
        "colab_type": "code",
        "colab": {},
        "outputId": "d85d3d2f-a56f-4167-e562-4e632ae5fff9"
      },
      "source": [
        "# calculate estimated winning percentage\n",
        "# fit well, Give Me Five!\n",
        "\n",
        "wl_ppc['wl_like'].mean()"
      ],
      "execution_count": 0,
      "outputs": [
        {
          "output_type": "execute_result",
          "data": {
            "text/plain": [
              "0.5405507544581619"
            ]
          },
          "metadata": {
            "tags": []
          },
          "execution_count": 25
        }
      ]
    },
    {
      "cell_type": "markdown",
      "metadata": {
        "id": "qtLawb2NyOdW",
        "colab_type": "text"
      },
      "source": [
        "#### 6. Simulation"
      ]
    },
    {
      "cell_type": "code",
      "metadata": {
        "id": "4BnNKvG1yOdX",
        "colab_type": "code",
        "colab": {}
      },
      "source": [
        "# import visualization packages for simulation\n",
        "\n",
        "from IPython import display\n",
        "from ipywidgets import interact, widgets\n",
        "\n",
        "import random\n",
        "random.seed(RANDOM_SEED)"
      ],
      "execution_count": 0,
      "outputs": []
    },
    {
      "cell_type": "code",
      "metadata": {
        "id": "Kxluck1CyOdZ",
        "colab_type": "code",
        "colab": {}
      },
      "source": [
        "# define a simulation function allowing adjustment of model variables\n",
        "\n",
        "p_actual = pd.DataFrame(sub_bos.groupby(['Year'])['WL'].mean()).reset_index()\n",
        "p_actual.columns = ['Year','Winning Probability']\n",
        "p_actual_total = sub_bos.WL.mean()\n",
        "\n",
        "def simulation(homeGame = 0,\n",
        "               adjSBP = 0,\n",
        "               adjOBP = 0, \n",
        "               adjSLG = 0,\n",
        "               adjLOB = 0,\n",
        "               adjGDP = 0):\n",
        "    \n",
        "    p_b = invlogit(   wl_sample['sbp_d'].mean() * sbp * (1 + adjSBP)\n",
        "                    + wl_sample['obp_d'].mean() * obp * (1 + adjOBP)\n",
        "                    + wl_sample['slg_d'].mean() * slg * (1 + adjSLG)\n",
        "                    + wl_sample['lob_d'].mean() * lob * (1 + adjLOB)\n",
        "                    + wl_sample['gdp_d'].mean() * gdp * (1 + adjGDP)\n",
        "                    + wl_sample['homeGame_d'].mean() * homeGame\n",
        "                    + wl_sample['intercept_d'].mean())\n",
        "    \n",
        "    p_predict = Bernoulli.dist(p = p_b).random().mean()\n",
        "    \n",
        "    p_actual.loc[9] = {'Year': 'Prediction', 'Winning Probability':p_predict}\n",
        "    p_actual.plot.bar(  x = 'Year',\n",
        "                        y = 'Winning Probability',\n",
        "                        figsize=(8,6),    \n",
        "                        color = 'blue')\n",
        "    \n",
        "    plt.ylabel('Winning Probability')\n",
        "    plt.axis(ymin = 0, ymax=1)\n",
        "    plt.axhline(p_actual_total, c='coral')"
      ],
      "execution_count": 0,
      "outputs": []
    },
    {
      "cell_type": "code",
      "metadata": {
        "id": "OMAcg_-HyOdd",
        "colab_type": "code",
        "colab": {},
        "outputId": "cca02a8e-fa62-43b2-8f98-40f63b046f8e"
      },
      "source": [
        "# plot each years' winning percentage, and the simulation of 2019\n",
        "# with scale slider for key parameters to play with\n",
        "\n",
        "interact(simulation, \n",
        "         homeGame = widgets.IntSlider(min=0, max=1, step=1),\n",
        "         adjSBP = widgets.FloatSlider(min=-0.5, max=0.5, step=0.1),\n",
        "         adjOBP = widgets.FloatSlider(min=-0.5, max=0.5, step=0.1),\n",
        "         adjSLG = widgets.FloatSlider(min=-0.5, max=0.5, step=0.1),\n",
        "         adjLOB = widgets.FloatSlider(min=-0.5, max=0.5, step=0.1),\n",
        "         adjGDP = widgets.FloatSlider(min=-0.5, max=0.5, step=0.1))"
      ],
      "execution_count": 0,
      "outputs": [
        {
          "output_type": "display_data",
          "data": {
            "application/vnd.jupyter.widget-view+json": {
              "model_id": "2210d5bb18b143bca8df0e29109d9fde",
              "version_major": 2,
              "version_minor": 0
            },
            "text/plain": [
              "interactive(children=(IntSlider(value=0, description='homeGame', max=1), FloatSlider(value=0.0, description='a…"
            ]
          },
          "metadata": {
            "tags": []
          }
        },
        {
          "output_type": "execute_result",
          "data": {
            "text/plain": [
              "<function __main__.simulation(homeGame=0, adjSBP=0, adjOBP=0, adjSLG=0, adjLOB=0, adjGDP=0)>"
            ]
          },
          "metadata": {
            "tags": []
          },
          "execution_count": 28
        }
      ]
    },
    {
      "cell_type": "code",
      "metadata": {
        "id": "q8NnlE7XyOdg",
        "colab_type": "code",
        "colab": {}
      },
      "source": [
        "p_b = invlogit(   wl_sample['sbp_d'].mean() * sbp\n",
        "                + wl_sample['obp_d'].mean() * obp\n",
        "                + wl_sample['lob_d'].mean() * lob\n",
        "                + wl_sample['slg_d'].mean() * slg\n",
        "                + wl_sample['gdp_d'].mean() * gdp\n",
        "                + wl_sample['homeGame_d'].mean() * homeGame\n",
        "                + wl_sample['intercept_d'].mean())\n",
        "    \n",
        "p_predict_static = Bernoulli.dist(p = p_b).random().mean()"
      ],
      "execution_count": 0,
      "outputs": []
    },
    {
      "cell_type": "code",
      "metadata": {
        "id": "x0KaxPJNyOdj",
        "colab_type": "code",
        "colab": {},
        "outputId": "8760621a-c9b1-4861-f295-9b1cb4d6387d"
      },
      "source": [
        "p_predict_static"
      ],
      "execution_count": 0,
      "outputs": [
        {
          "output_type": "execute_result",
          "data": {
            "text/plain": [
              "0.5425240054869684"
            ]
          },
          "metadata": {
            "tags": []
          },
          "execution_count": 30
        }
      ]
    },
    {
      "cell_type": "code",
      "metadata": {
        "id": "vvkOYbjXyOdl",
        "colab_type": "code",
        "colab": {}
      },
      "source": [
        "p_b_sbp = invlogit(   wl_sample['sbp_d'].mean() * sbp * (1 + 0.1)\n",
        "                    + wl_sample['obp_d'].mean() * obp\n",
        "                    + wl_sample['lob_d'].mean() * lob\n",
        "                    + wl_sample['slg_d'].mean() * slg\n",
        "                    + wl_sample['gdp_d'].mean() * gdp\n",
        "                    + wl_sample['homeGame_d'].mean() * homeGame\n",
        "                    + wl_sample['intercept_d'].mean())\n",
        "    \n",
        "p_predict_sbp = Bernoulli.dist(p = p_b_sbp).random().mean()"
      ],
      "execution_count": 0,
      "outputs": []
    },
    {
      "cell_type": "code",
      "metadata": {
        "scrolled": true,
        "id": "tQTYhhTWyOdo",
        "colab_type": "code",
        "colab": {},
        "outputId": "2bcae8f5-a1d9-424a-f9ac-5220d4c4f64d"
      },
      "source": [
        "p_predict_sbp - p_predict_static"
      ],
      "execution_count": 0,
      "outputs": [
        {
          "output_type": "execute_result",
          "data": {
            "text/plain": [
              "0.006172839506172867"
            ]
          },
          "metadata": {
            "tags": []
          },
          "execution_count": 32
        }
      ]
    },
    {
      "cell_type": "code",
      "metadata": {
        "id": "D9YWaOlqyOdq",
        "colab_type": "code",
        "colab": {}
      },
      "source": [
        "p_b_obp = invlogit(   wl_sample['sbp_d'].mean() * sbp\n",
        "                    + wl_sample['obp_d'].mean() * obp * (1 + 0.1)\n",
        "                    + wl_sample['lob_d'].mean() * lob\n",
        "                    + wl_sample['slg_d'].mean() * slg\n",
        "                    + wl_sample['gdp_d'].mean() * gdp\n",
        "                    + wl_sample['homeGame_d'].mean() * homeGame\n",
        "                    + wl_sample['intercept_d'].mean())\n",
        "    \n",
        "p_predict_obp = Bernoulli.dist(p = p_b_obp).random().mean()"
      ],
      "execution_count": 0,
      "outputs": []
    },
    {
      "cell_type": "code",
      "metadata": {
        "id": "Tcj8bKuRyOds",
        "colab_type": "code",
        "colab": {},
        "outputId": "942620f4-d16d-4b85-ed36-2787c3220344"
      },
      "source": [
        "p_predict_obp - p_predict_static"
      ],
      "execution_count": 0,
      "outputs": [
        {
          "output_type": "execute_result",
          "data": {
            "text/plain": [
              "0.15637860082304522"
            ]
          },
          "metadata": {
            "tags": []
          },
          "execution_count": 34
        }
      ]
    },
    {
      "cell_type": "code",
      "metadata": {
        "id": "jw_Z6g3byOdx",
        "colab_type": "code",
        "colab": {}
      },
      "source": [
        "p_b_slg = invlogit(   wl_sample['sbp_d'].mean() * sbp\n",
        "                    + wl_sample['obp_d'].mean() * obp\n",
        "                    + wl_sample['lob_d'].mean() * lob\n",
        "                    + wl_sample['slg_d'].mean() * slg * (1 + 0.1)\n",
        "                    + wl_sample['gdp_d'].mean() * gdp\n",
        "                    + wl_sample['homeGame_d'].mean() * homeGame\n",
        "                    + wl_sample['intercept_d'].mean())\n",
        "    \n",
        "p_predict_slg = Bernoulli.dist(p = p_b_slg).random().mean()"
      ],
      "execution_count": 0,
      "outputs": []
    },
    {
      "cell_type": "code",
      "metadata": {
        "id": "hgGgfCQHyOd1",
        "colab_type": "code",
        "colab": {},
        "outputId": "7d8ade73-ab10-44d7-e0ed-b61e88bf1b1a"
      },
      "source": [
        "p_predict_slg - p_predict_static"
      ],
      "execution_count": 0,
      "outputs": [
        {
          "output_type": "execute_result",
          "data": {
            "text/plain": [
              "0.010288065843621408"
            ]
          },
          "metadata": {
            "tags": []
          },
          "execution_count": 36
        }
      ]
    },
    {
      "cell_type": "code",
      "metadata": {
        "id": "a6WqeoJCyOd5",
        "colab_type": "code",
        "colab": {}
      },
      "source": [
        "p_b_lob = invlogit(   wl_sample['sbp_d'].mean() * sbp\n",
        "                    + wl_sample['obp_d'].mean() * obp\n",
        "                    + wl_sample['lob_d'].mean() * lob * (1 + 0.1)\n",
        "                    + wl_sample['slg_d'].mean() * slg\n",
        "                    + wl_sample['gdp_d'].mean() * gdp\n",
        "                    + wl_sample['homeGame_d'].mean() * homeGame\n",
        "                    + wl_sample['intercept_d'].mean())\n",
        "    \n",
        "p_predict_lob = Bernoulli.dist(p = p_b_lob).random().mean()"
      ],
      "execution_count": 0,
      "outputs": []
    },
    {
      "cell_type": "code",
      "metadata": {
        "id": "fRLGRkt6yOd8",
        "colab_type": "code",
        "colab": {},
        "outputId": "483c39d3-9a05-4d97-d866-205c6d5242a1"
      },
      "source": [
        "p_predict_lob - p_predict_static"
      ],
      "execution_count": 0,
      "outputs": [
        {
          "output_type": "execute_result",
          "data": {
            "text/plain": [
              "0.004801097393689946"
            ]
          },
          "metadata": {
            "tags": []
          },
          "execution_count": 38
        }
      ]
    },
    {
      "cell_type": "code",
      "metadata": {
        "id": "0sH9k3WSyOeA",
        "colab_type": "code",
        "colab": {}
      },
      "source": [
        "p_b_gdp = invlogit(   wl_sample['sbp_d'].mean() * sbp\n",
        "                    + wl_sample['obp_d'].mean() * obp\n",
        "                    + wl_sample['lob_d'].mean() * lob\n",
        "                    + wl_sample['slg_d'].mean() * slg\n",
        "                    + wl_sample['gdp_d'].mean() * gdp * (1 + 0.1)\n",
        "                    + wl_sample['homeGame_d'].mean() * homeGame\n",
        "                    + wl_sample['intercept_d'].mean())\n",
        "    \n",
        "p_predict_gdp = Bernoulli.dist(p = p_b_gdp).random().mean()"
      ],
      "execution_count": 0,
      "outputs": []
    },
    {
      "cell_type": "code",
      "metadata": {
        "id": "ggecQeVpyOeE",
        "colab_type": "code",
        "colab": {},
        "outputId": "bfec4d22-52ac-41aa-e1c4-456ca48065c2"
      },
      "source": [
        "p_predict_gdp - p_predict_static"
      ],
      "execution_count": 0,
      "outputs": [
        {
          "output_type": "execute_result",
          "data": {
            "text/plain": [
              "0.027434842249657088"
            ]
          },
          "metadata": {
            "tags": []
          },
          "execution_count": 40
        }
      ]
    },
    {
      "cell_type": "code",
      "metadata": {
        "id": "-KlR1bBFyOeJ",
        "colab_type": "code",
        "colab": {}
      },
      "source": [
        "p_b_homeGame = invlogit(   wl_sample['sbp_d'].mean() * sbp\n",
        "                    + wl_sample['obp_d'].mean() * obp\n",
        "                    + wl_sample['lob_d'].mean() * lob\n",
        "                    + wl_sample['slg_d'].mean() * slg\n",
        "                    + wl_sample['gdp_d'].mean() * gdp\n",
        "                    + wl_sample['homeGame_d'].mean() * (homeGame - 5)\n",
        "                    + wl_sample['intercept_d'].mean())\n",
        "    \n",
        "p_predict_homeGame = Bernoulli.dist(p = p_b_homeGame).random().mean()"
      ],
      "execution_count": 0,
      "outputs": []
    },
    {
      "cell_type": "code",
      "metadata": {
        "id": "5jjbh3i0yOeP",
        "colab_type": "code",
        "colab": {},
        "outputId": "a6884f6c-45d7-45e8-e5b5-1cf4f069015d"
      },
      "source": [
        "p_predict_homeGame - p_predict_static"
      ],
      "execution_count": 0,
      "outputs": [
        {
          "output_type": "execute_result",
          "data": {
            "text/plain": [
              "0.16186556927297668"
            ]
          },
          "metadata": {
            "tags": []
          },
          "execution_count": 42
        }
      ]
    },
    {
      "cell_type": "markdown",
      "metadata": {
        "id": "tiauDJSTyOeW",
        "colab_type": "text"
      },
      "source": [
        "#### 7. Conclusion"
      ]
    },
    {
      "cell_type": "markdown",
      "metadata": {
        "id": "zR4Y5AqtyOeY",
        "colab_type": "text"
      },
      "source": [
        "__Based on Bayesian Inference of Boston Red Sox Game to Game Log (2010~2018):__\n",
        "\n",
        "1. __OBP__*(On Base Percentage)* and __HomeGame__ are two most effective stats for Boston Red Sox, to enhance winning probability in 2019\n",
        "2. It's important for Red Sox to develop tactics to redeem **OBP** as **R**(run), cause **LOB**_(Left on Base)_ doesn't contribute to winning probablity a lot, yet **score** does  \n",
        "3. Win as many as games in regular season to accumulate **Home Advantage** for series during play-off"
      ]
    }
  ]
}