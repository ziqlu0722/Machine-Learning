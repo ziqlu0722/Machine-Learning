{
  "nbformat": 4,
  "nbformat_minor": 0,
  "metadata": {
    "colab": {
      "name": "GradientDescent-Newton's Method.ipynb",
      "version": "0.3.2",
      "provenance": [],
      "collapsed_sections": [],
      "include_colab_link": true
    },
    "kernelspec": {
      "name": "python3",
      "display_name": "Python 3"
    }
  },
  "cells": [
    {
      "cell_type": "markdown",
      "metadata": {
        "id": "view-in-github",
        "colab_type": "text"
      },
      "source": [
        "<a href=\"https://colab.research.google.com/github/ziqlu0722/Machine-Learning/blob/master/GradientDescent_Newton's_Method.ipynb\" target=\"_parent\"><img src=\"https://colab.research.google.com/assets/colab-badge.svg\" alt=\"Open In Colab\"/></a>"
      ]
    },
    {
      "cell_type": "code",
      "metadata": {
        "id": "Fxln_chFfTgK",
        "colab_type": "code",
        "colab": {}
      },
      "source": [
        "from scipy import misc  "
      ],
      "execution_count": 0,
      "outputs": []
    },
    {
      "cell_type": "code",
      "metadata": {
        "id": "lPwWpJ-0r2_F",
        "colab_type": "code",
        "colab": {}
      },
      "source": [
        "def newtonsMethod(f, X, tolerance = 0.00001):\n",
        "  \n",
        "  print('Newtons Method:')\n",
        "\n",
        "  n = 0\n",
        "  while True: \n",
        "    d1 = misc.derivative(f, X, n=1)\n",
        "    d2 = misc.derivative(f, X, n=2)\n",
        "    X_new = X - d1/d2\n",
        "    t = abs(X_new - X)\n",
        "    if t < tolerance:\n",
        "      break\n",
        "    X = X_new\n",
        "    n += 1\n",
        "    print('iteration: {} ---- x value: {} ---- y value: {}'.format(n, X_new, f(X_new)))\n",
        "      \n",
        "  return X\n",
        "\n",
        "\n",
        "def gd(f, X, tolerance = 0.00001, lr = 0.1):\n",
        "  \n",
        "  print('Gradient Descent:')\n",
        "  \n",
        "  n = 0\n",
        "  while True: \n",
        "    d1 = misc.derivative(f, X, n=1)\n",
        "    X_new = X - d1 * lr\n",
        "    t = abs(X_new - X)\n",
        "    if t < tolerance:\n",
        "      break\n",
        "    X = X_new\n",
        "    n += 1\n",
        "    print('iteration: {} ---- x value: {} ---- y value: {}'.format(n, X_new, f(X_new)))\n",
        "\n",
        "  return X\n",
        "\n",
        "\n",
        "def f(x):\n",
        "  \n",
        "  return x**2-2*x-4"
      ],
      "execution_count": 0,
      "outputs": []
    },
    {
      "cell_type": "code",
      "metadata": {
        "id": "VTCbqY6fr03P",
        "colab_type": "code",
        "colab": {
          "base_uri": "https://localhost:8080/",
          "height": 68
        },
        "outputId": "edb62124-1e11-4612-c29d-0eff102793fd"
      },
      "source": [
        "X = 400.\n",
        "\n",
        "newtonsMethod(f, X)"
      ],
      "execution_count": 55,
      "outputs": [
        {
          "output_type": "stream",
          "text": [
            "Newtons Method:\n",
            "iteration: 1 ---- x value: 1.0 ---- y value: -5.0\n"
          ],
          "name": "stdout"
        },
        {
          "output_type": "execute_result",
          "data": {
            "text/plain": [
              "1.0"
            ]
          },
          "metadata": {
            "tags": []
          },
          "execution_count": 55
        }
      ]
    },
    {
      "cell_type": "code",
      "metadata": {
        "id": "YPqUgWdgzmbw",
        "colab_type": "code",
        "colab": {
          "base_uri": "https://localhost:8080/",
          "height": 1000
        },
        "outputId": "b280aee0-e70e-423e-e99b-fd927771c98b"
      },
      "source": [
        "gd(f, X)"
      ],
      "execution_count": 56,
      "outputs": [
        {
          "output_type": "stream",
          "text": [
            "Gradient Descent:\n",
            "iteration: 1 ---- x value: 320.2 ---- y value: 101883.64\n",
            "iteration: 2 ---- x value: 256.3600000000006 ---- y value: 65203.7296000003\n",
            "iteration: 3 ---- x value: 205.28800000000047 ---- y value: 41728.58694400019\n",
            "iteration: 4 ---- x value: 164.43040000000036 ---- y value: 26704.495644160117\n",
            "iteration: 5 ---- x value: 131.74432000000033 ---- y value: 17089.077212262488\n",
            "iteration: 6 ---- x value: 105.59545600000037 ---- y value: 10935.209415848014\n",
            "iteration: 7 ---- x value: 84.67636480000027 ---- y value: 6996.734026142725\n",
            "iteration: 8 ---- x value: 67.94109184000021 ---- y value: 4476.109776731342\n",
            "iteration: 9 ---- x value: 54.552873472000186 ---- y value: 2862.9102571080616\n",
            "iteration: 10 ---- x value: 43.84229877760014 ---- y value: 1830.4625645491585\n",
            "iteration: 11 ---- x value: 35.27383902208011 ---- y value: 1169.6960413114614\n",
            "iteration: 12 ---- x value: 28.41907121766409 ---- y value: 746.8054664393353\n",
            "iteration: 13 ---- x value: 22.935256974131274 ---- y value: 476.15549852117465\n",
            "iteration: 14 ---- x value: 18.54820557930502 ---- y value: 302.93951905355186\n",
            "iteration: 15 ---- x value: 15.038564463444018 ---- y value: 192.08129219427323\n",
            "iteration: 16 ---- x value: 12.230851570755213 ---- y value: 121.13202700433483\n",
            "iteration: 17 ---- x value: 9.984681256604171 ---- y value: 75.72449728277431\n",
            "iteration: 18 ---- x value: 8.187745005283336 ---- y value: 46.66367826097555\n",
            "iteration: 19 ---- x value: 6.750196004226669 ---- y value: 28.064754087024347\n",
            "iteration: 20 ---- x value: 5.600156803381335 ---- y value: 16.16144261569558\n",
            "iteration: 21 ---- x value: 4.680125442705068 ---- y value: 8.543323274045171\n",
            "iteration: 22 ---- x value: 3.944100354164054 ---- y value: 3.667726895388907\n",
            "iteration: 23 ---- x value: 3.355280283331243 ---- y value: 0.5473452130489003\n",
            "iteration: 24 ---- x value: 2.884224226664994 ---- y value: -1.4496990636487048\n",
            "iteration: 25 ---- x value: 2.507379381331995 ---- y value: -2.7278074007351716\n",
            "iteration: 26 ---- x value: 2.205903505065596 ---- y value: -3.5457967364705096\n",
            "iteration: 27 ---- x value: 1.964722804052477 ---- y value: -4.069309911341126\n",
            "iteration: 28 ---- x value: 1.7717782432419815 ---- y value: -4.404358343258321\n",
            "iteration: 29 ---- x value: 1.6174225945935852 ---- y value: -4.618789339685325\n",
            "iteration: 30 ---- x value: 1.4939380756748681 ---- y value: -4.756025177398609\n",
            "iteration: 31 ---- x value: 1.3951504605398946 ---- y value: -4.843856113535109\n",
            "iteration: 32 ---- x value: 1.3161203684319156 ---- y value: -4.90006791266247\n",
            "iteration: 33 ---- x value: 1.2528962947455324 ---- y value: -4.936043464103981\n",
            "iteration: 34 ---- x value: 1.202317035796426 ---- y value: -4.959067817026548\n",
            "iteration: 35 ---- x value: 1.1618536286371408 ---- y value: -4.973803402896991\n",
            "iteration: 36 ---- x value: 1.1294829029097126 ---- y value: -4.983234177854074\n",
            "iteration: 37 ---- x value: 1.1035863223277702 ---- y value: -4.989269873826608\n",
            "iteration: 38 ---- x value: 1.0828690578622162 ---- y value: -4.9931327192490285\n",
            "iteration: 39 ---- x value: 1.066295246289773 ---- y value: -4.995604940319378\n",
            "iteration: 40 ---- x value: 1.0530361970318185 ---- y value: -4.997187161804402\n",
            "iteration: 41 ---- x value: 1.0424289576254548 ---- y value: -4.998199783554817\n",
            "iteration: 42 ---- x value: 1.033943166100364 ---- y value: -4.998847861475083\n",
            "iteration: 43 ---- x value: 1.0271545328802911 ---- y value: -4.999262631344053\n",
            "iteration: 44 ---- x value: 1.0217236263042329 ---- y value: -4.999528084060194\n",
            "iteration: 45 ---- x value: 1.0173789010433862 ---- y value: -4.999697973798524\n",
            "iteration: 46 ---- x value: 1.013903120834709 ---- y value: -4.999806703231055\n",
            "iteration: 47 ---- x value: 1.0111224966677672 ---- y value: -4.999876290067876\n",
            "iteration: 48 ---- x value: 1.0088979973342138 ---- y value: -4.99992082564344\n",
            "iteration: 49 ---- x value: 1.007118397867371 ---- y value: -4.999949328411802\n",
            "iteration: 50 ---- x value: 1.0056947182938967 ---- y value: -4.9999675701835535\n",
            "iteration: 51 ---- x value: 1.0045557746351175 ---- y value: -4.9999792449174745\n",
            "iteration: 52 ---- x value: 1.003644619708094 ---- y value: -4.999986716747183\n",
            "iteration: 53 ---- x value: 1.002915695766475 ---- y value: -4.999991498718197\n",
            "iteration: 54 ---- x value: 1.00233255661318 ---- y value: -4.999994559179647\n",
            "iteration: 55 ---- x value: 1.001866045290544 ---- y value: -4.9999965178749735\n",
            "iteration: 56 ---- x value: 1.0014928362324351 ---- y value: -4.999997771439983\n",
            "iteration: 57 ---- x value: 1.001194268985948 ---- y value: -4.999998573721589\n",
            "iteration: 58 ---- x value: 1.0009554151887585 ---- y value: -4.999999087181817\n",
            "iteration: 59 ---- x value: 1.000764332151007 ---- y value: -4.999999415796363\n",
            "iteration: 60 ---- x value: 1.0006114657208056 ---- y value: -4.999999626109672\n",
            "iteration: 61 ---- x value: 1.0004891725766445 ---- y value: -4.999999760710191\n",
            "iteration: 62 ---- x value: 1.0003913380613156 ---- y value: -4.9999998468545215\n",
            "iteration: 63 ---- x value: 1.0003130704490526 ---- y value: -4.999999901986894\n",
            "iteration: 64 ---- x value: 1.000250456359242 ---- y value: -4.999999937271612\n",
            "iteration: 65 ---- x value: 1.0002003650873936 ---- y value: -4.999999959853832\n",
            "iteration: 66 ---- x value: 1.0001602920699149 ---- y value: -4.999999974306452\n",
            "iteration: 67 ---- x value: 1.0001282336559318 ---- y value: -4.99999998355613\n",
            "iteration: 68 ---- x value: 1.0001025869247455 ---- y value: -4.999999989475922\n",
            "iteration: 69 ---- x value: 1.0000820695397965 ---- y value: -4.99999999326459\n",
            "iteration: 70 ---- x value: 1.0000656556318372 ---- y value: -4.999999995689338\n",
            "iteration: 71 ---- x value: 1.0000525245054699 ---- y value: -4.999999997241177\n",
            "iteration: 72 ---- x value: 1.000042019604376 ---- y value: -4.999999998234353\n"
          ],
          "name": "stdout"
        },
        {
          "output_type": "execute_result",
          "data": {
            "text/plain": [
              "1.000042019604376"
            ]
          },
          "metadata": {
            "tags": []
          },
          "execution_count": 56
        }
      ]
    },
    {
      "cell_type": "code",
      "metadata": {
        "id": "g_WDn3NO3fTR",
        "colab_type": "code",
        "colab": {}
      },
      "source": [
        ""
      ],
      "execution_count": 0,
      "outputs": []
    }
  ]
}